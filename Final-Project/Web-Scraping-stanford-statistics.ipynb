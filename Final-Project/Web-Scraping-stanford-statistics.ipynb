{
 "cells": [
  {
   "cell_type": "markdown",
   "id": "a07478a8",
   "metadata": {},
   "source": [
    "# Taking data out of just one course"
   ]
  },
  {
   "cell_type": "code",
   "execution_count": 1,
   "id": "2c913f49",
   "metadata": {},
   "outputs": [],
   "source": [
    "#  import libraries\n",
    "from bs4 import BeautifulSoup\n",
    "import requests\n",
    "from time import sleep\n",
    "from random import randint\n",
    "import pandas as pd"
   ]
  },
  {
   "cell_type": "code",
   "execution_count": 86,
   "id": "fb1d2e5f",
   "metadata": {},
   "outputs": [],
   "source": [
    "response = requests.get('https://www.coursera.org/learn/fluid-power')\n",
    "soup = BeautifulSoup(response.content, 'html.parser')"
   ]
  },
  {
   "cell_type": "code",
   "execution_count": 87,
   "id": "2ac53a62",
   "metadata": {},
   "outputs": [
    {
     "data": {
      "text/plain": [
       "200"
      ]
     },
     "execution_count": 87,
     "metadata": {},
     "output_type": "execute_result"
    }
   ],
   "source": [
    "# download html with a request, check response code \n",
    "response.status_code"
   ]
  },
  {
   "cell_type": "code",
   "execution_count": 88,
   "id": "8f9f7839",
   "metadata": {},
   "outputs": [],
   "source": [
    "l = soup.find_all(\"a\", {\"class\": \"_1rzw47j\"})"
   ]
  },
  {
   "cell_type": "code",
   "execution_count": 90,
   "id": "2770bf20",
   "metadata": {},
   "outputs": [],
   "source": [
    "syl = soup.find_all(\"div\", {\"class\": \"_wmgtrl9 m-y-2\"})"
   ]
  },
  {
   "cell_type": "code",
   "execution_count": 91,
   "id": "8ee3ff5f",
   "metadata": {},
   "outputs": [],
   "source": [
    "about = soup.find_all(\"div\", {\"class\": \"content-inner\"})[0].text"
   ]
  },
  {
   "cell_type": "code",
   "execution_count": 92,
   "id": "99cba1e3",
   "metadata": {},
   "outputs": [],
   "source": [
    "# description of each module\n",
    "desc = str()\n",
    "for i in soup.select(\"div._wmgtrl9 > div > div > div > p\"):\n",
    "    desc += i.text"
   ]
  },
  {
   "cell_type": "code",
   "execution_count": 93,
   "id": "e071f705",
   "metadata": {},
   "outputs": [],
   "source": [
    "syllabus = desc\n",
    "for i in syl:\n",
    "    try:\n",
    "       # print(i.contents[0].text)\n",
    "        syllabus += ', '+ i.contents[0].text\n",
    "    except: \n",
    "        #print(i.contents[0]) \n",
    "        syllabus +=  ', ' + i.contents[0]"
   ]
  },
  {
   "cell_type": "code",
   "execution_count": 94,
   "id": "d533fa99",
   "metadata": {},
   "outputs": [
    {
     "data": {
      "text/plain": [
       "'1,059 ratings'"
      ]
     },
     "execution_count": 94,
     "metadata": {},
     "output_type": "execute_result"
    }
   ],
   "source": [
    "no_of_ratings = soup.find_all('div',{\"class\":\"_wmgtrl9\"})[0].text\n",
    "no_of_ratings"
   ]
  },
  {
   "cell_type": "code",
   "execution_count": 95,
   "id": "5f6aa938",
   "metadata": {},
   "outputs": [
    {
     "data": {
      "text/plain": [
       "'1,059 ratings'"
      ]
     },
     "execution_count": 95,
     "metadata": {},
     "output_type": "execute_result"
    }
   ],
   "source": [
    "nu_of_ratings = soup.select('div > ul > li > a > div > div')[1].text\n",
    "nu_of_ratings"
   ]
  },
  {
   "cell_type": "code",
   "execution_count": 96,
   "id": "7cd926f2",
   "metadata": {},
   "outputs": [
    {
     "data": {
      "text/plain": [
       "'4.8stars'"
      ]
     },
     "execution_count": 96,
     "metadata": {},
     "output_type": "execute_result"
    }
   ],
   "source": [
    "rating = soup.select('div > ul > li > a > div > span')[0].text\n",
    "rating"
   ]
  },
  {
   "cell_type": "code",
   "execution_count": 97,
   "id": "63266e92",
   "metadata": {},
   "outputs": [],
   "source": [
    "category = soup.select('div._exc94g9 > div:nth-child(2) > a')[0].text + ' '+ soup.select('div._exc94g9 > div:nth-child(3) > a')[0].text"
   ]
  },
  {
   "cell_type": "code",
   "execution_count": 98,
   "id": "1d6c61e5",
   "metadata": {},
   "outputs": [],
   "source": [
    "name = soup.find_all('h1',{\"class\":\"banner-title banner-title-without--subtitle m-b-0\"})[0].text"
   ]
  },
  {
   "cell_type": "code",
   "execution_count": 99,
   "id": "79a6bb53",
   "metadata": {},
   "outputs": [
    {
     "data": {
      "text/plain": [
       "'Fundamentals of Fluid Power'"
      ]
     },
     "execution_count": 99,
     "metadata": {},
     "output_type": "execute_result"
    }
   ],
   "source": [
    "name"
   ]
  },
  {
   "cell_type": "code",
   "execution_count": 100,
   "id": "2fe13c82",
   "metadata": {},
   "outputs": [],
   "source": [
    "instructor = soup.select('div > ul > li > a > div > div._1qfi0x77 > span')[0].text"
   ]
  },
  {
   "cell_type": "code",
   "execution_count": 101,
   "id": "c62fd516",
   "metadata": {},
   "outputs": [],
   "source": [
    "hour = soup.find_all('div',{\"class\":\"_16ni8zai m-b-0 m-t-1s\"})[0].text"
   ]
  },
  {
   "cell_type": "code",
   "execution_count": 102,
   "id": "25f11ae9",
   "metadata": {},
   "outputs": [
    {
     "data": {
      "text/plain": [
       "'Approx. 19 hours to complete'"
      ]
     },
     "execution_count": 102,
     "metadata": {},
     "output_type": "execute_result"
    }
   ],
   "source": [
    "hour"
   ]
  },
  {
   "cell_type": "code",
   "execution_count": 103,
   "id": "74e5cfba",
   "metadata": {},
   "outputs": [],
   "source": [
    "level = soup.select('#main > div > div.rc-XdpSection.cdp-about > div > div > div > div._xliqh9g > div > div > div:nth-child(4) > div._1tu07i3a > div._16ni8zai.m-b-0')[0].text"
   ]
  },
  {
   "cell_type": "code",
   "execution_count": 104,
   "id": "b49e67ee",
   "metadata": {},
   "outputs": [
    {
     "data": {
      "text/plain": [
       "'Approx. 19 hours to complete'"
      ]
     },
     "execution_count": 104,
     "metadata": {},
     "output_type": "execute_result"
    }
   ],
   "source": [
    "level"
   ]
  },
  {
   "cell_type": "code",
   "execution_count": 105,
   "id": "5a553293",
   "metadata": {},
   "outputs": [
    {
     "data": {
      "text/plain": [
       "'38,755 already enrolled'"
      ]
     },
     "execution_count": 105,
     "metadata": {},
     "output_type": "execute_result"
    }
   ],
   "source": [
    "no_of_students=soup.find_all('div',{\"class\":\"_1fpiay2\"})[0].text\n",
    "no_of_students"
   ]
  },
  {
   "cell_type": "code",
   "execution_count": 106,
   "id": "7dc9040a",
   "metadata": {},
   "outputs": [
    {
     "data": {
      "text/plain": [
       "'Flexible deadlines'"
      ]
     },
     "execution_count": 106,
     "metadata": {},
     "output_type": "execute_result"
    }
   ],
   "source": [
    "language = soup.find_all('div',{'class':'_16ni8zai m-b-0'})[4].text\n",
    "language"
   ]
  },
  {
   "cell_type": "code",
   "execution_count": 114,
   "id": "1c467925",
   "metadata": {},
   "outputs": [
    {
     "data": {
      "text/plain": [
       "'English'"
      ]
     },
     "execution_count": 114,
     "metadata": {},
     "output_type": "execute_result"
    }
   ],
   "source": [
    "soup.select('#main > div > div.rc-XdpSection.cdp-about > div > div > div > div._xliqh9g > div > div > div:last-child > div._1tu07i3a > div._16ni8zai.m-b-0')[0].text"
   ]
  },
  {
   "cell_type": "code",
   "execution_count": 112,
   "id": "b6880c8f",
   "metadata": {},
   "outputs": [
    {
     "data": {
      "text/plain": [
       "[<div class=\"_16ni8zai m-b-0\">English</div>]"
      ]
     },
     "execution_count": 112,
     "metadata": {},
     "output_type": "execute_result"
    }
   ],
   "source": [
    "soup.select('#main > div > div.rc-XdpSection.cdp-about > div > div > div > div._xliqh9g > div > div > div:nth-child(5) > div._1tu07i3a > div._16ni8zai.m-b-0')"
   ]
  },
  {
   "cell_type": "code",
   "execution_count": 115,
   "id": "47d8bb54",
   "metadata": {},
   "outputs": [
    {
     "data": {
      "text/plain": [
       "[<span>1,059 ratings</span>]"
      ]
     },
     "execution_count": 115,
     "metadata": {},
     "output_type": "execute_result"
    }
   ],
   "source": [
    "soup.select('#main > div._iul6hq > div > div > div > ul > li > a > div > div._wmgtrl9.color-white.ratings-count-expertise-style > span > span')"
   ]
  },
  {
   "cell_type": "code",
   "execution_count": 116,
   "id": "cdec9096",
   "metadata": {},
   "outputs": [
    {
     "data": {
      "text/plain": [
       "[<span class=\"_16ni8zai m-b-0 rating-text number-rating number-rating-expertise\" data-test=\"number-star-rating\" style=\"color:#FFF\">4.8<div class=\"screenreader-only\">stars</div></span>]"
      ]
     },
     "execution_count": 116,
     "metadata": {},
     "output_type": "execute_result"
    }
   ],
   "source": [
    "soup.select('#main > div._iul6hq > div > div > div > ul > li > a > div > span')"
   ]
  },
  {
   "cell_type": "code",
   "execution_count": 120,
   "id": "b90b9e5b",
   "metadata": {},
   "outputs": [
    {
     "data": {
      "text/plain": [
       "'James D. Van De Ven, PhD'"
      ]
     },
     "execution_count": 120,
     "metadata": {},
     "output_type": "execute_result"
    }
   ],
   "source": [
    "soup.select('#main > div > div.rc-XdpSection.cdp-instructors > div > div > div:nth-child(2) > div > div > div > a > div > div._wtdnuob > h3')[0].text"
   ]
  },
  {
   "cell_type": "code",
   "execution_count": 40,
   "id": "c88eaac8",
   "metadata": {},
   "outputs": [],
   "source": [
    "course_name = []\n",
    "instructors = []\n",
    "hours = []\n",
    "levels = []\n",
    "categories = []\n",
    "noofstudents = []\n",
    "ratings = []\n",
    "noofrating = []\n",
    "abouts = []\n",
    "syllabuss = []\n",
    "languages = []"
   ]
  },
  {
   "cell_type": "code",
   "execution_count": 41,
   "id": "b00ed039",
   "metadata": {},
   "outputs": [],
   "source": [
    "course_name.append(name)\n",
    "instructors.append(instructor)\n",
    "hours.append(hour)\n",
    "levels.append(level)\n",
    "categories.append(category)\n",
    "noofstudents.append(no_of_students)\n",
    "ratings.append(rating)\n",
    "noofrating.append(no_of_ratings)\n",
    "abouts.append(about)\n",
    "syllabuss.append(syllabus)\n",
    "languages.append(language)"
   ]
  },
  {
   "cell_type": "code",
   "execution_count": 32,
   "id": "0284823f",
   "metadata": {},
   "outputs": [
    {
     "data": {
      "text/plain": [
       "['Guenther Walther ']"
      ]
     },
     "execution_count": 32,
     "metadata": {},
     "output_type": "execute_result"
    }
   ],
   "source": [
    "instructors"
   ]
  },
  {
   "cell_type": "code",
   "execution_count": 33,
   "id": "050dfcd7",
   "metadata": {},
   "outputs": [
    {
     "data": {
      "text/plain": [
       "['Approx. 15 hours to complete']"
      ]
     },
     "execution_count": 33,
     "metadata": {},
     "output_type": "execute_result"
    }
   ],
   "source": [
    "hours"
   ]
  },
  {
   "cell_type": "code",
   "execution_count": 42,
   "id": "b0d40dbe",
   "metadata": {},
   "outputs": [],
   "source": [
    "df = pd.DataFrame({'name':course_name,'instructor':instructors,'hours':hours,'level':levels,'category':categories,\n",
    "                           'no_of_students':noofstudents,\n",
    "                           'rating':ratings,'no_of_rating':noofrating,'about':abouts,'syllabus':syllabuss,'language':languages})"
   ]
  },
  {
   "cell_type": "code",
   "execution_count": 43,
   "id": "8a3025e9",
   "metadata": {},
   "outputs": [
    {
     "data": {
      "text/html": [
       "<div>\n",
       "<style scoped>\n",
       "    .dataframe tbody tr th:only-of-type {\n",
       "        vertical-align: middle;\n",
       "    }\n",
       "\n",
       "    .dataframe tbody tr th {\n",
       "        vertical-align: top;\n",
       "    }\n",
       "\n",
       "    .dataframe thead th {\n",
       "        text-align: right;\n",
       "    }\n",
       "</style>\n",
       "<table border=\"1\" class=\"dataframe\">\n",
       "  <thead>\n",
       "    <tr style=\"text-align: right;\">\n",
       "      <th></th>\n",
       "      <th>name</th>\n",
       "      <th>instructor</th>\n",
       "      <th>hours</th>\n",
       "      <th>level</th>\n",
       "      <th>category</th>\n",
       "      <th>no_of_students</th>\n",
       "      <th>rating</th>\n",
       "      <th>no_of_rating</th>\n",
       "      <th>about</th>\n",
       "      <th>syllabus</th>\n",
       "      <th>language</th>\n",
       "    </tr>\n",
       "  </thead>\n",
       "  <tbody>\n",
       "    <tr>\n",
       "      <th>0</th>\n",
       "      <td>Introduction to Statistics</td>\n",
       "      <td>Guenther Walther</td>\n",
       "      <td>Approx. 15 hours to complete</td>\n",
       "      <td>Beginner Level</td>\n",
       "      <td>Data Science Data Analysis</td>\n",
       "      <td>72,637 already enrolled</td>\n",
       "      <td>4.5stars</td>\n",
       "      <td>540 ratings</td>\n",
       "      <td>Stanford's \"Introduction to Statistics\" teache...</td>\n",
       "      <td>This module provides an overview of the course...</td>\n",
       "      <td>English</td>\n",
       "    </tr>\n",
       "  </tbody>\n",
       "</table>\n",
       "</div>"
      ],
      "text/plain": [
       "                         name         instructor  \\\n",
       "0  Introduction to Statistics  Guenther Walther    \n",
       "\n",
       "                          hours           level                    category  \\\n",
       "0  Approx. 15 hours to complete  Beginner Level  Data Science Data Analysis   \n",
       "\n",
       "            no_of_students    rating no_of_rating  \\\n",
       "0  72,637 already enrolled  4.5stars  540 ratings   \n",
       "\n",
       "                                               about  \\\n",
       "0  Stanford's \"Introduction to Statistics\" teache...   \n",
       "\n",
       "                                            syllabus language  \n",
       "0  This module provides an overview of the course...  English  "
      ]
     },
     "execution_count": 43,
     "metadata": {},
     "output_type": "execute_result"
    }
   ],
   "source": [
    "df"
   ]
  },
  {
   "cell_type": "code",
   "execution_count": 44,
   "id": "d585fdb0",
   "metadata": {},
   "outputs": [],
   "source": [
    "df.to_csv('stanford-statistics')"
   ]
  }
 ],
 "metadata": {
  "kernelspec": {
   "display_name": "Python 3 (ipykernel)",
   "language": "python",
   "name": "python3"
  },
  "language_info": {
   "codemirror_mode": {
    "name": "ipython",
    "version": 3
   },
   "file_extension": ".py",
   "mimetype": "text/x-python",
   "name": "python",
   "nbconvert_exporter": "python",
   "pygments_lexer": "ipython3",
   "version": "3.9.7"
  },
  "toc": {
   "base_numbering": 1,
   "nav_menu": {},
   "number_sections": true,
   "sideBar": true,
   "skip_h1_title": false,
   "title_cell": "Table of Contents",
   "title_sidebar": "Contents",
   "toc_cell": false,
   "toc_position": {},
   "toc_section_display": true,
   "toc_window_display": false
  }
 },
 "nbformat": 4,
 "nbformat_minor": 5
}
