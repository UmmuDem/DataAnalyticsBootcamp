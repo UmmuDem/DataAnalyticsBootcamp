{
 "cells": [
  {
   "cell_type": "code",
   "execution_count": 1,
   "id": "589fd568",
   "metadata": {
    "hide_input": true
   },
   "outputs": [],
   "source": [
    "from recommender import recommender"
   ]
  },
  {
   "cell_type": "markdown",
   "id": "d690db4e",
   "metadata": {
    "hide_input": false
   },
   "source": [
    "<h3 align=\"center\"><font size=\"6\">WELCOME COURSERA COURSE RECOMMENDER</font></h3> "
   ]
  },
  {
   "cell_type": "code",
   "execution_count": 12,
   "id": "6e81a1d4",
   "metadata": {
    "hide_input": false,
    "scrolled": false
   },
   "outputs": [
    {
     "name": "stdout",
     "output_type": "stream",
     "text": [
      "\n",
      "                        Welcome to the Coursera course recommender! (It contains only free courses.)\n",
      "                        Are you new here?(yes/no): yes\n",
      "\n",
      "                        I am glad you prefer studying today!\n",
      "                        What do you want to learn? Give me some keywords that are important for you: \n",
      "                        italian\n",
      "\u001b[1m\n",
      "                        We have five courses for you, choose according to your level: \n",
      "\u001b[1m \n",
      "                            Beginner Level: \n",
      "                            F̲i̲g̲h̲t̲i̲n̲g̲ ̲C̲o̲v̲i̲d̲-̲1̲9̲ ̲W̲i̲t̲h̲ ̲E̲p̲i̲d̲e̲m̲i̲o̲l̲o̲g̲y̲:̲ ̲A̲ ̲J̲o̲h̲n̲s̲ ̲H̲o̲p̲k̲i̲n̲s̲ ̲T̲e̲a̲c̲h̲-̲O̲u̲t \n",
      "                            by Gypsyamber D'Souza, PhD, MS, MPH.\n",
      "                            Here is the link of the course, you can dive into get an idea whether it fits your need \n",
      "                            https://www.coursera.org/learn/covid19-epidemiology\n",
      "                            \n",
      "\u001b[1m \n",
      "                            Intermediate Level: \n",
      "                            E̲x̲p̲l̲o̲r̲i̲n̲g̲ ̲B̲e̲e̲t̲h̲o̲v̲e̲n̲'̲S̲ ̲P̲i̲a̲n̲o̲ ̲S̲o̲n̲a̲t̲a̲s̲ ̲P̲a̲r̲t̲ ̲5 \n",
      "                            by Jonathan Biss.\n",
      "                            Here is the link of the course, you can dive into get an idea whether it fits your need \n",
      "                            https://www.coursera.org/learn/exploring-beethoven-piano-sonatas-5\n",
      "                            \n",
      "\u001b[1m \n",
      "                            Beginner Level: \n",
      "                            T̲h̲e̲ ̲C̲h̲a̲n̲g̲i̲n̲g̲ ̲L̲a̲n̲d̲s̲c̲a̲p̲e̲ ̲O̲f̲ ̲A̲n̲c̲i̲e̲n̲t̲ ̲R̲o̲m̲e̲.̲ ̲A̲r̲c̲h̲a̲e̲o̲l̲o̲g̲y̲ ̲A̲n̲d̲ ̲H̲i̲s̲t̲o̲r̲y̲ ̲O̲f̲ ̲T̲h̲e̲ ̲P̲a̲l̲a̲t̲i̲n̲e̲ ̲H̲i̲l̲l \n",
      "                            by Paolo Carafa.\n",
      "                            Here is the link of the course, you can dive into get an idea whether it fits your need \n",
      "                            https://www.coursera.org/learn/palatine-hill-archaeology-history\n",
      "                            \n",
      "\u001b[1m \n",
      "                            Beginner Level: \n",
      "                            R̲o̲m̲a̲n̲ ̲A̲r̲c̲h̲i̲t̲e̲c̲t̲u̲r̲e \n",
      "                            by Diana E.E. Kleiner.\n",
      "                            Here is the link of the course, you can dive into get an idea whether it fits your need \n",
      "                            https://www.coursera.org/learn/roman-architecture\n",
      "                            \n",
      "\u001b[1m \n",
      "                            Beginner Level: \n",
      "                            M̲e̲d̲i̲t̲a̲t̲i̲o̲n̲:̲ ̲A̲ ̲W̲a̲y̲ ̲T̲o̲ ̲A̲c̲h̲i̲e̲v̲e̲ ̲Y̲o̲u̲r̲ ̲G̲o̲a̲l̲s̲ ̲I̲n̲ ̲Y̲o̲u̲r̲ ̲L̲i̲f̲e \n",
      "                            by Duck-Joo Lee.\n",
      "                            Here is the link of the course, you can dive into get an idea whether it fits your need \n",
      "                            https://www.coursera.org/learn/self-reflection-meditation\n",
      "                            \n"
     ]
    }
   ],
   "source": [
    "recommender()"
   ]
  },
  {
   "cell_type": "code",
   "execution_count": null,
   "id": "97fb36d6",
   "metadata": {
    "hide_input": false
   },
   "outputs": [],
   "source": []
  }
 ],
 "metadata": {
  "kernelspec": {
   "display_name": "Python 3 (ipykernel)",
   "language": "python",
   "name": "python3"
  },
  "language_info": {
   "codemirror_mode": {
    "name": "ipython",
    "version": 3
   },
   "file_extension": ".py",
   "mimetype": "text/x-python",
   "name": "python",
   "nbconvert_exporter": "python",
   "pygments_lexer": "ipython3",
   "version": "3.9.7"
  },
  "toc": {
   "base_numbering": 1,
   "nav_menu": {},
   "number_sections": false,
   "sideBar": true,
   "skip_h1_title": true,
   "title_cell": "Table of Contents",
   "title_sidebar": "Contents",
   "toc_cell": false,
   "toc_position": {
    "height": "calc(100% - 180px)",
    "left": "10px",
    "top": "150px",
    "width": "165px"
   },
   "toc_section_display": true,
   "toc_window_display": false
  }
 },
 "nbformat": 4,
 "nbformat_minor": 5
}
