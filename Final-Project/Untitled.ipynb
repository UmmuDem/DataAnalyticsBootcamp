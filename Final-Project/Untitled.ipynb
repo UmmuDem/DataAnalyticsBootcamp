{
 "cells": [
  {
   "cell_type": "code",
   "execution_count": 1,
   "id": "d7380fc9",
   "metadata": {},
   "outputs": [],
   "source": [
    "# data cleaning and EDA\n",
    "import pandas as pd\n",
    "import numpy as np\n",
    "import seaborn as sns\n",
    "import matplotlib.pyplot as plt\n",
    "# build a model\n",
    "from sklearn.preprocessing import OneHotEncoder\n",
    "from sklearn.cluster import KMeans\n",
    "from sklearn.preprocessing import StandardScaler\n",
    "# text analysis\n",
    "import nltk \n",
    "from nltk.corpus import stopwords\n",
    "from nltk.tokenize import word_tokenize\n",
    "#from textblob import TextBlob"
   ]
  },
  {
   "cell_type": "code",
   "execution_count": 2,
   "id": "ca285d6c",
   "metadata": {},
   "outputs": [],
   "source": [
    "df = pd.read_csv('clean_data.csv')"
   ]
  },
  {
   "cell_type": "code",
   "execution_count": 3,
   "id": "641fcbe9",
   "metadata": {},
   "outputs": [],
   "source": [
    "stop_words = set(stopwords.words('english'))"
   ]
  },
  {
   "cell_type": "code",
   "execution_count": 4,
   "id": "df855288",
   "metadata": {},
   "outputs": [
    {
     "data": {
      "text/plain": [
       "179"
      ]
     },
     "execution_count": 4,
     "metadata": {},
     "output_type": "execute_result"
    }
   ],
   "source": [
    "len(stop_words)"
   ]
  },
  {
   "cell_type": "code",
   "execution_count": 5,
   "id": "c788ca2f",
   "metadata": {},
   "outputs": [],
   "source": [
    "df['clean_syl']=df['syllabus'].apply(lambda x: ' '.join([word for word in x.split() if word not in (stop_words)]))"
   ]
  },
  {
   "cell_type": "code",
   "execution_count": 16,
   "id": "5d25abe8",
   "metadata": {},
   "outputs": [
    {
     "name": "stderr",
     "output_type": "stream",
     "text": [
      "/var/folders/3m/b1x35fxn7hgf_dq414qzm96w0000gn/T/ipykernel_1985/3666148806.py:1: FutureWarning: The default value of regex will change from True to False in a future version.\n",
      "  df['clean_syl']=df['clean_syl'].str.replace(r\"[^\\w\\s]?\",\"\")\n"
     ]
    }
   ],
   "source": [
    "df['clean_syl']=df['clean_syl'].str.replace(r\"[^\\w\\s]?\",\"\")"
   ]
  },
  {
   "cell_type": "code",
   "execution_count": 17,
   "id": "7499e5f5",
   "metadata": {},
   "outputs": [
    {
     "data": {
      "text/plain": [
       "'Self reflection methodology meditation growth happiness human completion 1 Why need selfreflection 2 Academic research selfreflection 3 Draw life graph 4 Ultimate purpose selfreflection Learn principle selfreflection practice selfreflection 5 subjects  1 Methodology selfreflection 2 Practice selfreflection 5 essential subjects barrier relationships inferiority ego childhood emotion love hatred since childhood worries response problems 3 My past life current self Recognize copied world real world think living free self 1 Principle mind formation 2 Human recognition observed philosophers neuroscientists 3 Understanding reasons cannot live way 4 Human mind Original mind Learn practice methodology mind cleansing 1 Do want change yourself 2 Methodology mind cleansing 3 Repetition selfreflection 5 essential subjects 4 Real potential positive mind Learn practice methodology selfreflection mind cleansing everyday life 1Stress impetus growth 2 Case study overcoming self 3 Healthmind relationship brain wave changes 4 Meaning selfreflection mind cleansing life Lets start peaceful life wisdom 1 Draw life graph again 2People school office practicing selfreflection continuously 3 Meaning selfreflection social aspects through reflections communication relationships 4 Starting point peaceful life wisdom Introduction 11 What goal life 13 Draw life graph 15 Human completion 16 Ultimate Purpose Human Completion Week 1 Self Reflection Meditation Session  Opinions previous online meditation learners 12 Literature Selfreflection  14 Self Leadership  17 Self Reflection World Peace Lecture slides week 1 Quiz Week 1 21 Inner power recovered selfreflection Interview scholar education 22 How much I know self 23 Exercise selfreflection 24 Practice selfreflection relationships 25 Practice selfreflection myself 26 Practice selfreflection emotions love hatred 27 Practice selfreflection worries 28 Practice selfreflection response 29 Your current state  Future want Lecture material week 2 Quiz Week 2 31 My mind world 32 Human recognition observed philosophers 33 Human recognition observed neuroscientists 34 Interview neuroscientist 35 Human illusion 36 Principle mind formation 37 Human mind  Original mind 38 Understanding reasons cant live free will Lecture material week 3 Quiz Week 3 41 Do want change yourself 1 42 Do want change yourself 2 43 Methodology mind cleansing 44 Your change 45 Repetition selfreflection  Pride 46 Repetition selfreflection  Human relationships 47 Repetition selfreflection  Love 48 Real potential positive mind Lecture material week 4 Quiz Week 4 51 Selfreflection ordinary life 52 Stress impetus growth 53 Case study overcoming self 54 Mind gravity 55 Healthmind relationship 56 Brain wave changes 57 Meaning selfreflection mind cleansing life Lecture material week 5 Quiz Week 5 61 Importance selfreflection meditation experts view 62 Practice subtraction chronologically 63 Meaning selfreflection social aspects subtraction relationships 64 Meaning selfreflection social aspects subtraction communication 65 People school practicing selfreflection continuously 66 People office practicing selfreflection continuously 67 Starting point peaceful life wisdom Lecture material week 6 Quiz Week 6'"
      ]
     },
     "execution_count": 17,
     "metadata": {},
     "output_type": "execute_result"
    }
   ],
   "source": [
    "df['clean_syl'][0]"
   ]
  },
  {
   "cell_type": "code",
   "execution_count": 18,
   "id": "7765155e",
   "metadata": {},
   "outputs": [],
   "source": [
    "df['clean_about']=df['about'].apply(lambda x: ' '.join([word for word in x.split() if word not in (stop_words)]))"
   ]
  },
  {
   "cell_type": "code",
   "execution_count": 20,
   "id": "3ddc8a41",
   "metadata": {},
   "outputs": [
    {
     "data": {
      "text/plain": [
       "'Do truly think lived ourselves? Perhaps lived money, love, fame, family pride etc.? Therefore, don’t seem satisfied even though full things. It don’t know ourselves.Eric Fromm talked human nature two modes being: “To Have” “To Be”. If “Having” nature possessions, satisfied, feel empty futile. Then, “Being” nature inner-selves? Sometimes, happened aware “Being” nature try change ourselves, fail. But, daily routines, it’s easily forgotten. And hard escape unwanted minds controlling us. From on, let us reflect look minds leading today! Don’t achieve goals knowing ourselves? And let us find “Being” nature original selves escaping minds restraining controlling us. In lecture, definition principle mind explained simple clear ways. You make sure practice methodology finding true original mind inner-self escaping false mind possession. Self-reflection first step meditate. You know objectively meditation realize thoughts actions due minds nonexistent false. If throw away false mind, find true mind. Meditation world-wide sensation. There many research reports show people leaders habit self-reflection meditation. Now meditation school workplace popular. Happiness worries. You really relax bundle thoughts successful know truly. Worries come memorized thoughts false mind. Your inner potential positive power revealed, peaceful happiest mind mind, live life wanted meditation. This method meditation practical everybody follow methodology. As engineer, I guide step step practice meditation. I sure lecture becomes turning point life.'"
      ]
     },
     "execution_count": 20,
     "metadata": {},
     "output_type": "execute_result"
    }
   ],
   "source": [
    "df['clean_about'][0]"
   ]
  },
  {
   "cell_type": "code",
   "execution_count": null,
   "id": "848ec97f",
   "metadata": {},
   "outputs": [],
   "source": []
  }
 ],
 "metadata": {
  "kernelspec": {
   "display_name": "Python 3 (ipykernel)",
   "language": "python",
   "name": "python3"
  },
  "language_info": {
   "codemirror_mode": {
    "name": "ipython",
    "version": 3
   },
   "file_extension": ".py",
   "mimetype": "text/x-python",
   "name": "python",
   "nbconvert_exporter": "python",
   "pygments_lexer": "ipython3",
   "version": "3.9.7"
  },
  "toc": {
   "base_numbering": 1,
   "nav_menu": {},
   "number_sections": true,
   "sideBar": true,
   "skip_h1_title": false,
   "title_cell": "Table of Contents",
   "title_sidebar": "Contents",
   "toc_cell": false,
   "toc_position": {},
   "toc_section_display": true,
   "toc_window_display": false
  }
 },
 "nbformat": 4,
 "nbformat_minor": 5
}
