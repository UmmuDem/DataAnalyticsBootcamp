{
 "cells": [
  {
   "cell_type": "markdown",
   "id": "a07478a8",
   "metadata": {},
   "source": [
    "# Coursera Web Scraping"
   ]
  },
  {
   "cell_type": "markdown",
   "id": "927e1e13",
   "metadata": {},
   "source": [
    "##  Import libraries\n",
    "\n",
    "**get instructor and number of hours**"
   ]
  },
  {
   "cell_type": "code",
   "execution_count": 1,
   "id": "2c913f49",
   "metadata": {},
   "outputs": [],
   "source": [
    "from bs4 import BeautifulSoup\n",
    "import requests\n",
    "from time import sleep\n",
    "from random import randint\n",
    "import pandas as pd\n",
    "import os\n",
    "import json\n",
    "import tqdm\n",
    "import random\n",
    "random.seed(42)"
   ]
  },
  {
   "cell_type": "markdown",
   "id": "717454ae",
   "metadata": {},
   "source": [
    "## Bring in Url List "
   ]
  },
  {
   "cell_type": "markdown",
   "id": "93fe9204",
   "metadata": {},
   "source": [
    "I obtained these url links by using **Web Scrapper** extension of google chrome because on coursera.org I couldn't get urls by using href tag. It gives me some other data also but I only use the link-href column from this dataframe."
   ]
  },
  {
   "cell_type": "code",
   "execution_count": 2,
   "id": "6eb0fccc",
   "metadata": {},
   "outputs": [],
   "source": [
    "urls = pd.read_csv('coursera.csv', delimiter = ';')"
   ]
  },
  {
   "cell_type": "code",
   "execution_count": 3,
   "id": "da48a0f2",
   "metadata": {},
   "outputs": [
    {
     "data": {
      "text/html": [
       "<div>\n",
       "<style scoped>\n",
       "    .dataframe tbody tr th:only-of-type {\n",
       "        vertical-align: middle;\n",
       "    }\n",
       "\n",
       "    .dataframe tbody tr th {\n",
       "        vertical-align: top;\n",
       "    }\n",
       "\n",
       "    .dataframe thead th {\n",
       "        text-align: right;\n",
       "    }\n",
       "</style>\n",
       "<table border=\"1\" class=\"dataframe\">\n",
       "  <thead>\n",
       "    <tr style=\"text-align: right;\">\n",
       "      <th></th>\n",
       "      <th>web-scraper-order</th>\n",
       "      <th>web-scraper-start-url</th>\n",
       "      <th>link</th>\n",
       "      <th>link-href</th>\n",
       "    </tr>\n",
       "  </thead>\n",
       "  <tbody>\n",
       "    <tr>\n",
       "      <th>0</th>\n",
       "      <td>1639224705-494</td>\n",
       "      <td>https://www.coursera.org/search?query=free&amp;pag...</td>\n",
       "      <td>Matrix Algebra for EngineersThe Hong Kong Univ...</td>\n",
       "      <td>https://www.coursera.org/learn/matrix-algebra-...</td>\n",
       "    </tr>\n",
       "    <tr>\n",
       "      <th>1</th>\n",
       "      <td>1639224662-348</td>\n",
       "      <td>https://www.coursera.org/search?query=free&amp;pag...</td>\n",
       "      <td>Budgeting essentials and developmentFundação I...</td>\n",
       "      <td>https://www.coursera.org/learn/budgeting-essen...</td>\n",
       "    </tr>\n",
       "    <tr>\n",
       "      <th>2</th>\n",
       "      <td>1639224613-177</td>\n",
       "      <td>https://www.coursera.org/search?query=free&amp;pag...</td>\n",
       "      <td>1.- El Cálculo - Modelo LinealTecnológico de M...</td>\n",
       "      <td>https://www.coursera.org/learn/calculo-1</td>\n",
       "    </tr>\n",
       "  </tbody>\n",
       "</table>\n",
       "</div>"
      ],
      "text/plain": [
       "  web-scraper-order                              web-scraper-start-url  \\\n",
       "0    1639224705-494  https://www.coursera.org/search?query=free&pag...   \n",
       "1    1639224662-348  https://www.coursera.org/search?query=free&pag...   \n",
       "2    1639224613-177  https://www.coursera.org/search?query=free&pag...   \n",
       "\n",
       "                                                link  \\\n",
       "0  Matrix Algebra for EngineersThe Hong Kong Univ...   \n",
       "1  Budgeting essentials and developmentFundação I...   \n",
       "2  1.- El Cálculo - Modelo LinealTecnológico de M...   \n",
       "\n",
       "                                           link-href  \n",
       "0  https://www.coursera.org/learn/matrix-algebra-...  \n",
       "1  https://www.coursera.org/learn/budgeting-essen...  \n",
       "2           https://www.coursera.org/learn/calculo-1  "
      ]
     },
     "execution_count": 3,
     "metadata": {},
     "output_type": "execute_result"
    }
   ],
   "source": [
    "urls.head(3)"
   ]
  },
  {
   "cell_type": "code",
   "execution_count": 4,
   "id": "b01e77f2",
   "metadata": {},
   "outputs": [],
   "source": [
    "url_list = list(urls['link-href'])   # to make the column iterable"
   ]
  },
  {
   "cell_type": "code",
   "execution_count": 5,
   "id": "0244ccb5",
   "metadata": {},
   "outputs": [
    {
     "data": {
      "text/plain": [
       "list"
      ]
     },
     "execution_count": 5,
     "metadata": {},
     "output_type": "execute_result"
    }
   ],
   "source": [
    "type(url_list)  "
   ]
  },
  {
   "cell_type": "code",
   "execution_count": 6,
   "id": "7f6416a7",
   "metadata": {},
   "outputs": [
    {
     "data": {
      "text/plain": [
       "1515"
      ]
     },
     "execution_count": 6,
     "metadata": {},
     "output_type": "execute_result"
    }
   ],
   "source": [
    "len(url_list)"
   ]
  },
  {
   "cell_type": "markdown",
   "id": "aa083124",
   "metadata": {},
   "source": [
    "## Web Scrape data from Coursera"
   ]
  },
  {
   "cell_type": "raw",
   "id": "5bbe860e",
   "metadata": {},
   "source": [
    "# This code is used to get the raw data as txt files.\n",
    "\n",
    "\n",
    "for ix,url in enumerate(tqdm.tqdm(url_list)):\n",
    "     response = requests.get(url)\n",
    "     #print(response.status_code)\n",
    "     with open('./raw_data_txt/{}.txt'.format(str(ix)), 'wb') as f:\n",
    "         f.write(response.content)\n",
    "     wait_time=randint(1,3)\n",
    "     sleep(wait_time)"
   ]
  },
  {
   "cell_type": "markdown",
   "id": "99b83bbf",
   "metadata": {},
   "source": [
    "## Parse the Raw Data"
   ]
  },
  {
   "cell_type": "code",
   "execution_count": 7,
   "id": "18c1d587",
   "metadata": {},
   "outputs": [],
   "source": [
    "ROOT = './raw_data_txt'"
   ]
  },
  {
   "cell_type": "code",
   "execution_count": 8,
   "id": "2fdc74fd",
   "metadata": {
    "scrolled": true
   },
   "outputs": [
    {
     "name": "stderr",
     "output_type": "stream",
     "text": [
      "100%|███████████████████████████████████████| 1515/1515 [01:32<00:00, 16.44it/s]\n"
     ]
    }
   ],
   "source": [
    "soups, paths = [], []\n",
    "for ix, path in enumerate(tqdm.tqdm(os.listdir(ROOT))):\n",
    "    raw_soup = open(os.path.join(ROOT, path), 'rb').read()\n",
    "    soup = BeautifulSoup(raw_soup, 'html.parser')\n",
    "    soups.append(soup)\n",
    "    paths.append(path)"
   ]
  },
  {
   "cell_type": "code",
   "execution_count": 36,
   "id": "18c1ee4f",
   "metadata": {},
   "outputs": [],
   "source": [
    "get_abouts(soups[1281])"
   ]
  },
  {
   "cell_type": "markdown",
   "id": "5bc7db0c",
   "metadata": {},
   "source": [
    "## Functions"
   ]
  },
  {
   "cell_type": "code",
   "execution_count": 9,
   "id": "8f54b6cb",
   "metadata": {},
   "outputs": [],
   "source": [
    "def get_course_name(soup):\n",
    "    name = None\n",
    "    if soup.find_all('h1',{\"class\":\"banner-title banner-title-without--subtitle m-b-0\"})!= []:\n",
    "        name = soup.find_all('h1',{\"class\":\"banner-title banner-title-without--subtitle m-b-0\"})[0].text\n",
    "        \n",
    "    elif soup.select('#rendered-content > div > div > div.rc-PdpPage > div:nth-child(4) > div:nth-child(1) > div > div > div > div > div > div._157odstq._vz5kef > div > div:nth-child(1) > div._kfriz5q > h1') != []:\n",
    "        name = soup.select('#rendered-content > div > div > div.rc-PdpPage > div:nth-child(4) > div:nth-child(1) > div > div > div > div > div > div._157odstq._vz5kef > div > div:nth-child(1) > div._kfriz5q > h1')[0].text\n",
    "    \n",
    "    return name\n"
   ]
  },
  {
   "cell_type": "code",
   "execution_count": 10,
   "id": "1b653a56",
   "metadata": {},
   "outputs": [],
   "source": [
    "def get_syllabus(soup):\n",
    "    syl = soup.find_all(\"div\", {\"class\": \"_wmgtrl9 m-y-2\"})\n",
    "        \n",
    "    desc = []\n",
    "        \n",
    "    for i in soup.select(\"div._wmgtrl9 > div > div > div > p\"):\n",
    "        desc.append(i.text)\n",
    "\n",
    "    for i in syl:\n",
    "        try:\n",
    "            # print(i.contents[0].text)\n",
    "            desc.append(i.contents[0].text)\n",
    "        except: \n",
    "            #print(i.contents[0]) \n",
    "            desc.append(i.contents[0])\n",
    "    return desc"
   ]
  },
  {
   "cell_type": "code",
   "execution_count": 11,
   "id": "09e2d694",
   "metadata": {},
   "outputs": [],
   "source": [
    "def get_abouts(soup):\n",
    "    try:\n",
    "        about = soup.find_all(\"div\", {\"class\": \"content-inner\"})[0].text\n",
    "    except:\n",
    "        about = None\n",
    "    return about"
   ]
  },
  {
   "cell_type": "code",
   "execution_count": 12,
   "id": "087b5b2c",
   "metadata": {},
   "outputs": [],
   "source": [
    "def get_no_of_ratings(soup):\n",
    "    no_of_ratings = None\n",
    "    if soup.find_all('div',{\"class\":\"_wmgtrl9\"}):\n",
    "        no_of_ratings = soup.find_all('div',{\"class\":\"_wmgtrl9\"})[0].text\n",
    "        #print(no_of_ratings)\n",
    "        if len(no_of_ratings)>15 or no_of_ratings == 'Week':\n",
    "            no_of_ratings = None\n",
    "    return no_of_ratings"
   ]
  },
  {
   "cell_type": "code",
   "execution_count": 37,
   "id": "c4d34a34",
   "metadata": {},
   "outputs": [],
   "source": [
    "get_no_of_ratings(soups[1281])"
   ]
  },
  {
   "cell_type": "code",
   "execution_count": 14,
   "id": "05f2bd85",
   "metadata": {},
   "outputs": [],
   "source": [
    "def get_rating(soup):\n",
    "    rating = soup.select('#main > div._iul6hq > div > div > div > ul > li > a > div > span')\n",
    "    if rating != []:\n",
    "        rating = rating[0].text\n",
    "    elif soup.select('#main > div._iul6hq > div > div > div > div > span') != []: \n",
    "        rating = soup.select('#main > div._iul6hq > div > div > div > div > span')[0].text\n",
    "    else: \n",
    "        rating = None\n",
    "    return rating"
   ]
  },
  {
   "cell_type": "code",
   "execution_count": 15,
   "id": "57bc000c",
   "metadata": {},
   "outputs": [],
   "source": [
    "def get_category(soup):\n",
    "    if soup.select('div._exc94g9 > div:nth-child(2) > a') != []:\n",
    "        category =  soup.select('div._exc94g9 > div:nth-child(2) > a')[0].text\n",
    "    else: \n",
    "        category = None\n",
    "    return category\n",
    "    \n",
    "    \n",
    "def get_subcategory(soup):\n",
    "    try:\n",
    "        subcategory = soup.select('div._exc94g9 > div:nth-child(3) > a')[0].text\n",
    "    except:\n",
    "        subcategory = None\n",
    "    return subcategory"
   ]
  },
  {
   "cell_type": "code",
   "execution_count": 16,
   "id": "fef57cb0",
   "metadata": {},
   "outputs": [],
   "source": [
    "def get_level(soup):\n",
    "    \n",
    "    for i in range(1,6):\n",
    "        lst = soup.select('#main > div > div.rc-XdpSection.cdp-about > div > div > div > div._xliqh9g > div > div > div:nth-child({}) > div._1tu07i3a > div._16ni8zai.m-b-0'.format(i))\n",
    "        #print(lst)\n",
    "        if lst:\n",
    "            level = lst[0].text if lst[0].text in ['Beginner Level','Intermediate Level','Advanced Level','Mixed Level'] else None\n",
    "            if level:\n",
    "                return level\n",
    "            "
   ]
  },
  {
   "cell_type": "code",
   "execution_count": 17,
   "id": "59dc0d0e",
   "metadata": {},
   "outputs": [],
   "source": [
    "def get_language(soup):\n",
    "    try:\n",
    "        language = soup.select('#main > div > div.rc-XdpSection.cdp-about > div > div > div > div._xliqh9g > div > div > div:last-child > div._1tu07i3a > div._16ni8zai.m-b-0')[0].text        \n",
    "    except:\n",
    "        language = None\n",
    "    return language"
   ]
  },
  {
   "cell_type": "code",
   "execution_count": 18,
   "id": "7f6c56ad",
   "metadata": {},
   "outputs": [],
   "source": [
    "def get_no_of_students(soup):\n",
    "    try:\n",
    "        no_of_students=soup.find_all('div',{\"class\":\"_1fpiay2\"})[0].text\n",
    "    except: \n",
    "        no_of_students = None\n",
    "    return no_of_students"
   ]
  },
  {
   "cell_type": "code",
   "execution_count": 51,
   "id": "097c075f",
   "metadata": {},
   "outputs": [],
   "source": [
    "def get_instructor(soup):\n",
    "    try:\n",
    "        instructor = soup.select('''#main > div > div.rc-XdpSection.cdp-instructors > \n",
    "                                div > div > div:nth-child(2) > div > div > div > a > \n",
    "                               div > div._wtdnuob > h3''')[0].text\n",
    "    except:\n",
    "        instructor = None\n",
    "    return instructor"
   ]
  },
  {
   "cell_type": "code",
   "execution_count": 78,
   "id": "a512af2e",
   "metadata": {},
   "outputs": [
    {
     "name": "stderr",
     "output_type": "stream",
     "text": [
      "100%|███████████████████████████████████████| 1515/1515 [03:26<00:00,  7.35it/s]\n"
     ]
    }
   ],
   "source": [
    "course_name = []\n",
    "instructors = []\n",
    "levels = []\n",
    "categories = []\n",
    "subcategories = []\n",
    "noofstudents = []\n",
    "ratings = []\n",
    "noofrating = []\n",
    "abouts = []\n",
    "syllabuss = []\n",
    "languages = []\n",
    "\n",
    "for ix, soup in enumerate(tqdm.tqdm(soups)):\n",
    "    \n",
    "        course_name.append(get_course_name(soup))\n",
    "        \n",
    "        instructors.append(get_instructor(soup))\n",
    "    \n",
    "        syllabuss.append(get_syllabus(soup))\n",
    "    \n",
    "        abouts.append(get_abouts(soup))\n",
    "        \n",
    "        noofrating.append(get_no_of_ratings(soup))\n",
    "        \n",
    "        ratings.append(get_rating(soup))\n",
    "        \n",
    "        categories.append(get_category(soup))\n",
    "        \n",
    "        subcategories.append(get_subcategory(soup))\n",
    "        \n",
    "        levels.append(get_level(soup))\n",
    "        \n",
    "        languages.append(get_language(soup))\n",
    "        \n",
    "        noofstudents.append(get_no_of_students(soup))"
   ]
  },
  {
   "cell_type": "code",
   "execution_count": 79,
   "id": "7b794fcf",
   "metadata": {},
   "outputs": [
    {
     "data": {
      "text/plain": [
       "1515"
      ]
     },
     "execution_count": 79,
     "metadata": {},
     "output_type": "execute_result"
    }
   ],
   "source": [
    "len(levels)"
   ]
  },
  {
   "cell_type": "code",
   "execution_count": 80,
   "id": "f8a1d812",
   "metadata": {},
   "outputs": [
    {
     "data": {
      "text/plain": [
       "1515"
      ]
     },
     "execution_count": 80,
     "metadata": {},
     "output_type": "execute_result"
    }
   ],
   "source": [
    "len(instructors)"
   ]
  },
  {
   "cell_type": "code",
   "execution_count": 81,
   "id": "42a99e02",
   "metadata": {},
   "outputs": [
    {
     "data": {
      "text/plain": [
       "1515"
      ]
     },
     "execution_count": 81,
     "metadata": {},
     "output_type": "execute_result"
    }
   ],
   "source": [
    "len(abouts)"
   ]
  },
  {
   "cell_type": "code",
   "execution_count": 82,
   "id": "84d34ba1",
   "metadata": {},
   "outputs": [
    {
     "data": {
      "text/plain": [
       "1515"
      ]
     },
     "execution_count": 82,
     "metadata": {},
     "output_type": "execute_result"
    }
   ],
   "source": [
    "len(categories)"
   ]
  },
  {
   "cell_type": "code",
   "execution_count": 83,
   "id": "5735d275",
   "metadata": {},
   "outputs": [
    {
     "data": {
      "text/plain": [
       "1515"
      ]
     },
     "execution_count": 83,
     "metadata": {},
     "output_type": "execute_result"
    }
   ],
   "source": [
    "len(ratings)"
   ]
  },
  {
   "cell_type": "code",
   "execution_count": 84,
   "id": "ddcae550",
   "metadata": {},
   "outputs": [
    {
     "data": {
      "text/plain": [
       "1515"
      ]
     },
     "execution_count": 84,
     "metadata": {},
     "output_type": "execute_result"
    }
   ],
   "source": [
    "len(noofrating)"
   ]
  },
  {
   "cell_type": "code",
   "execution_count": 85,
   "id": "daa42403",
   "metadata": {},
   "outputs": [
    {
     "data": {
      "text/plain": [
       "1515"
      ]
     },
     "execution_count": 85,
     "metadata": {},
     "output_type": "execute_result"
    }
   ],
   "source": [
    "len(syllabuss)"
   ]
  },
  {
   "cell_type": "code",
   "execution_count": 86,
   "id": "b4aaf184",
   "metadata": {},
   "outputs": [
    {
     "data": {
      "text/plain": [
       "1515"
      ]
     },
     "execution_count": 86,
     "metadata": {},
     "output_type": "execute_result"
    }
   ],
   "source": [
    "len(course_name)"
   ]
  },
  {
   "cell_type": "code",
   "execution_count": 87,
   "id": "64a37aa4",
   "metadata": {},
   "outputs": [
    {
     "data": {
      "text/plain": [
       "1515"
      ]
     },
     "execution_count": 87,
     "metadata": {},
     "output_type": "execute_result"
    }
   ],
   "source": [
    "len(languages)"
   ]
  },
  {
   "cell_type": "code",
   "execution_count": 88,
   "id": "0127dd21",
   "metadata": {},
   "outputs": [
    {
     "data": {
      "text/plain": [
       "1515"
      ]
     },
     "execution_count": 88,
     "metadata": {},
     "output_type": "execute_result"
    }
   ],
   "source": [
    "len(noofstudents)"
   ]
  },
  {
   "cell_type": "code",
   "execution_count": 89,
   "id": "3282dbc6",
   "metadata": {},
   "outputs": [],
   "source": [
    "df = pd.DataFrame({'name':course_name,'instructor':instructors,\n",
    "                   'level':levels,'category':categories, 'subcategory':subcategories, \n",
    "                   'no_of_students':noofstudents,\n",
    "                    'rating':ratings,'no_of_rating':noofrating,'about':abouts,'syllabus':syllabuss, \n",
    "                    'language':languages})\n"
   ]
  },
  {
   "cell_type": "code",
   "execution_count": 90,
   "id": "cb9960c6",
   "metadata": {},
   "outputs": [
    {
     "name": "stdout",
     "output_type": "stream",
     "text": [
      "<class 'pandas.core.frame.DataFrame'>\n",
      "RangeIndex: 1515 entries, 0 to 1514\n",
      "Data columns (total 11 columns):\n",
      " #   Column          Non-Null Count  Dtype \n",
      "---  ------          --------------  ----- \n",
      " 0   name            1513 non-null   object\n",
      " 1   instructor      1513 non-null   object\n",
      " 2   level           981 non-null    object\n",
      " 3   category        1513 non-null   object\n",
      " 4   subcategory     1513 non-null   object\n",
      " 5   no_of_students  1318 non-null   object\n",
      " 6   rating          1364 non-null   object\n",
      " 7   no_of_rating    1364 non-null   object\n",
      " 8   about           1513 non-null   object\n",
      " 9   syllabus        1515 non-null   object\n",
      " 10  language        1513 non-null   object\n",
      "dtypes: object(11)\n",
      "memory usage: 130.3+ KB\n"
     ]
    }
   ],
   "source": [
    "df.info()"
   ]
  },
  {
   "cell_type": "code",
   "execution_count": 91,
   "id": "e7121a5c",
   "metadata": {},
   "outputs": [
    {
     "data": {
      "text/plain": [
       "Beginner Level        691\n",
       "Intermediate Level    261\n",
       "Advanced Level         29\n",
       "Name: level, dtype: int64"
      ]
     },
     "execution_count": 91,
     "metadata": {},
     "output_type": "execute_result"
    }
   ],
   "source": [
    "df['level'].value_counts()   # empty cells will be filled by 'Mixed Level'"
   ]
  },
  {
   "cell_type": "markdown",
   "id": "7d181d7f",
   "metadata": {},
   "source": [
    "## Take only Courses in English"
   ]
  },
  {
   "cell_type": "code",
   "execution_count": 92,
   "id": "45cf58ef",
   "metadata": {},
   "outputs": [],
   "source": [
    "df_english = pd.DataFrame(df[df['language']=='English'], columns = df.columns)"
   ]
  },
  {
   "cell_type": "code",
   "execution_count": 93,
   "id": "5c41378d",
   "metadata": {},
   "outputs": [],
   "source": [
    "df_english.reset_index(drop=True, inplace=True)"
   ]
  },
  {
   "cell_type": "code",
   "execution_count": 94,
   "id": "28387925",
   "metadata": {},
   "outputs": [
    {
     "data": {
      "text/html": [
       "<div>\n",
       "<style scoped>\n",
       "    .dataframe tbody tr th:only-of-type {\n",
       "        vertical-align: middle;\n",
       "    }\n",
       "\n",
       "    .dataframe tbody tr th {\n",
       "        vertical-align: top;\n",
       "    }\n",
       "\n",
       "    .dataframe thead th {\n",
       "        text-align: right;\n",
       "    }\n",
       "</style>\n",
       "<table border=\"1\" class=\"dataframe\">\n",
       "  <thead>\n",
       "    <tr style=\"text-align: right;\">\n",
       "      <th></th>\n",
       "      <th>name</th>\n",
       "      <th>instructor</th>\n",
       "      <th>level</th>\n",
       "      <th>category</th>\n",
       "      <th>subcategory</th>\n",
       "      <th>no_of_students</th>\n",
       "      <th>rating</th>\n",
       "      <th>no_of_rating</th>\n",
       "      <th>about</th>\n",
       "      <th>syllabus</th>\n",
       "      <th>language</th>\n",
       "    </tr>\n",
       "  </thead>\n",
       "  <tbody>\n",
       "    <tr>\n",
       "      <th>0</th>\n",
       "      <td>Meditation: A way to achieve your goals in you...</td>\n",
       "      <td>Duck-Joo Lee</td>\n",
       "      <td>Beginner Level</td>\n",
       "      <td>Arts and Humanities</td>\n",
       "      <td>Philosophy</td>\n",
       "      <td>78,489 already enrolled</td>\n",
       "      <td>4.6stars</td>\n",
       "      <td>843 ratings</td>\n",
       "      <td>Do we truly think that we have lived for ourse...</td>\n",
       "      <td>[Self- reflection is the methodology of medita...</td>\n",
       "      <td>English</td>\n",
       "    </tr>\n",
       "    <tr>\n",
       "      <th>1</th>\n",
       "      <td>Introduction to the Arctic: Climate</td>\n",
       "      <td>Paul Myers, Ph.D</td>\n",
       "      <td>None</td>\n",
       "      <td>Physical Science and Engineering</td>\n",
       "      <td>Environmental Science and Sustainability</td>\n",
       "      <td>13,439 already enrolled</td>\n",
       "      <td>4.6stars</td>\n",
       "      <td>420 ratings</td>\n",
       "      <td>The University of Alberta, the University of T...</td>\n",
       "      <td>[This course is about the remarkable northern ...</td>\n",
       "      <td>English</td>\n",
       "    </tr>\n",
       "    <tr>\n",
       "      <th>2</th>\n",
       "      <td>Data Science in Stratified Healthcare and Prec...</td>\n",
       "      <td>Dr Areti Manataki</td>\n",
       "      <td>Intermediate Level</td>\n",
       "      <td>Data Science</td>\n",
       "      <td>Data Analysis</td>\n",
       "      <td>16,421 already enrolled</td>\n",
       "      <td>4.6stars</td>\n",
       "      <td>241 ratings</td>\n",
       "      <td>An increasing volume of data is becoming avail...</td>\n",
       "      <td>[Join us this week to find out how the course ...</td>\n",
       "      <td>English</td>\n",
       "    </tr>\n",
       "    <tr>\n",
       "      <th>3</th>\n",
       "      <td>How to Get Skilled: Introduction to Individual...</td>\n",
       "      <td>Dr. Valeri Chukhlomin</td>\n",
       "      <td>Intermediate Level</td>\n",
       "      <td>Personal Development</td>\n",
       "      <td>Personal Development</td>\n",
       "      <td>50,038 already enrolled</td>\n",
       "      <td>3.7stars</td>\n",
       "      <td>214 ratings</td>\n",
       "      <td>Do you want to gain a competitive edge on the ...</td>\n",
       "      <td>[The goal of the Module is to define individua...</td>\n",
       "      <td>English</td>\n",
       "    </tr>\n",
       "    <tr>\n",
       "      <th>4</th>\n",
       "      <td>Circular Economy - Sustainable Materials Manag...</td>\n",
       "      <td>Philip Peck</td>\n",
       "      <td>Beginner Level</td>\n",
       "      <td>Physical Science and Engineering</td>\n",
       "      <td>Environmental Science and Sustainability</td>\n",
       "      <td>37,682 already enrolled</td>\n",
       "      <td>4.8stars</td>\n",
       "      <td>1,136 ratings</td>\n",
       "      <td>This course looks at where important materials...</td>\n",
       "      <td>[This module explores sourcing of materials fr...</td>\n",
       "      <td>English</td>\n",
       "    </tr>\n",
       "  </tbody>\n",
       "</table>\n",
       "</div>"
      ],
      "text/plain": [
       "                                                name             instructor  \\\n",
       "0  Meditation: A way to achieve your goals in you...           Duck-Joo Lee   \n",
       "1                Introduction to the Arctic: Climate       Paul Myers, Ph.D   \n",
       "2  Data Science in Stratified Healthcare and Prec...      Dr Areti Manataki   \n",
       "3  How to Get Skilled: Introduction to Individual...  Dr. Valeri Chukhlomin   \n",
       "4  Circular Economy - Sustainable Materials Manag...            Philip Peck   \n",
       "\n",
       "                level                          category  \\\n",
       "0      Beginner Level               Arts and Humanities   \n",
       "1                None  Physical Science and Engineering   \n",
       "2  Intermediate Level                      Data Science   \n",
       "3  Intermediate Level              Personal Development   \n",
       "4      Beginner Level  Physical Science and Engineering   \n",
       "\n",
       "                                subcategory           no_of_students  \\\n",
       "0                                Philosophy  78,489 already enrolled   \n",
       "1  Environmental Science and Sustainability  13,439 already enrolled   \n",
       "2                             Data Analysis  16,421 already enrolled   \n",
       "3                      Personal Development  50,038 already enrolled   \n",
       "4  Environmental Science and Sustainability  37,682 already enrolled   \n",
       "\n",
       "     rating   no_of_rating                                              about  \\\n",
       "0  4.6stars    843 ratings  Do we truly think that we have lived for ourse...   \n",
       "1  4.6stars    420 ratings  The University of Alberta, the University of T...   \n",
       "2  4.6stars    241 ratings  An increasing volume of data is becoming avail...   \n",
       "3  3.7stars    214 ratings  Do you want to gain a competitive edge on the ...   \n",
       "4  4.8stars  1,136 ratings  This course looks at where important materials...   \n",
       "\n",
       "                                            syllabus language  \n",
       "0  [Self- reflection is the methodology of medita...  English  \n",
       "1  [This course is about the remarkable northern ...  English  \n",
       "2  [Join us this week to find out how the course ...  English  \n",
       "3  [The goal of the Module is to define individua...  English  \n",
       "4  [This module explores sourcing of materials fr...  English  "
      ]
     },
     "execution_count": 94,
     "metadata": {},
     "output_type": "execute_result"
    }
   ],
   "source": [
    "df_english.head()"
   ]
  },
  {
   "cell_type": "code",
   "execution_count": 95,
   "id": "d5dc82fa",
   "metadata": {},
   "outputs": [
    {
     "name": "stdout",
     "output_type": "stream",
     "text": [
      "<class 'pandas.core.frame.DataFrame'>\n",
      "RangeIndex: 1004 entries, 0 to 1003\n",
      "Data columns (total 11 columns):\n",
      " #   Column          Non-Null Count  Dtype \n",
      "---  ------          --------------  ----- \n",
      " 0   name            1004 non-null   object\n",
      " 1   instructor      1004 non-null   object\n",
      " 2   level           669 non-null    object\n",
      " 3   category        1004 non-null   object\n",
      " 4   subcategory     1004 non-null   object\n",
      " 5   no_of_students  922 non-null    object\n",
      " 6   rating          942 non-null    object\n",
      " 7   no_of_rating    942 non-null    object\n",
      " 8   about           1004 non-null   object\n",
      " 9   syllabus        1004 non-null   object\n",
      " 10  language        1004 non-null   object\n",
      "dtypes: object(11)\n",
      "memory usage: 86.4+ KB\n"
     ]
    }
   ],
   "source": [
    "df_english.info()"
   ]
  },
  {
   "cell_type": "code",
   "execution_count": 96,
   "id": "6fa6ce3c",
   "metadata": {},
   "outputs": [
    {
     "data": {
      "text/html": [
       "<div>\n",
       "<style scoped>\n",
       "    .dataframe tbody tr th:only-of-type {\n",
       "        vertical-align: middle;\n",
       "    }\n",
       "\n",
       "    .dataframe tbody tr th {\n",
       "        vertical-align: top;\n",
       "    }\n",
       "\n",
       "    .dataframe thead th {\n",
       "        text-align: right;\n",
       "    }\n",
       "</style>\n",
       "<table border=\"1\" class=\"dataframe\">\n",
       "  <thead>\n",
       "    <tr style=\"text-align: right;\">\n",
       "      <th></th>\n",
       "      <th>name</th>\n",
       "      <th>instructor</th>\n",
       "      <th>level</th>\n",
       "      <th>category</th>\n",
       "      <th>subcategory</th>\n",
       "      <th>no_of_students</th>\n",
       "      <th>rating</th>\n",
       "      <th>no_of_rating</th>\n",
       "      <th>about</th>\n",
       "      <th>syllabus</th>\n",
       "      <th>language</th>\n",
       "    </tr>\n",
       "  </thead>\n",
       "  <tbody>\n",
       "    <tr>\n",
       "      <th>8</th>\n",
       "      <td>Preparing for and Passing Technical Certificat...</td>\n",
       "      <td>Rachel Strong</td>\n",
       "      <td>Beginner Level</td>\n",
       "      <td>Personal Development</td>\n",
       "      <td>Personal Development</td>\n",
       "      <td>None</td>\n",
       "      <td>4.8stars</td>\n",
       "      <td>21 ratings</td>\n",
       "      <td>Technology provides you with great opportuniti...</td>\n",
       "      <td>[Technology provides you with great opportunit...</td>\n",
       "      <td>English</td>\n",
       "    </tr>\n",
       "    <tr>\n",
       "      <th>16</th>\n",
       "      <td>Community Awareness: Police Brutality in the U...</td>\n",
       "      <td>Teach-Out Experts</td>\n",
       "      <td>Beginner Level</td>\n",
       "      <td>Social Sciences</td>\n",
       "      <td>Governance and Society</td>\n",
       "      <td>None</td>\n",
       "      <td>None</td>\n",
       "      <td>None</td>\n",
       "      <td>The tragic deaths of George Floyd, Breonna Tay...</td>\n",
       "      <td>[An introductory history to the roots of moder...</td>\n",
       "      <td>English</td>\n",
       "    </tr>\n",
       "    <tr>\n",
       "      <th>26</th>\n",
       "      <td>Patient Perspectives on Medications: Qualitati...</td>\n",
       "      <td>Susanne Kaae</td>\n",
       "      <td>Intermediate Level</td>\n",
       "      <td>Health</td>\n",
       "      <td>Patient Care</td>\n",
       "      <td>None</td>\n",
       "      <td>None</td>\n",
       "      <td>None</td>\n",
       "      <td>This course teaches you how to explore the pat...</td>\n",
       "      <td>[This module starts with a presentation of the...</td>\n",
       "      <td>English</td>\n",
       "    </tr>\n",
       "    <tr>\n",
       "      <th>38</th>\n",
       "      <td>Formation COVID-19 pour personnels de santé</td>\n",
       "      <td>Matthew Strehlow</td>\n",
       "      <td>None</td>\n",
       "      <td>Health</td>\n",
       "      <td>Patient Care</td>\n",
       "      <td>None</td>\n",
       "      <td>4.5stars</td>\n",
       "      <td>11 ratings</td>\n",
       "      <td>La COVID-19 se propage rapidement à travers le...</td>\n",
       "      <td>[Dans ce module, vous allez apprendre les sign...</td>\n",
       "      <td>English</td>\n",
       "    </tr>\n",
       "    <tr>\n",
       "      <th>64</th>\n",
       "      <td>Why Iowa? A Primer on Primaries and Caucuses T...</td>\n",
       "      <td>Faculty Experts</td>\n",
       "      <td>Beginner Level</td>\n",
       "      <td>Social Sciences</td>\n",
       "      <td>Governance and Society</td>\n",
       "      <td>None</td>\n",
       "      <td>None</td>\n",
       "      <td>None</td>\n",
       "      <td>The United States presidential election proces...</td>\n",
       "      <td>[, What is a Teach-Out?, Welcome to the Why Io...</td>\n",
       "      <td>English</td>\n",
       "    </tr>\n",
       "    <tr>\n",
       "      <th>...</th>\n",
       "      <td>...</td>\n",
       "      <td>...</td>\n",
       "      <td>...</td>\n",
       "      <td>...</td>\n",
       "      <td>...</td>\n",
       "      <td>...</td>\n",
       "      <td>...</td>\n",
       "      <td>...</td>\n",
       "      <td>...</td>\n",
       "      <td>...</td>\n",
       "      <td>...</td>\n",
       "    </tr>\n",
       "    <tr>\n",
       "      <th>953</th>\n",
       "      <td>Exploring Basic Income in a Changing Economy T...</td>\n",
       "      <td>Luke Shaefer</td>\n",
       "      <td>Beginner Level</td>\n",
       "      <td>Business</td>\n",
       "      <td>Finance</td>\n",
       "      <td>None</td>\n",
       "      <td>None</td>\n",
       "      <td>None</td>\n",
       "      <td>The United States social safety net is a compl...</td>\n",
       "      <td>[, , What is a Teach-Out?, Introduction: Luke ...</td>\n",
       "      <td>English</td>\n",
       "    </tr>\n",
       "    <tr>\n",
       "      <th>973</th>\n",
       "      <td>1C:Enterprise Junior Developer Course</td>\n",
       "      <td>Anton Shviykovskiy</td>\n",
       "      <td>Beginner Level</td>\n",
       "      <td>Computer Science</td>\n",
       "      <td>Software Development</td>\n",
       "      <td>None</td>\n",
       "      <td>None</td>\n",
       "      <td>None</td>\n",
       "      <td>Completing this first level will enable you to...</td>\n",
       "      <td>[Acquaintance with the basic capabilities of t...</td>\n",
       "      <td>English</td>\n",
       "    </tr>\n",
       "    <tr>\n",
       "      <th>988</th>\n",
       "      <td>LGBTQ Pride: From Origins to Evolution Teach-Out</td>\n",
       "      <td>Spectrum Center</td>\n",
       "      <td>Beginner Level</td>\n",
       "      <td>Arts and Humanities</td>\n",
       "      <td>Philosophy</td>\n",
       "      <td>None</td>\n",
       "      <td>4.7stars</td>\n",
       "      <td>46 ratings</td>\n",
       "      <td>At its origin in the late 60s and early 70s, P...</td>\n",
       "      <td>[, What is a Teach-Out?, Welcome to the LGBTQ ...</td>\n",
       "      <td>English</td>\n",
       "    </tr>\n",
       "    <tr>\n",
       "      <th>992</th>\n",
       "      <td>Genetic Epidemiology Foundations</td>\n",
       "      <td>Todd Edwards</td>\n",
       "      <td>Intermediate Level</td>\n",
       "      <td>Health</td>\n",
       "      <td>Health Informatics</td>\n",
       "      <td>None</td>\n",
       "      <td>None</td>\n",
       "      <td>None</td>\n",
       "      <td>This course is presented by the University of ...</td>\n",
       "      <td>[Taught by Dr. Nancy Cox, Vanderbilt Universit...</td>\n",
       "      <td>English</td>\n",
       "    </tr>\n",
       "    <tr>\n",
       "      <th>1002</th>\n",
       "      <td>Bankruptcy Law</td>\n",
       "      <td>Шашкова Анна Владиславовна</td>\n",
       "      <td>None</td>\n",
       "      <td>Business</td>\n",
       "      <td>Business Strategy</td>\n",
       "      <td>None</td>\n",
       "      <td>4.9stars</td>\n",
       "      <td>14 ratings</td>\n",
       "      <td>The present course gives an overview of Bases ...</td>\n",
       "      <td>[, Video SIGNES OF BANKRUPTCY, Video STAGES OF...</td>\n",
       "      <td>English</td>\n",
       "    </tr>\n",
       "  </tbody>\n",
       "</table>\n",
       "<p>82 rows × 11 columns</p>\n",
       "</div>"
      ],
      "text/plain": [
       "                                                   name  \\\n",
       "8     Preparing for and Passing Technical Certificat...   \n",
       "16    Community Awareness: Police Brutality in the U...   \n",
       "26    Patient Perspectives on Medications: Qualitati...   \n",
       "38          Formation COVID-19 pour personnels de santé   \n",
       "64    Why Iowa? A Primer on Primaries and Caucuses T...   \n",
       "...                                                 ...   \n",
       "953   Exploring Basic Income in a Changing Economy T...   \n",
       "973               1C:Enterprise Junior Developer Course   \n",
       "988    LGBTQ Pride: From Origins to Evolution Teach-Out   \n",
       "992                    Genetic Epidemiology Foundations   \n",
       "1002                                     Bankruptcy Law   \n",
       "\n",
       "                      instructor               level              category  \\\n",
       "8                  Rachel Strong      Beginner Level  Personal Development   \n",
       "16             Teach-Out Experts      Beginner Level       Social Sciences   \n",
       "26                  Susanne Kaae  Intermediate Level                Health   \n",
       "38              Matthew Strehlow                None                Health   \n",
       "64               Faculty Experts      Beginner Level       Social Sciences   \n",
       "...                          ...                 ...                   ...   \n",
       "953                 Luke Shaefer      Beginner Level              Business   \n",
       "973           Anton Shviykovskiy      Beginner Level      Computer Science   \n",
       "988              Spectrum Center      Beginner Level   Arts and Humanities   \n",
       "992                 Todd Edwards  Intermediate Level                Health   \n",
       "1002  Шашкова Анна Владиславовна                None              Business   \n",
       "\n",
       "                 subcategory no_of_students    rating no_of_rating  \\\n",
       "8       Personal Development           None  4.8stars   21 ratings   \n",
       "16    Governance and Society           None      None         None   \n",
       "26              Patient Care           None      None         None   \n",
       "38              Patient Care           None  4.5stars   11 ratings   \n",
       "64    Governance and Society           None      None         None   \n",
       "...                      ...            ...       ...          ...   \n",
       "953                  Finance           None      None         None   \n",
       "973     Software Development           None      None         None   \n",
       "988               Philosophy           None  4.7stars   46 ratings   \n",
       "992       Health Informatics           None      None         None   \n",
       "1002       Business Strategy           None  4.9stars   14 ratings   \n",
       "\n",
       "                                                  about  \\\n",
       "8     Technology provides you with great opportuniti...   \n",
       "16    The tragic deaths of George Floyd, Breonna Tay...   \n",
       "26    This course teaches you how to explore the pat...   \n",
       "38    La COVID-19 se propage rapidement à travers le...   \n",
       "64    The United States presidential election proces...   \n",
       "...                                                 ...   \n",
       "953   The United States social safety net is a compl...   \n",
       "973   Completing this first level will enable you to...   \n",
       "988   At its origin in the late 60s and early 70s, P...   \n",
       "992   This course is presented by the University of ...   \n",
       "1002  The present course gives an overview of Bases ...   \n",
       "\n",
       "                                               syllabus language  \n",
       "8     [Technology provides you with great opportunit...  English  \n",
       "16    [An introductory history to the roots of moder...  English  \n",
       "26    [This module starts with a presentation of the...  English  \n",
       "38    [Dans ce module, vous allez apprendre les sign...  English  \n",
       "64    [, What is a Teach-Out?, Welcome to the Why Io...  English  \n",
       "...                                                 ...      ...  \n",
       "953   [, , What is a Teach-Out?, Introduction: Luke ...  English  \n",
       "973   [Acquaintance with the basic capabilities of t...  English  \n",
       "988   [, What is a Teach-Out?, Welcome to the LGBTQ ...  English  \n",
       "992   [Taught by Dr. Nancy Cox, Vanderbilt Universit...  English  \n",
       "1002  [, Video SIGNES OF BANKRUPTCY, Video STAGES OF...  English  \n",
       "\n",
       "[82 rows x 11 columns]"
      ]
     },
     "execution_count": 96,
     "metadata": {},
     "output_type": "execute_result"
    }
   ],
   "source": [
    "df_english[df_english['no_of_students'].isnull()]"
   ]
  },
  {
   "cell_type": "code",
   "execution_count": 97,
   "id": "b9da460f",
   "metadata": {
    "collapsed": true
   },
   "outputs": [
    {
     "data": {
      "text/plain": [
       "['Welcome to week 1! In lesson one, you will learn to recognize the six categories of engineering materials through examples from everyday life, and we’ll discuss how the structure of those materials leads to their properties. Lesson two explores how point defects explain solid state diffusion. We will illustrate crystallography – the atomic-scale arrangement of atoms that we can see with the electron microscope. We will also describe the Arrhenius Relationship, and apply it to the number of vacancies in a crystal. We’ll finish by discussing how point defects facilitate solid state diffusion, and applying the Arrhenius Relationship to solid state diffusion.',\n",
       " 'Welcome to week 2! In lesson three we will discover how dislocations at the atomic-level structure of materials explain plastic (permanent) deformation. You will learn to define a linear defect and see how materials deform through dislocation motion. Lesson four compares stress versus strain, and introduces the “Big Four” mechanical properties of elasticity, yield strength, tensile strength, and ductility. You’ll assess what happens beyond the tensile strength of an object. And you’ll learn about a fifth important property – toughness.',\n",
       " 'Welcome to week 3! In lesson five we’ll explore creep deformation and learn to analyze a creep curve.  We’ll apply the Arrhenius Relationship to creep deformation and identify the mechanisms of creep deformation. In lesson six we find that the phenomenon of ductile-to-brittle transition is related to a particular crystal structure (the body-centered cubic). We’ll also learn to plot the ductile-to-brittle transition for further analysis.',\n",
       " 'Welcome to week 4! In lesson seven we will examine the concept of critical flaws. We’ll define fracture toughness and critical flaw size with the design plot. We’ll also distinguish how we break things in good and bad ways. Lesson eight explores the concept of fatigue in engineering materials. We’ll define fatigue and examine the fatigue curve and fatigue strength. We’ll also identify mechanisms of fatigue.',\n",
       " 'Welcome to week 5! In lesson nine we’ll deal with how to make things fast and slow. We’ll examine the lead-tin phase diagram and look at its practical applications as an example of making something slowly. Then we’ll evaluate the TTT diagram for eutectoid steel, and compare diffusional to diffusionless transformations with the TTT diagram, monitoring how we make things rapidly. Lesson ten is a brief history of semiconductors. Here, we discuss the role of semiconductor materials in the modern electronics industry. Our friend Arrhenius is back again, and this time we’re applying the Arrhenius Relationship to both intrinsic and extrinsic semiconductors. We’ll also look at combined intrinsic and extrinsic behavior.',\n",
       " 'Course Introduction',\n",
       " 'Six Categories of Engineering Materials',\n",
       " 'Structure Leads to Properties',\n",
       " 'Summary',\n",
       " 'Crystallography and the Electron Microscope',\n",
       " 'Introduction to the Arrhenius Relationship',\n",
       " 'The Arrhenius Relationship Applied to the Number of Vacancies in a Crystal',\n",
       " 'Point Defects and Solid State Diffusion',\n",
       " 'The Arrhenius Relationship Applied to Solid State Diffusion',\n",
       " 'Summary',\n",
       " 'Thing 1',\n",
       " 'Thing 2',\n",
       " 'Defining a Linear Defect - the Dislocation',\n",
       " 'Plastic Deformation by Dislocation Motion',\n",
       " 'Summary',\n",
       " 'The Stress versus Strain (Tensile) Test',\n",
       " 'The “Big Four” Mechanical Properties',\n",
       " 'Focusing on Strength and Stiffness',\n",
       " 'Beyond the Tensile Strength',\n",
       " 'Focusing on Ductility',\n",
       " 'A Fifth Parameter – Toughness',\n",
       " 'Summary',\n",
       " 'Thing 3',\n",
       " 'Thing 4',\n",
       " 'Definition of Creep Deformation',\n",
       " 'The Creep Curve',\n",
       " 'Creep Deformation and the Arrhenius Relationship',\n",
       " 'Mechanisms for Creep Deformation',\n",
       " 'Summary',\n",
       " 'The Ductile-to-Brittle Transition and Crystal Structure',\n",
       " 'Plotting the Ductile-to-Brittle Transition',\n",
       " 'Summary',\n",
       " 'Thing 5',\n",
       " 'Thing 6',\n",
       " 'Introducing the Concept of Critical Flaws',\n",
       " 'Fracture Toughness and the Design Plot',\n",
       " 'Critical Flaw Size and the Design Plot',\n",
       " 'A Play of Good versus Evil!',\n",
       " 'Summary',\n",
       " 'Introduction to Fatigue',\n",
       " 'Defining Fatigue',\n",
       " 'The Fatigue Curve and Fatigue Strength',\n",
       " 'Mechanism of Fatigue',\n",
       " 'Summary',\n",
       " 'Thing 7',\n",
       " 'Thing 8',\n",
       " 'Introduction to Phase Diagrams',\n",
       " 'The Lead-Tin Phase Diagram',\n",
       " 'The Competition Between Instability and Diffusion',\n",
       " 'The TTT Diagram for Eutectoid Steel',\n",
       " 'Diffusional Transformations',\n",
       " 'Diffusionless Transformations',\n",
       " 'Summary',\n",
       " 'A Brief History',\n",
       " 'The Intrinsic Semiconductor',\n",
       " 'The Extrinsic Semiconductor',\n",
       " 'Combined Intrinsic and Extrinsic Behavior',\n",
       " 'Summary',\n",
       " 'Thing 9',\n",
       " 'Thing 10',\n",
       " 'Ten Things Final']"
      ]
     },
     "execution_count": 97,
     "metadata": {},
     "output_type": "execute_result"
    }
   ],
   "source": [
    "df_english['syllabus'][67]"
   ]
  },
  {
   "cell_type": "code",
   "execution_count": 98,
   "id": "0dbfdbef",
   "metadata": {},
   "outputs": [],
   "source": [
    "for i in df_english['no_of_students']:\n",
    "    if i:\n",
    "        if 'enrolled' not in i:\n",
    "            print(i)"
   ]
  },
  {
   "cell_type": "code",
   "execution_count": 99,
   "id": "cdc7e729",
   "metadata": {},
   "outputs": [],
   "source": [
    "for i in df_english['rating']:\n",
    "    if i:\n",
    "        if 'stars' not in i:\n",
    "            print(i)"
   ]
  },
  {
   "cell_type": "code",
   "execution_count": 100,
   "id": "fe69da39",
   "metadata": {},
   "outputs": [],
   "source": [
    "for i in df_english['no_of_rating']:\n",
    "    if i:\n",
    "        if 'rating' not in i:\n",
    "            print(i)"
   ]
  },
  {
   "cell_type": "code",
   "execution_count": 103,
   "id": "f8a70ef1",
   "metadata": {},
   "outputs": [],
   "source": [
    "df_english.to_csv('courses_in_english.csv')"
   ]
  },
  {
   "cell_type": "code",
   "execution_count": null,
   "id": "22ccb440",
   "metadata": {},
   "outputs": [],
   "source": []
  },
  {
   "cell_type": "code",
   "execution_count": null,
   "id": "c1f2db4c",
   "metadata": {},
   "outputs": [],
   "source": []
  },
  {
   "cell_type": "code",
   "execution_count": null,
   "id": "5a3035cd",
   "metadata": {},
   "outputs": [],
   "source": []
  },
  {
   "cell_type": "code",
   "execution_count": 104,
   "id": "bb52fcee",
   "metadata": {},
   "outputs": [],
   "source": [
    "def get_skills(soup):\n",
    "    name = []\n",
    "    subcategory = []\n",
    "    skills = []\n",
    "    for i in range(0,10):\n",
    "        if soup.select('#main > div > div.rc-XdpSection.cdp-about > div > div > div > div._1b7vhsnq.m-t-2 > div.Skills.m-y-2.p-x-2.p-t-1.p-b-2.border-a.css-1rj0z6b > ul > li:nth-child({}) > span > span > span._ontdeqt'.format(i)):\n",
    "            name.append(get_course_name(soup))\n",
    "            #print(name)\n",
    "            subcategory.append(get_subcategory(soup))\n",
    "            #print(subcategory)\n",
    "            skills.append(soup.select('#main > div > div.rc-XdpSection.cdp-about > div > div > div > div._1b7vhsnq.m-t-2 > div.Skills.m-y-2.p-x-2.p-t-1.p-b-2.border-a.css-1rj0z6b > ul > li:nth-child({}) > span > span > span._ontdeqt'.format(i))[0].text)\n",
    "            #print(skills)\n",
    "        else: \n",
    "            None\n",
    "    return name, subcategory, skills\n",
    "        "
   ]
  },
  {
   "cell_type": "code",
   "execution_count": 105,
   "id": "76334a08",
   "metadata": {},
   "outputs": [
    {
     "name": "stderr",
     "output_type": "stream",
     "text": [
      "100%|███████████████████████████████████████| 1515/1515 [08:43<00:00,  2.89it/s]\n"
     ]
    }
   ],
   "source": [
    "name_list = []\n",
    "subcategory_list = []\n",
    "skill_list = []\n",
    "for soup in tqdm.tqdm(soups):\n",
    "    name_list += get_skills(soup)[0]\n",
    "    subcategory_list += get_skills(soup)[1]\n",
    "    skill_list += get_skills(soup)[2]\n"
   ]
  },
  {
   "cell_type": "code",
   "execution_count": 106,
   "id": "c53e6eeb",
   "metadata": {},
   "outputs": [
    {
     "data": {
      "text/plain": [
       "2014"
      ]
     },
     "execution_count": 106,
     "metadata": {},
     "output_type": "execute_result"
    }
   ],
   "source": [
    "len(name_list)"
   ]
  },
  {
   "cell_type": "code",
   "execution_count": 107,
   "id": "3b24ca8e",
   "metadata": {},
   "outputs": [
    {
     "data": {
      "text/plain": [
       "2014"
      ]
     },
     "execution_count": 107,
     "metadata": {},
     "output_type": "execute_result"
    }
   ],
   "source": [
    "len(subcategory_list)"
   ]
  },
  {
   "cell_type": "code",
   "execution_count": 108,
   "id": "9a39c2a0",
   "metadata": {},
   "outputs": [
    {
     "data": {
      "text/plain": [
       "2014"
      ]
     },
     "execution_count": 108,
     "metadata": {},
     "output_type": "execute_result"
    }
   ],
   "source": [
    "len(skill_list)"
   ]
  },
  {
   "cell_type": "code",
   "execution_count": 109,
   "id": "d180ce13",
   "metadata": {},
   "outputs": [],
   "source": [
    "df_tableau = pd.DataFrame({'name':name_list,'subcategory':subcategory_list,'skills':skill_list})"
   ]
  },
  {
   "cell_type": "code",
   "execution_count": 111,
   "id": "713b7bb1",
   "metadata": {},
   "outputs": [
    {
     "data": {
      "text/plain": [
       "Management                     19\n",
       "Communication                  19\n",
       "History                        19\n",
       "Leadership                     17\n",
       "Planning                       17\n",
       "                               ..\n",
       "UiPath Orchestrator             1\n",
       "Orchestrator user interface     1\n",
       "Queues                          1\n",
       "Mental Health Education         1\n",
       "Causality                       1\n",
       "Name: skills, Length: 1204, dtype: int64"
      ]
     },
     "execution_count": 111,
     "metadata": {},
     "output_type": "execute_result"
    }
   ],
   "source": [
    "df_tableau['skills'].value_counts()"
   ]
  },
  {
   "cell_type": "code",
   "execution_count": 112,
   "id": "fee6239c",
   "metadata": {},
   "outputs": [],
   "source": [
    "df_tableau.to_csv('skills.csv')"
   ]
  },
  {
   "cell_type": "code",
   "execution_count": null,
   "id": "d385d82e",
   "metadata": {},
   "outputs": [],
   "source": []
  },
  {
   "cell_type": "code",
   "execution_count": null,
   "id": "b7e82a65",
   "metadata": {},
   "outputs": [],
   "source": []
  },
  {
   "cell_type": "markdown",
   "id": "a2010864",
   "metadata": {},
   "source": [
    "# JUST IN CASE"
   ]
  },
  {
   "cell_type": "code",
   "execution_count": null,
   "id": "a488611f",
   "metadata": {},
   "outputs": [],
   "source": [
    "import csv"
   ]
  },
  {
   "cell_type": "code",
   "execution_count": null,
   "id": "00d008fe",
   "metadata": {},
   "outputs": [],
   "source": [
    "data = []\n",
    "with open('coursera.csv', 'r') as f:\n",
    "    spamreader = csv.reader(f, delimiter=',')\n",
    "    for row in spamreader:\n",
    "        data.append(row)"
   ]
  },
  {
   "cell_type": "code",
   "execution_count": null,
   "id": "c1ac9d6d",
   "metadata": {},
   "outputs": [],
   "source": [
    "fixed = [d[0].split(',\"')[:4] for d in data[1:]]"
   ]
  },
  {
   "cell_type": "code",
   "execution_count": null,
   "id": "37ab4257",
   "metadata": {},
   "outputs": [],
   "source": [
    "fixed = [[elm.split('\";;;;')[0] for elm in f] for f in fixed]"
   ]
  },
  {
   "cell_type": "code",
   "execution_count": null,
   "id": "3a4aa81a",
   "metadata": {},
   "outputs": [],
   "source": [
    "with open('new_urls.csv', 'w', newline='') as file:\n",
    "    keys = data[0][0].split(';')\n",
    "    writer = csv.DictWriter(file, fieldnames=keys, delimiter=',')\n",
    "    writer.writeheader()\n",
    "    \n",
    "    for row in fixed:\n",
    "        writer.writerow({k:v for k,v in zip(keys, row)})"
   ]
  },
  {
   "cell_type": "code",
   "execution_count": null,
   "id": "468b5f9f",
   "metadata": {},
   "outputs": [],
   "source": []
  },
  {
   "cell_type": "code",
   "execution_count": null,
   "id": "377b222c",
   "metadata": {},
   "outputs": [],
   "source": []
  }
 ],
 "metadata": {
  "kernelspec": {
   "display_name": "Python 3 (ipykernel)",
   "language": "python",
   "name": "python3"
  },
  "language_info": {
   "codemirror_mode": {
    "name": "ipython",
    "version": 3
   },
   "file_extension": ".py",
   "mimetype": "text/x-python",
   "name": "python",
   "nbconvert_exporter": "python",
   "pygments_lexer": "ipython3",
   "version": "3.9.7"
  },
  "toc": {
   "base_numbering": 1,
   "nav_menu": {},
   "number_sections": true,
   "sideBar": true,
   "skip_h1_title": false,
   "title_cell": "Table of Contents",
   "title_sidebar": "Contents",
   "toc_cell": false,
   "toc_position": {},
   "toc_section_display": true,
   "toc_window_display": false
  }
 },
 "nbformat": 4,
 "nbformat_minor": 5
}
