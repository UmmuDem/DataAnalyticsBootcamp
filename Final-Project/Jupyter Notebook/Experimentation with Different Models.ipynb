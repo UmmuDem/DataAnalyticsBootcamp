{
 "cells": [
  {
   "cell_type": "markdown",
   "id": "d9fd0f96",
   "metadata": {},
   "source": [
    "# Course Recommender"
   ]
  },
  {
   "cell_type": "markdown",
   "id": "887cb444",
   "metadata": {},
   "source": [
    "## Import Libraries"
   ]
  },
  {
   "cell_type": "code",
   "execution_count": 1,
   "id": "90bab20b",
   "metadata": {},
   "outputs": [],
   "source": [
    "# data cleaning and EDA\n",
    "import pandas as pd\n",
    "import numpy as np\n",
    "import seaborn as sns\n",
    "import matplotlib.pyplot as plt\n",
    "\n",
    "# text analysis\n",
    "import nltk \n",
    "from nltk.corpus import stopwords\n",
    "from nltk.tokenize import word_tokenize\n",
    "from nltk.stem import WordNetLemmatizer\n",
    "import re\n",
    "import string"
   ]
  },
  {
   "cell_type": "markdown",
   "id": "54c2e3ba",
   "metadata": {},
   "source": [
    "## Bring in Clean Data"
   ]
  },
  {
   "cell_type": "code",
   "execution_count": 2,
   "id": "44fb14b4",
   "metadata": {},
   "outputs": [],
   "source": [
    "df = pd.read_csv('clean_data.csv')"
   ]
  },
  {
   "cell_type": "code",
   "execution_count": 3,
   "id": "e96ece2b",
   "metadata": {},
   "outputs": [
    {
     "data": {
      "text/html": [
       "<div>\n",
       "<style scoped>\n",
       "    .dataframe tbody tr th:only-of-type {\n",
       "        vertical-align: middle;\n",
       "    }\n",
       "\n",
       "    .dataframe tbody tr th {\n",
       "        vertical-align: top;\n",
       "    }\n",
       "\n",
       "    .dataframe thead th {\n",
       "        text-align: right;\n",
       "    }\n",
       "</style>\n",
       "<table border=\"1\" class=\"dataframe\">\n",
       "  <thead>\n",
       "    <tr style=\"text-align: right;\">\n",
       "      <th></th>\n",
       "      <th>Unnamed: 0</th>\n",
       "      <th>name</th>\n",
       "      <th>instructor</th>\n",
       "      <th>level</th>\n",
       "      <th>category</th>\n",
       "      <th>subcategory</th>\n",
       "      <th>no_of_students</th>\n",
       "      <th>rating</th>\n",
       "      <th>no_of_rating</th>\n",
       "      <th>about</th>\n",
       "      <th>syllabus</th>\n",
       "      <th>language</th>\n",
       "      <th>url</th>\n",
       "    </tr>\n",
       "  </thead>\n",
       "  <tbody>\n",
       "    <tr>\n",
       "      <th>0</th>\n",
       "      <td>0</td>\n",
       "      <td>Meditation: A way to achieve your goals in you...</td>\n",
       "      <td>Duck-Joo Lee</td>\n",
       "      <td>Beginner Level</td>\n",
       "      <td>Arts and Humanities</td>\n",
       "      <td>Philosophy</td>\n",
       "      <td>78489</td>\n",
       "      <td>4.6</td>\n",
       "      <td>843</td>\n",
       "      <td>Do we truly think that we have lived for ourse...</td>\n",
       "      <td>['Self- reflection is the methodology of medit...</td>\n",
       "      <td>English</td>\n",
       "      <td>https://www.coursera.org/learn/self-reflection...</td>\n",
       "    </tr>\n",
       "  </tbody>\n",
       "</table>\n",
       "</div>"
      ],
      "text/plain": [
       "   Unnamed: 0                                               name  \\\n",
       "0           0  Meditation: A way to achieve your goals in you...   \n",
       "\n",
       "     instructor           level             category subcategory  \\\n",
       "0  Duck-Joo Lee  Beginner Level  Arts and Humanities  Philosophy   \n",
       "\n",
       "   no_of_students  rating  no_of_rating  \\\n",
       "0           78489     4.6           843   \n",
       "\n",
       "                                               about  \\\n",
       "0  Do we truly think that we have lived for ourse...   \n",
       "\n",
       "                                            syllabus language  \\\n",
       "0  ['Self- reflection is the methodology of medit...  English   \n",
       "\n",
       "                                                 url  \n",
       "0  https://www.coursera.org/learn/self-reflection...  "
      ]
     },
     "execution_count": 3,
     "metadata": {},
     "output_type": "execute_result"
    }
   ],
   "source": [
    "#df.head(1)"
   ]
  },
  {
   "cell_type": "code",
   "execution_count": 4,
   "id": "8ea87b63",
   "metadata": {},
   "outputs": [
    {
     "data": {
      "text/plain": [
       "'0      [\\'Self- reflection is the methodology of medit...\\n1      [\\'This course is about the remarkable northern...\\n2      [\\'Join us this week to find out how the course...\\n3      [\\'The goal of the Module is to define individu...\\n4      [\\'This module explores sourcing of materials f...\\n                             ...                        \\n906    [\\'Approaching voting problems with the securit...\\n907    [\\'Welcome to our course! This is a hands-on wo...\\n908    [\\'Welcome to the first week of the course! Thı...\\n909    [\\'In this first week, you will learn more abou...\\n910    [\"This short module includes an overview of th...\\nName: syllabus, Length: 911, dtype: object'"
      ]
     },
     "execution_count": 4,
     "metadata": {},
     "output_type": "execute_result"
    }
   ],
   "source": [
    "#str(df['syllabus'])"
   ]
  },
  {
   "cell_type": "markdown",
   "id": "83279291",
   "metadata": {},
   "source": [
    "## Create the Corpus"
   ]
  },
  {
   "cell_type": "markdown",
   "id": "fd3abe87",
   "metadata": {},
   "source": [
    "I will combine all categorical columns except language."
   ]
  },
  {
   "cell_type": "code",
   "execution_count": 5,
   "id": "24a43f6a",
   "metadata": {
    "scrolled": true
   },
   "outputs": [
    {
     "data": {
      "text/plain": [
       "'Meditation: A way to achieve your goals in your life Duck-Joo Lee Beginner Level Arts and Humanities Philosophy Do we truly think that we have lived for ourselves? Perhaps we have lived for money, love, fame, family and pride etc.? Therefore, we don’t seem to be satisfied even though we are full of those things. It is because that we don’t know ourselves.Eric Fromm talked about human nature as two modes of being: “To Have” and “To Be”.  If we are “Having” the nature of possessions, we are not satisfied, and feel empty and futile. Then, how can we be “Being” the nature of our inner-selves?\\n\\nSometimes, we happened to be aware of this “Being” nature and try to change ourselves, but fail. But, because of our daily routines, it’s easily forgotten. And more it is hard to escape from our unwanted minds controlling us.\\n\\nFrom now on, let us reflect on ourselves and look at our minds leading up to today! Don’t we achieve our goals after knowing ourselves? And let us find the “Being” nature of our original selves after escaping from the minds restraining and controlling us.\\n\\nIn this lecture, the definition and principle of the mind are explained in simple and clear ways. You can make sure and practice the methodology of finding the true original mind of inner-self by escaping from the false mind of possession. \\n\\nSelf-reflection is the first step to meditate. You can know yourselves most objectively through meditation and you will realize that all the thoughts and actions are due to your minds which are nonexistent and false. If you throw away the false mind, you will find the true mind.\\n\\nMeditation is now world-wide sensation. There are many research reports that show people can be leaders if you have a habit of self-reflection through meditation. Now meditation at school and the workplace are popular.\\n\\nHappiness is having no worries. You can really relax yourself if there is no bundle of thoughts and you can be successful when you know yourself truly. Worries come from the memorized thoughts of the false mind. Your inner potential of positive power are revealed, your peaceful and happiest mind will be in your mind, and you can live the life you wanted through meditation.\\n\\nThis method of meditation is very practical and everybody can follow the methodology. As an engineer, I will guide you step by step to practice this meditation. I am sure that this lecture becomes a turning point in your life.[\\'Self- reflection is the methodology of meditation for growth, happiness and human completion: (1) Why do we need self-reflection?, (2) Academic research on self-reflection, (3) Draw my life graph, and (4) Ultimate purpose of self-reflection\\', \\'Learn the principle of self-reflection and practice the self–reflection through 5 subjects: \\', \\'(1) Methodology of self-reflection, (2) Practice of self-reflection through 5 essential subjects (barrier in relationships, inferiority and ego in childhood, emotion of love and hatred since childhood, worries, response to problems), and (3) My past life and my current self\\', \\'Recognize the copied world and real world and think of living free from the self.: (1) Principle of mind formation, (2) Human recognition observed by philosophers and neuroscientists, (3) Understanding the reasons why we cannot live my own way, and (4) Human mind and Original mind\\', \\'Learn and practice the methodology of mind cleansing: (1) Do you want to change yourself?, (2) Methodology of the mind cleansing, (3) Repetition of the self-reflection of the 5 essential subjects, (4) Real potential and positive mind.\\', \\'Learn and practice the methodology of self-reflection and the mind cleansing in everyday life: (1)Stress is the impetus for growth, (2) Case study on overcoming the self, (3) Health-mind relationship and brain wave changes, and (4) Meaning of self-reflection and the mind cleansing in life.\\', \\'Let’s start the peaceful life with wisdom: (1) Draw your life graph again, (2)People at school and the office practicing self-reflection continuously, (3) Meaning of self-reflection in social aspects (through reflections on communication and relationships), (4) Starting point of the peaceful life with wisdom\\', \\'Introduction\\', \\'1-1. What is the goal of your life?\\', \\'1-3. Draw my life graph\\', \\'1-5. Human completion\\', \\'1-6 Ultimate Purpose of Human Completion\\', \\'Week 1- Self Reflection Meditation Session \\', \\'Opinions from previous on-line meditation learners\\', \\'1-2 Literature on Self-reflection \\', \\'1-4 Self Leadership \\', \\'1-7 Self Reflection and World Peace.\\', \\'Lecture slides for week 1\\', \\'Quiz for Week 1\\', \\'2-1. Inner power recovered through self-reflection: Interview with an scholar in education\\', \\'2-2. How much do I know my self\\', \\'2-3. Exercise of self-reflection\\', \\'2-4. Practice of self-reflection through relationships\\', \\'2-5. Practice of self-reflection through myself\\', \\'2-6. Practice of self-reflection through emotions of love and hatred\\', \\'2-7. Practice of self-reflection through worries\\', \\'2-8. Practice of self-reflection through response\\', \\'2-9. Your current state & Future you want\\', \\'Lecture material for week 2\\', \\'Quiz for Week 2\\', \\'3-1. My mind world\\', \\'3-2. Human recognition observed by philosophers\\', \\'3-3. Human recognition observed by neuroscientists\\', \\'3-4. Interview with a neuroscientist\\', \\'3-5. Human illusion\\', \\'3-6. Principle of mind formation\\', \\'3-7. Human mind & Original mind\\', \"3-8. Understanding the reasons why we can\\'t live with free will\", \\'Lecture material for week 3\\', \\'Quiz for Week 3\\', \\'4-1. Do you want to change yourself? (1)\\', \\'4-2. Do you want to change yourself? (2)\\', \\'4-3. Methodology of mind cleansing\\', \\'4-4. Your will for change\\', \\'4-5. Repetition of self-reflection - Pride\\', \\'4-6. Repetition of self-reflection - Human relationships\\', \\'4-7. Repetition of self-reflection - Love\\', \\'4-8. Real potential and positive mind\\', \\'Lecture material for week 4\\', \\'Quiz for Week 4\\', \\'5-1. Self-reflection in ordinary life\\', \\'5-2. Stress is the impetus for growth\\', \\'5-3. Case study on overcoming the self\\', \\'5-4. Mind gravity\\', \\'5-5. Health-mind relationship\\', \\'5-6. Brain wave changes\\', \\'5-7. Meaning of self-reflection and mind cleansing life\\', \\'Lecture material for week 5\\', \\'Quiz for Week 5\\', \"6-1. Importance of self-reflection; meditation expert\\'s view\", \\'6-2. Practice of subtraction chronologically\\', \\'6-3. Meaning of self-reflection in social aspects through subtraction on relationships\\', \\'6-4. Meaning of self-reflection in social aspects through subtraction on communication\\', \\'6-5. People at school practicing self-reflection continuously\\', \\'6-6. People at the office practicing self-reflection continuously\\', \\'6-7. Starting point of peaceful life with wisdom\\', \\'Lecture material for week 6\\', \\'Quiz for Week 6\\']'"
      ]
     },
     "execution_count": 5,
     "metadata": {},
     "output_type": "execute_result"
    }
   ],
   "source": [
    "df[\"corpus\"] = df[\"name\"].map(str) + \" \" + df[\"instructor\"].map(str) +\" \"+ df[\"level\"].map(str)+ \" \"+df['category'].map(str)+\" \"+df['subcategory'].map(str) +\" \"+ df['about'].map(str) + df['syllabus'].map(str) \n",
    "#df[\"corpus\"][0]\n"
   ]
  },
  {
   "cell_type": "code",
   "execution_count": 6,
   "id": "8c4cd357",
   "metadata": {
    "scrolled": true
   },
   "outputs": [
    {
     "data": {
      "text/html": [
       "<div>\n",
       "<style scoped>\n",
       "    .dataframe tbody tr th:only-of-type {\n",
       "        vertical-align: middle;\n",
       "    }\n",
       "\n",
       "    .dataframe tbody tr th {\n",
       "        vertical-align: top;\n",
       "    }\n",
       "\n",
       "    .dataframe thead th {\n",
       "        text-align: right;\n",
       "    }\n",
       "</style>\n",
       "<table border=\"1\" class=\"dataframe\">\n",
       "  <thead>\n",
       "    <tr style=\"text-align: right;\">\n",
       "      <th></th>\n",
       "      <th>Unnamed: 0</th>\n",
       "      <th>name</th>\n",
       "      <th>instructor</th>\n",
       "      <th>level</th>\n",
       "      <th>category</th>\n",
       "      <th>subcategory</th>\n",
       "      <th>no_of_students</th>\n",
       "      <th>rating</th>\n",
       "      <th>no_of_rating</th>\n",
       "      <th>about</th>\n",
       "      <th>syllabus</th>\n",
       "      <th>language</th>\n",
       "      <th>url</th>\n",
       "      <th>corpus</th>\n",
       "    </tr>\n",
       "  </thead>\n",
       "  <tbody>\n",
       "    <tr>\n",
       "      <th>0</th>\n",
       "      <td>0</td>\n",
       "      <td>Meditation: A way to achieve your goals in you...</td>\n",
       "      <td>Duck-Joo Lee</td>\n",
       "      <td>Beginner Level</td>\n",
       "      <td>Arts and Humanities</td>\n",
       "      <td>Philosophy</td>\n",
       "      <td>78489</td>\n",
       "      <td>4.6</td>\n",
       "      <td>843</td>\n",
       "      <td>Do we truly think that we have lived for ourse...</td>\n",
       "      <td>['Self- reflection is the methodology of medit...</td>\n",
       "      <td>English</td>\n",
       "      <td>https://www.coursera.org/learn/self-reflection...</td>\n",
       "      <td>Meditation: A way to achieve your goals in you...</td>\n",
       "    </tr>\n",
       "    <tr>\n",
       "      <th>1</th>\n",
       "      <td>1</td>\n",
       "      <td>Introduction to the Arctic: Climate</td>\n",
       "      <td>Paul Myers, Ph.D</td>\n",
       "      <td>Mixed Level</td>\n",
       "      <td>Physical Science and Engineering</td>\n",
       "      <td>Environmental Science and Sustainability</td>\n",
       "      <td>13439</td>\n",
       "      <td>4.6</td>\n",
       "      <td>420</td>\n",
       "      <td>The University of Alberta, the University of T...</td>\n",
       "      <td>['This course is about the remarkable northern...</td>\n",
       "      <td>English</td>\n",
       "      <td>https://www.coursera.org/learn/arctic-introduc...</td>\n",
       "      <td>Introduction to the Arctic: Climate Paul Myers...</td>\n",
       "    </tr>\n",
       "    <tr>\n",
       "      <th>2</th>\n",
       "      <td>2</td>\n",
       "      <td>Data Science in Stratified Healthcare and Prec...</td>\n",
       "      <td>Dr Areti Manataki</td>\n",
       "      <td>Intermediate Level</td>\n",
       "      <td>Data Science</td>\n",
       "      <td>Data Analysis</td>\n",
       "      <td>16421</td>\n",
       "      <td>4.6</td>\n",
       "      <td>241</td>\n",
       "      <td>An increasing volume of data is becoming avail...</td>\n",
       "      <td>['Join us this week to find out how the course...</td>\n",
       "      <td>English</td>\n",
       "      <td>https://www.coursera.org/learn/datascimed</td>\n",
       "      <td>Data Science in Stratified Healthcare and Prec...</td>\n",
       "    </tr>\n",
       "    <tr>\n",
       "      <th>3</th>\n",
       "      <td>3</td>\n",
       "      <td>How to Get Skilled: Introduction to Individual...</td>\n",
       "      <td>Dr. Valeri Chukhlomin</td>\n",
       "      <td>Intermediate Level</td>\n",
       "      <td>Personal Development</td>\n",
       "      <td>Personal Development</td>\n",
       "      <td>50038</td>\n",
       "      <td>3.7</td>\n",
       "      <td>214</td>\n",
       "      <td>Do you want to gain a competitive edge on the ...</td>\n",
       "      <td>['The goal of the Module is to define individu...</td>\n",
       "      <td>English</td>\n",
       "      <td>https://www.coursera.org/learn/skills-management</td>\n",
       "      <td>How to Get Skilled: Introduction to Individual...</td>\n",
       "    </tr>\n",
       "    <tr>\n",
       "      <th>4</th>\n",
       "      <td>4</td>\n",
       "      <td>Circular Economy - Sustainable Materials Manag...</td>\n",
       "      <td>Philip Peck</td>\n",
       "      <td>Beginner Level</td>\n",
       "      <td>Physical Science and Engineering</td>\n",
       "      <td>Environmental Science and Sustainability</td>\n",
       "      <td>37682</td>\n",
       "      <td>4.8</td>\n",
       "      <td>1136</td>\n",
       "      <td>This course looks at where important materials...</td>\n",
       "      <td>['This module explores sourcing of materials f...</td>\n",
       "      <td>English</td>\n",
       "      <td>https://www.coursera.org/learn/circular-economy</td>\n",
       "      <td>Circular Economy - Sustainable Materials Manag...</td>\n",
       "    </tr>\n",
       "  </tbody>\n",
       "</table>\n",
       "</div>"
      ],
      "text/plain": [
       "   Unnamed: 0                                               name  \\\n",
       "0           0  Meditation: A way to achieve your goals in you...   \n",
       "1           1                Introduction to the Arctic: Climate   \n",
       "2           2  Data Science in Stratified Healthcare and Prec...   \n",
       "3           3  How to Get Skilled: Introduction to Individual...   \n",
       "4           4  Circular Economy - Sustainable Materials Manag...   \n",
       "\n",
       "              instructor               level  \\\n",
       "0           Duck-Joo Lee      Beginner Level   \n",
       "1       Paul Myers, Ph.D         Mixed Level   \n",
       "2      Dr Areti Manataki  Intermediate Level   \n",
       "3  Dr. Valeri Chukhlomin  Intermediate Level   \n",
       "4            Philip Peck      Beginner Level   \n",
       "\n",
       "                           category                               subcategory  \\\n",
       "0               Arts and Humanities                                Philosophy   \n",
       "1  Physical Science and Engineering  Environmental Science and Sustainability   \n",
       "2                      Data Science                             Data Analysis   \n",
       "3              Personal Development                      Personal Development   \n",
       "4  Physical Science and Engineering  Environmental Science and Sustainability   \n",
       "\n",
       "   no_of_students  rating  no_of_rating  \\\n",
       "0           78489     4.6           843   \n",
       "1           13439     4.6           420   \n",
       "2           16421     4.6           241   \n",
       "3           50038     3.7           214   \n",
       "4           37682     4.8          1136   \n",
       "\n",
       "                                               about  \\\n",
       "0  Do we truly think that we have lived for ourse...   \n",
       "1  The University of Alberta, the University of T...   \n",
       "2  An increasing volume of data is becoming avail...   \n",
       "3  Do you want to gain a competitive edge on the ...   \n",
       "4  This course looks at where important materials...   \n",
       "\n",
       "                                            syllabus language  \\\n",
       "0  ['Self- reflection is the methodology of medit...  English   \n",
       "1  ['This course is about the remarkable northern...  English   \n",
       "2  ['Join us this week to find out how the course...  English   \n",
       "3  ['The goal of the Module is to define individu...  English   \n",
       "4  ['This module explores sourcing of materials f...  English   \n",
       "\n",
       "                                                 url  \\\n",
       "0  https://www.coursera.org/learn/self-reflection...   \n",
       "1  https://www.coursera.org/learn/arctic-introduc...   \n",
       "2          https://www.coursera.org/learn/datascimed   \n",
       "3   https://www.coursera.org/learn/skills-management   \n",
       "4    https://www.coursera.org/learn/circular-economy   \n",
       "\n",
       "                                              corpus  \n",
       "0  Meditation: A way to achieve your goals in you...  \n",
       "1  Introduction to the Arctic: Climate Paul Myers...  \n",
       "2  Data Science in Stratified Healthcare and Prec...  \n",
       "3  How to Get Skilled: Introduction to Individual...  \n",
       "4  Circular Economy - Sustainable Materials Manag...  "
      ]
     },
     "execution_count": 6,
     "metadata": {},
     "output_type": "execute_result"
    }
   ],
   "source": [
    "#df.head()"
   ]
  },
  {
   "cell_type": "markdown",
   "id": "512a2048",
   "metadata": {},
   "source": [
    "## Data Cleaning/Wrangling"
   ]
  },
  {
   "cell_type": "markdown",
   "id": "2e1b1c6c",
   "metadata": {},
   "source": [
    "- From corpus, I am going to remove stopwords which I expanded a little, remove special characters and punctuations. Then I tokenize it."
   ]
  },
  {
   "cell_type": "code",
   "execution_count": 7,
   "id": "219f7b87",
   "metadata": {},
   "outputs": [],
   "source": [
    "stop_words = set(stopwords.words('english'))\n",
    "stop_words.update(['course','module','introduction','will','week','learn','video','part','lecture','video','using','system','one','new','use','first','s','work'])\n",
    "\n",
    "wn = WordNetLemmatizer()\n",
    "\n",
    "def black_txt(token):\n",
    "    return  token not in stop_words and token not in list(string.punctuation)  and len(token)>2   \n",
    "  \n",
    "def clean_txt(text):\n",
    "    clean_text = []\n",
    "    clean_text2 = []\n",
    "    text = re.sub(\"'\", \"\",text)\n",
    "    text=re.sub(\"(\\\\d|\\\\W)+\",\" \",text) \n",
    "    text = text.replace(\"nbsp\", \"\")\n",
    "    clean_text = [ wn.lemmatize(word, pos=\"v\") for word in word_tokenize(text.lower()) if black_txt(word)]\n",
    "    clean_text2 = [word for word in clean_text if black_txt(word)]\n",
    "    return \" \".join(clean_text2) "
   ]
  },
  {
   "cell_type": "markdown",
   "id": "d79b8086",
   "metadata": {},
   "source": [
    "print(stop_words) \n",
    "print('\\n')\n",
    "print('the length of expanded stop words set: {}'.format(len(stop_words)))"
   ]
  },
  {
   "cell_type": "code",
   "execution_count": 9,
   "id": "85044e00",
   "metadata": {},
   "outputs": [],
   "source": [
    "df['corpus'] = df['corpus'].apply(lambda x: clean_txt(x))"
   ]
  },
  {
   "cell_type": "code",
   "execution_count": 10,
   "id": "5df75421",
   "metadata": {},
   "outputs": [
    {
     "data": {
      "text/html": [
       "<div>\n",
       "<style scoped>\n",
       "    .dataframe tbody tr th:only-of-type {\n",
       "        vertical-align: middle;\n",
       "    }\n",
       "\n",
       "    .dataframe tbody tr th {\n",
       "        vertical-align: top;\n",
       "    }\n",
       "\n",
       "    .dataframe thead th {\n",
       "        text-align: right;\n",
       "    }\n",
       "</style>\n",
       "<table border=\"1\" class=\"dataframe\">\n",
       "  <thead>\n",
       "    <tr style=\"text-align: right;\">\n",
       "      <th></th>\n",
       "      <th>Unnamed: 0</th>\n",
       "      <th>name</th>\n",
       "      <th>instructor</th>\n",
       "      <th>level</th>\n",
       "      <th>category</th>\n",
       "      <th>subcategory</th>\n",
       "      <th>no_of_students</th>\n",
       "      <th>rating</th>\n",
       "      <th>no_of_rating</th>\n",
       "      <th>about</th>\n",
       "      <th>syllabus</th>\n",
       "      <th>language</th>\n",
       "      <th>url</th>\n",
       "      <th>corpus</th>\n",
       "    </tr>\n",
       "  </thead>\n",
       "  <tbody>\n",
       "    <tr>\n",
       "      <th>0</th>\n",
       "      <td>0</td>\n",
       "      <td>Meditation: A way to achieve your goals in you...</td>\n",
       "      <td>Duck-Joo Lee</td>\n",
       "      <td>Beginner Level</td>\n",
       "      <td>Arts and Humanities</td>\n",
       "      <td>Philosophy</td>\n",
       "      <td>78489</td>\n",
       "      <td>4.6</td>\n",
       "      <td>843</td>\n",
       "      <td>Do we truly think that we have lived for ourse...</td>\n",
       "      <td>['Self- reflection is the methodology of medit...</td>\n",
       "      <td>English</td>\n",
       "      <td>https://www.coursera.org/learn/self-reflection...</td>\n",
       "      <td>meditation way achieve goals life duck joo lee...</td>\n",
       "    </tr>\n",
       "    <tr>\n",
       "      <th>1</th>\n",
       "      <td>1</td>\n",
       "      <td>Introduction to the Arctic: Climate</td>\n",
       "      <td>Paul Myers, Ph.D</td>\n",
       "      <td>Mixed Level</td>\n",
       "      <td>Physical Science and Engineering</td>\n",
       "      <td>Environmental Science and Sustainability</td>\n",
       "      <td>13439</td>\n",
       "      <td>4.6</td>\n",
       "      <td>420</td>\n",
       "      <td>The University of Alberta, the University of T...</td>\n",
       "      <td>['This course is about the remarkable northern...</td>\n",
       "      <td>English</td>\n",
       "      <td>https://www.coursera.org/learn/arctic-introduc...</td>\n",
       "      <td>arctic climate paul myers mix level physical s...</td>\n",
       "    </tr>\n",
       "    <tr>\n",
       "      <th>2</th>\n",
       "      <td>2</td>\n",
       "      <td>Data Science in Stratified Healthcare and Prec...</td>\n",
       "      <td>Dr Areti Manataki</td>\n",
       "      <td>Intermediate Level</td>\n",
       "      <td>Data Science</td>\n",
       "      <td>Data Analysis</td>\n",
       "      <td>16421</td>\n",
       "      <td>4.6</td>\n",
       "      <td>241</td>\n",
       "      <td>An increasing volume of data is becoming avail...</td>\n",
       "      <td>['Join us this week to find out how the course...</td>\n",
       "      <td>English</td>\n",
       "      <td>https://www.coursera.org/learn/datascimed</td>\n",
       "      <td>data science stratify healthcare precision med...</td>\n",
       "    </tr>\n",
       "    <tr>\n",
       "      <th>3</th>\n",
       "      <td>3</td>\n",
       "      <td>How to Get Skilled: Introduction to Individual...</td>\n",
       "      <td>Dr. Valeri Chukhlomin</td>\n",
       "      <td>Intermediate Level</td>\n",
       "      <td>Personal Development</td>\n",
       "      <td>Personal Development</td>\n",
       "      <td>50038</td>\n",
       "      <td>3.7</td>\n",
       "      <td>214</td>\n",
       "      <td>Do you want to gain a competitive edge on the ...</td>\n",
       "      <td>['The goal of the Module is to define individu...</td>\n",
       "      <td>English</td>\n",
       "      <td>https://www.coursera.org/learn/skills-management</td>\n",
       "      <td>get skilled individual skills management proje...</td>\n",
       "    </tr>\n",
       "    <tr>\n",
       "      <th>4</th>\n",
       "      <td>4</td>\n",
       "      <td>Circular Economy - Sustainable Materials Manag...</td>\n",
       "      <td>Philip Peck</td>\n",
       "      <td>Beginner Level</td>\n",
       "      <td>Physical Science and Engineering</td>\n",
       "      <td>Environmental Science and Sustainability</td>\n",
       "      <td>37682</td>\n",
       "      <td>4.8</td>\n",
       "      <td>1136</td>\n",
       "      <td>This course looks at where important materials...</td>\n",
       "      <td>['This module explores sourcing of materials f...</td>\n",
       "      <td>English</td>\n",
       "      <td>https://www.coursera.org/learn/circular-economy</td>\n",
       "      <td>circular economy sustainable materials managem...</td>\n",
       "    </tr>\n",
       "  </tbody>\n",
       "</table>\n",
       "</div>"
      ],
      "text/plain": [
       "   Unnamed: 0                                               name  \\\n",
       "0           0  Meditation: A way to achieve your goals in you...   \n",
       "1           1                Introduction to the Arctic: Climate   \n",
       "2           2  Data Science in Stratified Healthcare and Prec...   \n",
       "3           3  How to Get Skilled: Introduction to Individual...   \n",
       "4           4  Circular Economy - Sustainable Materials Manag...   \n",
       "\n",
       "              instructor               level  \\\n",
       "0           Duck-Joo Lee      Beginner Level   \n",
       "1       Paul Myers, Ph.D         Mixed Level   \n",
       "2      Dr Areti Manataki  Intermediate Level   \n",
       "3  Dr. Valeri Chukhlomin  Intermediate Level   \n",
       "4            Philip Peck      Beginner Level   \n",
       "\n",
       "                           category                               subcategory  \\\n",
       "0               Arts and Humanities                                Philosophy   \n",
       "1  Physical Science and Engineering  Environmental Science and Sustainability   \n",
       "2                      Data Science                             Data Analysis   \n",
       "3              Personal Development                      Personal Development   \n",
       "4  Physical Science and Engineering  Environmental Science and Sustainability   \n",
       "\n",
       "   no_of_students  rating  no_of_rating  \\\n",
       "0           78489     4.6           843   \n",
       "1           13439     4.6           420   \n",
       "2           16421     4.6           241   \n",
       "3           50038     3.7           214   \n",
       "4           37682     4.8          1136   \n",
       "\n",
       "                                               about  \\\n",
       "0  Do we truly think that we have lived for ourse...   \n",
       "1  The University of Alberta, the University of T...   \n",
       "2  An increasing volume of data is becoming avail...   \n",
       "3  Do you want to gain a competitive edge on the ...   \n",
       "4  This course looks at where important materials...   \n",
       "\n",
       "                                            syllabus language  \\\n",
       "0  ['Self- reflection is the methodology of medit...  English   \n",
       "1  ['This course is about the remarkable northern...  English   \n",
       "2  ['Join us this week to find out how the course...  English   \n",
       "3  ['The goal of the Module is to define individu...  English   \n",
       "4  ['This module explores sourcing of materials f...  English   \n",
       "\n",
       "                                                 url  \\\n",
       "0  https://www.coursera.org/learn/self-reflection...   \n",
       "1  https://www.coursera.org/learn/arctic-introduc...   \n",
       "2          https://www.coursera.org/learn/datascimed   \n",
       "3   https://www.coursera.org/learn/skills-management   \n",
       "4    https://www.coursera.org/learn/circular-economy   \n",
       "\n",
       "                                              corpus  \n",
       "0  meditation way achieve goals life duck joo lee...  \n",
       "1  arctic climate paul myers mix level physical s...  \n",
       "2  data science stratify healthcare precision med...  \n",
       "3  get skilled individual skills management proje...  \n",
       "4  circular economy sustainable materials managem...  "
      ]
     },
     "execution_count": 10,
     "metadata": {},
     "output_type": "execute_result"
    }
   ],
   "source": [
    "#df.head()"
   ]
  },
  {
   "cell_type": "markdown",
   "id": "d96df9fb",
   "metadata": {},
   "source": [
    "## Work Cloud"
   ]
  },
  {
   "cell_type": "code",
   "execution_count": 11,
   "id": "c7c10b9b",
   "metadata": {},
   "outputs": [],
   "source": [
    "from PIL import Image\n",
    "from wordcloud import WordCloud, STOPWORDS, ImageColorGenerator"
   ]
  },
  {
   "cell_type": "code",
   "execution_count": 12,
   "id": "ae65a566",
   "metadata": {},
   "outputs": [],
   "source": [
    "def get_wordcloud(text,coursename):\n",
    "    bunch_text = \" \".join(text for text in text.split(' '))\n",
    "    wordcloud = WordCloud(stopwords=stopwords, background_color=\"white\", colormap= \"magma\").generate(bunch_text)\n",
    "    plt.figure(figsize=[11,11])\n",
    "    plt.imshow(wordcloud, interpolation=\"sinc\")\n",
    "    plt.axis(\"off\")\n",
    "    title = coursename\n",
    "    plt.title('Course Name: ' + title.title(), fontsize=15)\n",
    "\n",
    "    plt.show()\n",
    "    return"
   ]
  },
  {
   "cell_type": "markdown",
   "id": "b269a4b7",
   "metadata": {},
   "source": [
    "## Using TFIDF"
   ]
  },
  {
   "cell_type": "code",
   "execution_count": 13,
   "id": "449bddab",
   "metadata": {},
   "outputs": [],
   "source": [
    "#initializing tfidf vectorizer for feature extraction\n",
    "from sklearn.feature_extraction.text import TfidfVectorizer\n",
    "\n",
    "# for getting similarity\n",
    "from sklearn.metrics.pairwise import cosine_similarity\n",
    "\n",
    "tfidf_vectorizer = TfidfVectorizer()"
   ]
  },
  {
   "cell_type": "markdown",
   "id": "f460619a",
   "metadata": {},
   "source": [
    "**Functions to be used:**"
   ]
  },
  {
   "cell_type": "code",
   "execution_count": 14,
   "id": "8c44fb58",
   "metadata": {},
   "outputs": [],
   "source": [
    "# returns all the similarity scores between the given user_input and other entries\n",
    "\n",
    "def get_cos_similarity_scores(user_input,vectorizer,vectorized_corpus):\n",
    "    tokens = [str(tok) for tok in word_tokenize(user_input)]\n",
    "    user_tfidf = vectorizer.transform(tokens)\n",
    "    cos_similarity = map(lambda x: cosine_similarity(user_tfidf, x),vectorized_corpus)\n",
    "    output = list(cos_similarity)\n",
    "    return output"
   ]
  },
  {
   "cell_type": "code",
   "execution_count": 15,
   "id": "5400ff19",
   "metadata": {},
   "outputs": [],
   "source": [
    "# always first we need to vectorize a given input\n",
    "\n",
    "def get_user_vectorized(user_input,vectorizer,vectorized_corpus):\n",
    "    tokens = [str(tok) for tok in word_tokenize(user_input)]\n",
    "    user_tfidf = vectorizer.transform(tokens)\n",
    "    return user_tfidf"
   ]
  },
  {
   "cell_type": "code",
   "execution_count": 16,
   "id": "a881154f",
   "metadata": {},
   "outputs": [],
   "source": [
    "# fit the data to apply the model\n",
    "\n",
    "TFIDF = tfidf_vectorizer.fit_transform((df['corpus']))\n",
    "\n",
    "# gives the five most similar results by using cosine similarity\n",
    "\n",
    "def get_recommendation_TFIDF(user_input,df):\n",
    "    output = get_cos_similarity_scores(user_input,vectorizer = tfidf_vectorizer,vectorized_corpus =  TFIDF)\n",
    "    top = sorted(range(len(output)), key=lambda i: output[i][0], reverse=True)[:5]\n",
    "    list_scores = [output[i][0][0] for i in top]\n",
    "    \n",
    "    recommendation = pd.DataFrame(columns = ['name',  'instructor','rating', 'score','index'])\n",
    "    count = 0\n",
    "    best_index = list()\n",
    "    for i in top:\n",
    "        recommendation.at[count, 'name'] = df['name'][i]\n",
    "        recommendation.at[count, 'instructor'] = df['instructor'][i]\n",
    "        recommendation.at[count, 'rating'] = df['rating'][i]\n",
    "        recommendation.at[count, 'score'] =  list_scores[count]\n",
    "        index = list(df. index)\n",
    "        recommendation['index'][count] = i\n",
    "        count += 1\n",
    "        best_index.append(i) \n",
    "    return recommendation, best_index"
   ]
  },
  {
   "cell_type": "code",
   "execution_count": 17,
   "id": "ffd4cd1e",
   "metadata": {},
   "outputs": [
    {
     "data": {
      "text/html": [
       "<div>\n",
       "<style scoped>\n",
       "    .dataframe tbody tr th:only-of-type {\n",
       "        vertical-align: middle;\n",
       "    }\n",
       "\n",
       "    .dataframe tbody tr th {\n",
       "        vertical-align: top;\n",
       "    }\n",
       "\n",
       "    .dataframe thead th {\n",
       "        text-align: right;\n",
       "    }\n",
       "</style>\n",
       "<table border=\"1\" class=\"dataframe\">\n",
       "  <thead>\n",
       "    <tr style=\"text-align: right;\">\n",
       "      <th></th>\n",
       "      <th>name</th>\n",
       "      <th>instructor</th>\n",
       "      <th>rating</th>\n",
       "      <th>score</th>\n",
       "      <th>index</th>\n",
       "    </tr>\n",
       "  </thead>\n",
       "  <tbody>\n",
       "    <tr>\n",
       "      <th>0</th>\n",
       "      <td>Data Processing Using Python</td>\n",
       "      <td>ZHANG Li</td>\n",
       "      <td>4.1</td>\n",
       "      <td>0.616981</td>\n",
       "      <td>394</td>\n",
       "    </tr>\n",
       "    <tr>\n",
       "      <th>1</th>\n",
       "      <td>Python Programming: A Concise Introduction</td>\n",
       "      <td>Bill Boyd</td>\n",
       "      <td>4.7</td>\n",
       "      <td>0.36151</td>\n",
       "      <td>196</td>\n",
       "    </tr>\n",
       "    <tr>\n",
       "      <th>2</th>\n",
       "      <td>Python and Statistics for Financial Analysis</td>\n",
       "      <td>Xuhu Wan</td>\n",
       "      <td>4.4</td>\n",
       "      <td>0.345533</td>\n",
       "      <td>321</td>\n",
       "    </tr>\n",
       "    <tr>\n",
       "      <th>3</th>\n",
       "      <td>Computers, Waves, Simulations: A Practical Int...</td>\n",
       "      <td>Heiner Igel</td>\n",
       "      <td>4.7</td>\n",
       "      <td>0.315762</td>\n",
       "      <td>764</td>\n",
       "    </tr>\n",
       "    <tr>\n",
       "      <th>4</th>\n",
       "      <td>Global Warming II: Create Your Own Models in P...</td>\n",
       "      <td>David Archer</td>\n",
       "      <td>4.1</td>\n",
       "      <td>0.279169</td>\n",
       "      <td>623</td>\n",
       "    </tr>\n",
       "  </tbody>\n",
       "</table>\n",
       "</div>"
      ],
      "text/plain": [
       "                                                name    instructor rating  \\\n",
       "0                       Data Processing Using Python      ZHANG Li    4.1   \n",
       "1         Python Programming: A Concise Introduction     Bill Boyd    4.7   \n",
       "2       Python and Statistics for Financial Analysis      Xuhu Wan    4.4   \n",
       "3  Computers, Waves, Simulations: A Practical Int...   Heiner Igel    4.7   \n",
       "4  Global Warming II: Create Your Own Models in P...  David Archer    4.1   \n",
       "\n",
       "      score index  \n",
       "0  0.616981   394  \n",
       "1   0.36151   196  \n",
       "2  0.345533   321  \n",
       "3  0.315762   764  \n",
       "4  0.279169   623  "
      ]
     },
     "execution_count": 17,
     "metadata": {},
     "output_type": "execute_result"
    }
   ],
   "source": [
    "# example\n",
    "\n",
    "#get_recommendation_TFIDF('python programming',df)[0]"
   ]
  },
  {
   "cell_type": "markdown",
   "id": "3d687297",
   "metadata": {},
   "source": [
    "## Using CountVectorizer"
   ]
  },
  {
   "cell_type": "code",
   "execution_count": 18,
   "id": "86fd9c24",
   "metadata": {},
   "outputs": [],
   "source": [
    "#initializing count vectorizer for feature extraction\n",
    "\n",
    "from sklearn.feature_extraction.text import CountVectorizer\n",
    "\n",
    "count_vectorizer = CountVectorizer()"
   ]
  },
  {
   "cell_type": "code",
   "execution_count": 19,
   "id": "5013c987",
   "metadata": {},
   "outputs": [],
   "source": [
    "# fit the data into count vectorizer\n",
    "\n",
    "CV = count_vectorizer.fit_transform((df['corpus']))\n",
    "\n",
    "# gives the five most similar results by using cosine similarity\n",
    "\n",
    "def get_recommendation_CV(user_input,df):\n",
    "    output = get_cos_similarity_scores(user_input,vectorizer = count_vectorizer, vectorized_corpus= CV)\n",
    "    top = sorted(range(len(output)), key=lambda i: output[i][0], reverse=True)[:5]\n",
    "    list_scores = [output[i][0][0] for i in top]\n",
    "    \n",
    "    recommendation = pd.DataFrame(columns = ['name',  'instructor','rating', 'score','index'])\n",
    "    count = 0\n",
    "    best_index = list()\n",
    "    for i in top:\n",
    "        recommendation.at[count, 'name'] = df['name'][i]\n",
    "        recommendation.at[count, 'instructor'] = df['instructor'][i]\n",
    "        recommendation.at[count, 'rating'] = df['rating'][i]\n",
    "        recommendation.at[count, 'score'] =  list_scores[count]\n",
    "        index = list(df. index)\n",
    "        recommendation['index'][count] = i\n",
    "        count += 1\n",
    "        best_index.append(i) \n",
    "    return recommendation, best_index"
   ]
  },
  {
   "cell_type": "code",
   "execution_count": 20,
   "id": "409bfc6d",
   "metadata": {},
   "outputs": [
    {
     "data": {
      "text/html": [
       "<div>\n",
       "<style scoped>\n",
       "    .dataframe tbody tr th:only-of-type {\n",
       "        vertical-align: middle;\n",
       "    }\n",
       "\n",
       "    .dataframe tbody tr th {\n",
       "        vertical-align: top;\n",
       "    }\n",
       "\n",
       "    .dataframe thead th {\n",
       "        text-align: right;\n",
       "    }\n",
       "</style>\n",
       "<table border=\"1\" class=\"dataframe\">\n",
       "  <thead>\n",
       "    <tr style=\"text-align: right;\">\n",
       "      <th></th>\n",
       "      <th>name</th>\n",
       "      <th>instructor</th>\n",
       "      <th>rating</th>\n",
       "      <th>score</th>\n",
       "      <th>index</th>\n",
       "    </tr>\n",
       "  </thead>\n",
       "  <tbody>\n",
       "    <tr>\n",
       "      <th>0</th>\n",
       "      <td>Data Processing Using Python</td>\n",
       "      <td>ZHANG Li</td>\n",
       "      <td>4.1</td>\n",
       "      <td>0.461701</td>\n",
       "      <td>394</td>\n",
       "    </tr>\n",
       "    <tr>\n",
       "      <th>1</th>\n",
       "      <td>Python Programming: A Concise Introduction</td>\n",
       "      <td>Bill Boyd</td>\n",
       "      <td>4.7</td>\n",
       "      <td>0.301023</td>\n",
       "      <td>196</td>\n",
       "    </tr>\n",
       "    <tr>\n",
       "      <th>2</th>\n",
       "      <td>Computers, Waves, Simulations: A Practical Int...</td>\n",
       "      <td>Heiner Igel</td>\n",
       "      <td>4.7</td>\n",
       "      <td>0.290684</td>\n",
       "      <td>764</td>\n",
       "    </tr>\n",
       "    <tr>\n",
       "      <th>3</th>\n",
       "      <td>Python and Statistics for Financial Analysis</td>\n",
       "      <td>Xuhu Wan</td>\n",
       "      <td>4.4</td>\n",
       "      <td>0.267932</td>\n",
       "      <td>321</td>\n",
       "    </tr>\n",
       "    <tr>\n",
       "      <th>4</th>\n",
       "      <td>Learn to Program: The Fundamentals</td>\n",
       "      <td>Jennifer Campbell</td>\n",
       "      <td>4.7</td>\n",
       "      <td>0.23947</td>\n",
       "      <td>250</td>\n",
       "    </tr>\n",
       "  </tbody>\n",
       "</table>\n",
       "</div>"
      ],
      "text/plain": [
       "                                                name         instructor  \\\n",
       "0                       Data Processing Using Python           ZHANG Li   \n",
       "1         Python Programming: A Concise Introduction          Bill Boyd   \n",
       "2  Computers, Waves, Simulations: A Practical Int...        Heiner Igel   \n",
       "3       Python and Statistics for Financial Analysis           Xuhu Wan   \n",
       "4                 Learn to Program: The Fundamentals  Jennifer Campbell   \n",
       "\n",
       "  rating     score index  \n",
       "0    4.1  0.461701   394  \n",
       "1    4.7  0.301023   196  \n",
       "2    4.7  0.290684   764  \n",
       "3    4.4  0.267932   321  \n",
       "4    4.7   0.23947   250  "
      ]
     },
     "execution_count": 20,
     "metadata": {},
     "output_type": "execute_result"
    }
   ],
   "source": [
    "#get_recommendation_CV('python programming',df)[0]"
   ]
  },
  {
   "cell_type": "markdown",
   "id": "f89ac784",
   "metadata": {},
   "source": [
    "## Using KNN"
   ]
  },
  {
   "cell_type": "code",
   "execution_count": 21,
   "id": "fbaf4e08",
   "metadata": {},
   "outputs": [],
   "source": [
    "from sklearn.neighbors import NearestNeighbors\n",
    "\n",
    "def get_NNS(user_input,n_neighbors,vectorizer, vectorized_corpus):   # vectorized_corpus could be TFIDF or CV\n",
    "    KNN = NearestNeighbors(n_neighbors, p=2)\n",
    "    KNN.fit(vectorized_corpus)\n",
    "    user_tfidf = get_user_vectorized(user_input,vectorizer,vectorized_corpus)\n",
    "    NNs = KNN.kneighbors(user_tfidf, return_distance=True) \n",
    "    return NNs"
   ]
  },
  {
   "cell_type": "code",
   "execution_count": 22,
   "id": "81821c33",
   "metadata": {},
   "outputs": [],
   "source": [
    "def get_recommendation_KNN(user_input,df):\n",
    "    top = get_NNS(user_input,6,vectorizer=tfidf_vectorizer, vectorized_corpus=TFIDF)[1][0][1:]\n",
    "    index_score = get_NNS(user_input,6,vectorizer=tfidf_vectorizer, vectorized_corpus=TFIDF)[0][0][1:]\n",
    "    recommendation = pd.DataFrame(columns = ['name',  'instructor','rating', 'score','index'])\n",
    "    count = 0\n",
    "    best_index = list()\n",
    "    for i in top:\n",
    "        recommendation.at[count, 'name'] = df['name'][i]\n",
    "        recommendation.at[count, 'instructor'] = df['instructor'][i]\n",
    "        recommendation.at[count, 'rating'] = df['rating'][i]\n",
    "        recommendation.at[count, 'score'] =  index_score[count]\n",
    "        index = list(df. index)\n",
    "        recommendation['index'][count] = i\n",
    "        count += 1\n",
    "        best_index.append(i) \n",
    "    return recommendation, best_index\n",
    "    \n"
   ]
  },
  {
   "cell_type": "code",
   "execution_count": 23,
   "id": "626dfede",
   "metadata": {},
   "outputs": [
    {
     "name": "stderr",
     "output_type": "stream",
     "text": [
      "/Users/ummuhandemir/opt/anaconda3/envs/DA_env/lib/python3.9/site-packages/sklearn/utils/validation.py:70: FutureWarning: Pass n_neighbors=6 as keyword args. From version 1.0 (renaming of 0.25) passing these as positional arguments will result in an error\n",
      "  warnings.warn(f\"Pass {args_msg} as keyword args. From version \"\n"
     ]
    },
    {
     "data": {
      "text/html": [
       "<div>\n",
       "<style scoped>\n",
       "    .dataframe tbody tr th:only-of-type {\n",
       "        vertical-align: middle;\n",
       "    }\n",
       "\n",
       "    .dataframe tbody tr th {\n",
       "        vertical-align: top;\n",
       "    }\n",
       "\n",
       "    .dataframe thead th {\n",
       "        text-align: right;\n",
       "    }\n",
       "</style>\n",
       "<table border=\"1\" class=\"dataframe\">\n",
       "  <thead>\n",
       "    <tr style=\"text-align: right;\">\n",
       "      <th></th>\n",
       "      <th>name</th>\n",
       "      <th>instructor</th>\n",
       "      <th>rating</th>\n",
       "      <th>score</th>\n",
       "      <th>index</th>\n",
       "    </tr>\n",
       "  </thead>\n",
       "  <tbody>\n",
       "    <tr>\n",
       "      <th>0</th>\n",
       "      <td>Python Programming: A Concise Introduction</td>\n",
       "      <td>Bill Boyd</td>\n",
       "      <td>4.7</td>\n",
       "      <td>1.130035</td>\n",
       "      <td>196</td>\n",
       "    </tr>\n",
       "    <tr>\n",
       "      <th>1</th>\n",
       "      <td>Python and Statistics for Financial Analysis</td>\n",
       "      <td>Xuhu Wan</td>\n",
       "      <td>4.4</td>\n",
       "      <td>1.144086</td>\n",
       "      <td>321</td>\n",
       "    </tr>\n",
       "    <tr>\n",
       "      <th>2</th>\n",
       "      <td>Computers, Waves, Simulations: A Practical Int...</td>\n",
       "      <td>Heiner Igel</td>\n",
       "      <td>4.7</td>\n",
       "      <td>1.169819</td>\n",
       "      <td>764</td>\n",
       "    </tr>\n",
       "    <tr>\n",
       "      <th>3</th>\n",
       "      <td>Global Warming II: Create Your Own Models in P...</td>\n",
       "      <td>David Archer</td>\n",
       "      <td>4.1</td>\n",
       "      <td>1.200693</td>\n",
       "      <td>623</td>\n",
       "    </tr>\n",
       "    <tr>\n",
       "      <th>4</th>\n",
       "      <td>Learn to Program: The Fundamentals</td>\n",
       "      <td>Jennifer Campbell</td>\n",
       "      <td>4.7</td>\n",
       "      <td>1.20582</td>\n",
       "      <td>250</td>\n",
       "    </tr>\n",
       "  </tbody>\n",
       "</table>\n",
       "</div>"
      ],
      "text/plain": [
       "                                                name         instructor  \\\n",
       "0         Python Programming: A Concise Introduction          Bill Boyd   \n",
       "1       Python and Statistics for Financial Analysis           Xuhu Wan   \n",
       "2  Computers, Waves, Simulations: A Practical Int...        Heiner Igel   \n",
       "3  Global Warming II: Create Your Own Models in P...       David Archer   \n",
       "4                 Learn to Program: The Fundamentals  Jennifer Campbell   \n",
       "\n",
       "  rating     score index  \n",
       "0    4.7  1.130035   196  \n",
       "1    4.4  1.144086   321  \n",
       "2    4.7  1.169819   764  \n",
       "3    4.1  1.200693   623  \n",
       "4    4.7   1.20582   250  "
      ]
     },
     "execution_count": 23,
     "metadata": {},
     "output_type": "execute_result"
    }
   ],
   "source": [
    "#get_recommendation_KNN('python programming',df)[0]"
   ]
  },
  {
   "cell_type": "markdown",
   "id": "c0a0add4",
   "metadata": {},
   "source": [
    "**Summary:**\n",
    "- More or less all three models give the same courses when I enter 'python programming' as keyword, but I choose the count vectorizer to build my recommendation engine. Because in the top five list of it, we don't see 'Global Warming ... ' course."
   ]
  },
  {
   "cell_type": "markdown",
   "id": "df83e3fd",
   "metadata": {},
   "source": [
    "# New aspect "
   ]
  },
  {
   "cell_type": "markdown",
   "id": "ef81a253",
   "metadata": {},
   "source": [
    "So far recommendations were done by using user input as keywords. \n",
    "Now, I expand it to that scenerio: if user puts a course that he has already completed in Coursera, I want to recommend similar courses to continue learning and reinforce his knowledge."
   ]
  },
  {
   "cell_type": "code",
   "execution_count": 24,
   "id": "bfaa86ce",
   "metadata": {},
   "outputs": [],
   "source": [
    "# if user enters a course name, it finds the corresponding course\n",
    "\n",
    "def locate_corpus_by_name(user_input,df):\n",
    "    user_input = user_input.lower()\n",
    "    df['name']= df['name'].str.lower()\n",
    "    new = df.loc[df.name == user_input, 'corpus'].values[0]\n",
    "    return new"
   ]
  },
  {
   "cell_type": "code",
   "execution_count": 25,
   "id": "5148d945",
   "metadata": {},
   "outputs": [],
   "source": [
    "# machine learning is a course name\n",
    "\n",
    "user_input = locate_corpus_by_name('machine learning',df)"
   ]
  },
  {
   "cell_type": "code",
   "execution_count": 26,
   "id": "a988769b",
   "metadata": {},
   "outputs": [
    {
     "data": {
      "text/plain": [
       "'machine andrew ngtop instructor mix level data science machine machine science get computers act without explicitly program past decade machine give self drive cars practical speech recognition effective web search vastly improve understand human genome machine pervasive today probably dozens time day without know many researchers also think best way make progress towards human level class effective machine techniques gain practice implement get importantly youll theoretical underpinnings also gain practical know need quickly powerfully apply techniques problems finally youll silicon valleys best practice innovation pertain machine provide broad machine datamining statistical pattern recognition topics include supervise parametric non parametric algorithms support vector machine kernels neural network unsupervised cluster dimensionality reduction recommender systems deep iii best practice machine bias variance theory innovation process machine also draw numerous case study applications youll also apply algorithms build smart robots perception control text understand web search anti spam computer vision medical informatics audio database mine areas welcome machine introduce core idea teach computer concepts data without explicitly program wiki construction please visit resources tab complete date information linear regression predict real value output base input value discuss application linear regression house price prediction present notion cost function introduce gradient descent method optional provide refresher linear algebra concepts basic understand linear algebra necessary rest especially begin cover model multiple variables input value show linear regression extend accommodate multiple input feature also discuss best practice implement linear regression include program assignments design help understand implement algorithms practice complete program assignments need octave matlab introduce octave matlab show submit assignment logistic regression method classify data discrete outcomes example might logistic regression classify email spam spam introduce notion classification cost function logistic regression application logistic regression multi class classification machine model need generalize well examples model see practice introduce regularization help prevent model overfitting train data neural network model inspire brain widely today many applications phone interpret understand voice command likely neural network help understand speech cash check machine automatically read digits also neural network introduce backpropagation algorithm help parameters neural network end implement neural network digit recognition apply machine practice always straightforward share best practice apply machine practice discuss best ways evaluate performance model optimize machine algorithm need understand biggest improvements make discuss understand performance machine multiple also deal skew data support vector machine svms machine algorithm classification introduce idea intuitions behind svms discuss practice unsupervised build model help understand data better discuss mean algorithm cluster enable group unlabeled data point introduce principal components analysis show data compression speed algorithms well visualizations complex datasets give large number data point may sometimes want figure ones vary significantly average example manufacture may want detect defect anomalies show dataset model gaussian distribution model anomaly detection buy product online websites automatically recommend products may like recommender systems look pattern activities different users different products produce recommendations introduce recommender algorithms collaborative filter algorithm low rank matrix factorization machine best abundance data leverage train discuss apply machine algorithms large datasets identify recognize object word digits image challenge task discuss pipeline build tackle problem analyze improve performance welcome machine welcome machine supervise unsupervised machine honor code machine discussion forums supervise unsupervised mentor get know classmates frequently ask question slide model representation cost function cost function intuition cost function intuition gradient descent gradient descent intuition gradient descent linear regression model representation cost function cost function intuition cost function intuition gradient descent gradient descent intuition gradient descent linear regression slide linear regression variable matrices vectors addition scalar multiplication matrix vector multiplication matrix matrix multiplication matrix multiplication properties inverse transpose matrices vectors addition scalar multiplication matrix vector multiplication matrix matrix multiplication matrix multiplication properties inverse transpose slide linear algebra multiple feature gradient descent multiple variables gradient descent practice feature scale gradient descent practice rate feature polynomial regression normal equation normal equation noninvertibility submit program assignments set program assignment environment access matlab online exercise file matlab users instal octave windows instal octave mac yosemite mavericks later instal octave mac mountain lion earlier instal octave gnu linux octave matlab resources multiple feature gradient descent multiple variables gradient descent practice feature scale gradient descent practice rate feature polynomial regression normal equation normal equation noninvertibility program tip mentor slide linear regression multiple variables basic operations move data around compute data plot data control statements statement vectorization slide please read youve switch original version octave matlab tutorial classification hypothesis representation decision boundary cost function simplify cost function gradient descent advance optimization multiclass classification classification hypothesis representation decision boundary cost function simplify cost function gradient descent advance optimization multiclass classification slide logistic regression problem overfitting cost function regularize linear regression regularize logistic regression problem overfitting cost function regularize linear regression regularize logistic regression slide regularization non linear hypotheses neurons brain model representation model representation examples intuitions examples intuitions multiclass classification model representation model representation examples intuitions examples intuitions multiclass classification slide neural network representation cost function backpropagation algorithm backpropagation intuition implementation note unroll parameters gradient check random initialization put together autonomous drive cost function backpropagation algorithm backpropagation intuition implementation note unroll parameters gradient check random initialization put together slide neural network decide try next evaluate hypothesis model selection train validation test set diagnose bias variance regularization bias variance curve decide next revisit evaluate hypothesis model selection train validation test set diagnose bias variance regularization bias variance curve decide next revisit slide advice apply machine prioritize error analysis error metrics skew class trade precision recall data machine prioritize error analysis slide machine design optimization objective large margin intuition mathematics behind large margin classification kernels kernels svm slide support vector machine unsupervised mean algorithm optimization objective random initialization choose number cluster slide unsupervised motivation data compression motivation visualization principal component analysis problem formulation principal component analysis algorithm reconstruction compress representation choose number principal components advice apply pca slide principal component analysis problem motivation gaussian distribution algorithm develop evaluate anomaly detection anomaly detection supervise choose feature multivariate gaussian distribution anomaly detection multivariate gaussian distribution slide anomaly detection problem formulation content base recommendations collaborative filter collaborative filter algorithm vectorization low rank matrix factorization implementational detail mean normalization slide recommender systems large datasets stochastic gradient descent mini batch gradient descent stochastic gradient descent convergence online map reduce data parallelism slide large scale machine problem description pipeline slide windows get lot data artificial data ceiling analysis pipeline next summary thank slide application photo ocr'"
      ]
     },
     "execution_count": 26,
     "metadata": {},
     "output_type": "execute_result"
    }
   ],
   "source": [
    "#user_input"
   ]
  },
  {
   "cell_type": "code",
   "execution_count": null,
   "id": "a8ad5a6d",
   "metadata": {},
   "outputs": [],
   "source": []
  },
  {
   "cell_type": "markdown",
   "id": "d658c150",
   "metadata": {},
   "source": [
    "# Recommender "
   ]
  },
  {
   "cell_type": "code",
   "execution_count": 27,
   "id": "cb296a4f",
   "metadata": {},
   "outputs": [],
   "source": [
    "def recommender():\n",
    "    response = input( \"\\033[1m\" + \"\"\"\n",
    "                        Welcome to the Coursera course recommender! (It contains only free courses.)\n",
    "                        Are you new here?(yes/no): \"\"\").lower().replace(\" \", '')\n",
    "    while response == 'yes':\n",
    "        query_sentence = input(\"\\033[1m\" + \"\"\"\n",
    "                        I am glad you prefer studying today!\n",
    "                        What do you want to learn? Give me some keywords that are important for you: \n",
    "                        \"\"\").lower()\n",
    "            \n",
    "        best_index = get_recommendation_CV(query_sentence,df)[1]\n",
    "        #print(best_index)\n",
    "        if len(best_index)==0:\n",
    "            response = input(\"\\033[1m\" + \"\"\"\n",
    "                        Sorry, couldnt find a good match. Do you want to try again? (yes/no)\n",
    "                        \"\"\")\n",
    "            if response == 'yes':\n",
    "                print(\"\\033[1m\"+ \"\"\"\n",
    "                        This time please give more details.\n",
    "                        \"\"\")\n",
    "            if response == 'no':\n",
    "                print(\"\\033[1m\"+ \"\"\"\n",
    "                        Please don't quit on studying. See you later!\n",
    "                        \"\"\")\n",
    "            \n",
    "        elif len(best_index)!=0:\n",
    "            print(\"\\033[1m\"+\"\"\"\n",
    "                        We have five courses for you, choose according to your level: \"\"\")\n",
    "            \n",
    "            for i in list(best_index):\n",
    "                course_name = df['name'].iloc[i]\n",
    "                instructor = df['instructor'].iloc[i]\n",
    "                level = df['level'].iloc[i]\n",
    "                url = df['url'].iloc[i]\n",
    "                corpus = df['corpus'].iloc[i]\n",
    "                print(\"\\033[1m\"+ \"\"\" \n",
    "                            {}: \n",
    "                            {} \n",
    "                            by {}.\n",
    "                            Here is the link of the course, you can dive into get an idea whether it fits your need \n",
    "                            {}\n",
    "                            \"\"\".format(level,\"\\u0332\".join(course_name.title()),instructor,url))\n",
    "            \n",
    "            response = 'no'\n",
    "            return \n",
    "        \n",
    "    \n",
    "            \n",
    "    while response == 'no':\n",
    "        query_sentence = str(input(\"\\033[1m\" + \"\"\"\n",
    "                            How nice you are back! Which course have you completed?(Full course name please)\n",
    "                                \"\"\").lower())\n",
    "        \n",
    "        \n",
    "        if query_sentence not in list(df['name']):\n",
    "            response = input(\"\\033[1m\" + \"\"\"\n",
    "                        Sorry, you couldn't write the course name. Do you want to try again? (yes/no)\n",
    "                        \"\"\")\n",
    "            if response == 'yes':\n",
    "                 query_sentence = str(input(\"\\033[1m\" + \"\"\"\n",
    "                            How nice you are back! Which course have you completed?(Full course name please)\n",
    "                                \"\"\").lower())\n",
    "            if response == 'no':\n",
    "                print(\"\\033[1m\"+ \"\"\"\n",
    "                            Please don't quit on studying. See you later!\n",
    "                        \"\"\")\n",
    "                return\n",
    "          \n",
    "        query = locate_corpus_by_name(query_sentence,df)\n",
    "        #print(query)\n",
    "        best_index = get_recommendation_CV(query,df)[1]\n",
    "        if len(best_index)!=0:\n",
    "           \n",
    "    \n",
    "        #print(best_index)\n",
    "            print(\"\\033[1m\"+\"\"\"\n",
    "                        We have some courses for you, choose according to your level: \"\"\")\n",
    "            \n",
    "            for i in list(best_index):\n",
    "                course_name = df['name'].iloc[i]\n",
    "                instructor = df['instructor'].iloc[i]\n",
    "                level = df['level'].iloc[i]\n",
    "                url = df['url'].iloc[i]\n",
    "                corpus = df['corpus'].iloc[i]\n",
    "                if course_name != query_sentence:\n",
    "                    print(\"\\033[1m\"+ \"\"\" \n",
    "                            {}: \n",
    "                            {} \n",
    "                            by {}\n",
    "                            Here is the link of the course, you can dive into get an idea whether it fits your need \n",
    "                            {}\"\"\".format(level,\"\\u0332\".join(course_name.title()),instructor,url))\n",
    "                   \n",
    "            response = 'yes'\n",
    "            return\n",
    "        "
   ]
  },
  {
   "cell_type": "markdown",
   "id": "84f350af",
   "metadata": {},
   "source": [
    "## Examples:"
   ]
  },
  {
   "cell_type": "code",
   "execution_count": 29,
   "id": "fa9facfa",
   "metadata": {
    "scrolled": false
   },
   "outputs": [
    {
     "name": "stdout",
     "output_type": "stream",
     "text": [
      "\n",
      "                        Welcome to the Coursera course recommender! (It contains only free courses.)\n",
      "                        Are you new here?(yes/no): no\n",
      "\n",
      "                            How nice you are back! Which course have you completed?(Full course name please)\n",
      "                                machine learning\n",
      "\u001b[1m\n",
      "                        We have some courses for you, choose according to your level: \n",
      "\u001b[1m \n",
      "                            Intermediate Level: \n",
      "                            I̲n̲t̲r̲o̲d̲u̲c̲t̲i̲o̲n̲ ̲T̲o̲ ̲E̲m̲b̲e̲d̲d̲e̲d̲ ̲M̲a̲c̲h̲i̲n̲e̲ ̲L̲e̲a̲r̲n̲i̲n̲g \n",
      "                            by Shawn Hymel\n",
      "                            Here is the link of the course, you can dive into get an idea whether it fits your need \n",
      "                            https://www.coursera.org/learn/introduction-to-embedded-machine-learning\n",
      "\u001b[1m \n",
      "                            Intermediate Level: \n",
      "                            C̲o̲m̲p̲u̲t̲e̲r̲ ̲S̲c̲i̲e̲n̲c̲e̲:̲ ̲ ̲A̲l̲g̲o̲r̲i̲t̲h̲m̲s̲,̲ ̲T̲h̲e̲o̲r̲y̲,̲ ̲A̲n̲d̲ ̲M̲a̲c̲h̲i̲n̲e̲s \n",
      "                            by Robert Sedgewick\n",
      "                            Here is the link of the course, you can dive into get an idea whether it fits your need \n",
      "                            https://www.coursera.org/learn/cs-algorithms-theory-machines\n",
      "\u001b[1m \n",
      "                            Intermediate Level: \n",
      "                            M̲a̲c̲h̲i̲n̲e̲ ̲T̲r̲a̲n̲s̲l̲a̲t̲i̲o̲n \n",
      "                            by Alexander Waibel\n",
      "                            Here is the link of the course, you can dive into get an idea whether it fits your need \n",
      "                            https://www.coursera.org/learn/machinetranslation\n",
      "\u001b[1m \n",
      "                            Intermediate Level: \n",
      "                            C̲y̲b̲e̲r̲-̲P̲h̲y̲s̲i̲c̲a̲l̲ ̲S̲y̲s̲t̲e̲m̲s̲:̲ ̲M̲o̲d̲e̲l̲i̲n̲g̲ ̲A̲n̲d̲ ̲S̲i̲m̲u̲l̲a̲t̲i̲o̲n \n",
      "                            by Ricardo Sanfelice\n",
      "                            Here is the link of the course, you can dive into get an idea whether it fits your need \n",
      "                            https://www.coursera.org/learn/cyber-physical-systems-1\n"
     ]
    }
   ],
   "source": [
    "recommender()"
   ]
  },
  {
   "cell_type": "code",
   "execution_count": 30,
   "id": "33e6eb01",
   "metadata": {
    "scrolled": false
   },
   "outputs": [
    {
     "name": "stdout",
     "output_type": "stream",
     "text": [
      "\n",
      "                        Welcome to the Coursera course recommender! (It contains only free courses.)\n",
      "                        Are you new here?(yes/no): yes\n",
      "\n",
      "                        I am glad you prefer studying today!\n",
      "                        What do you want to learn? Give me some keywords that are important for you: \n",
      "                        italian\n",
      "\u001b[1m\n",
      "                        We have five courses for you, choose according to your level: \n",
      "\u001b[1m \n",
      "                            Beginner Level: \n",
      "                            F̲i̲g̲h̲t̲i̲n̲g̲ ̲C̲o̲v̲i̲d̲-̲1̲9̲ ̲W̲i̲t̲h̲ ̲E̲p̲i̲d̲e̲m̲i̲o̲l̲o̲g̲y̲:̲ ̲A̲ ̲J̲o̲h̲n̲s̲ ̲H̲o̲p̲k̲i̲n̲s̲ ̲T̲e̲a̲c̲h̲-̲O̲u̲t \n",
      "                            by Gypsyamber D'Souza, PhD, MS, MPH.\n",
      "                            Here is the link of the course, you can dive into get an idea whether it fits your need \n",
      "                            https://www.coursera.org/learn/covid19-epidemiology\n",
      "                            \n",
      "\u001b[1m \n",
      "                            Intermediate Level: \n",
      "                            E̲x̲p̲l̲o̲r̲i̲n̲g̲ ̲B̲e̲e̲t̲h̲o̲v̲e̲n̲'̲S̲ ̲P̲i̲a̲n̲o̲ ̲S̲o̲n̲a̲t̲a̲s̲ ̲P̲a̲r̲t̲ ̲5 \n",
      "                            by Jonathan Biss.\n",
      "                            Here is the link of the course, you can dive into get an idea whether it fits your need \n",
      "                            https://www.coursera.org/learn/exploring-beethoven-piano-sonatas-5\n",
      "                            \n",
      "\u001b[1m \n",
      "                            Beginner Level: \n",
      "                            T̲h̲e̲ ̲C̲h̲a̲n̲g̲i̲n̲g̲ ̲L̲a̲n̲d̲s̲c̲a̲p̲e̲ ̲O̲f̲ ̲A̲n̲c̲i̲e̲n̲t̲ ̲R̲o̲m̲e̲.̲ ̲A̲r̲c̲h̲a̲e̲o̲l̲o̲g̲y̲ ̲A̲n̲d̲ ̲H̲i̲s̲t̲o̲r̲y̲ ̲O̲f̲ ̲T̲h̲e̲ ̲P̲a̲l̲a̲t̲i̲n̲e̲ ̲H̲i̲l̲l \n",
      "                            by Paolo Carafa.\n",
      "                            Here is the link of the course, you can dive into get an idea whether it fits your need \n",
      "                            https://www.coursera.org/learn/palatine-hill-archaeology-history\n",
      "                            \n",
      "\u001b[1m \n",
      "                            Beginner Level: \n",
      "                            R̲o̲m̲a̲n̲ ̲A̲r̲c̲h̲i̲t̲e̲c̲t̲u̲r̲e \n",
      "                            by Diana E.E. Kleiner.\n",
      "                            Here is the link of the course, you can dive into get an idea whether it fits your need \n",
      "                            https://www.coursera.org/learn/roman-architecture\n",
      "                            \n",
      "\u001b[1m \n",
      "                            Beginner Level: \n",
      "                            M̲e̲d̲i̲t̲a̲t̲i̲o̲n̲:̲ ̲A̲ ̲W̲a̲y̲ ̲T̲o̲ ̲A̲c̲h̲i̲e̲v̲e̲ ̲Y̲o̲u̲r̲ ̲G̲o̲a̲l̲s̲ ̲I̲n̲ ̲Y̲o̲u̲r̲ ̲L̲i̲f̲e \n",
      "                            by Duck-Joo Lee.\n",
      "                            Here is the link of the course, you can dive into get an idea whether it fits your need \n",
      "                            https://www.coursera.org/learn/self-reflection-meditation\n",
      "                            \n"
     ]
    }
   ],
   "source": [
    "recommender()"
   ]
  },
  {
   "cell_type": "code",
   "execution_count": 31,
   "id": "e559a09a",
   "metadata": {},
   "outputs": [
    {
     "name": "stdout",
     "output_type": "stream",
     "text": [
      "\n",
      "                        Welcome to the Coursera course recommender! (It contains only free courses.)\n",
      "                        Are you new here?(yes/no): no\n",
      "\n",
      "                            How nice you are back! Which course have you completed?(Full course name please)\n",
      "                                machine\n",
      "\n",
      "                        Sorry, you couldn't write the course name. Do you want to try again? (yes/no)\n",
      "                        yes\n",
      "\n",
      "                            How nice you are back! Which course have you completed?(Full course name please)\n",
      "                                machine learning\n",
      "\u001b[1m\n",
      "                        We have some courses for you, choose according to your level: \n",
      "\u001b[1m \n",
      "                            Intermediate Level: \n",
      "                            I̲n̲t̲r̲o̲d̲u̲c̲t̲i̲o̲n̲ ̲T̲o̲ ̲E̲m̲b̲e̲d̲d̲e̲d̲ ̲M̲a̲c̲h̲i̲n̲e̲ ̲L̲e̲a̲r̲n̲i̲n̲g \n",
      "                            by Shawn Hymel\n",
      "                            Here is the link of the course, you can dive into get an idea whether it fits your need \n",
      "                            https://www.coursera.org/learn/introduction-to-embedded-machine-learning\n",
      "\u001b[1m \n",
      "                            Intermediate Level: \n",
      "                            C̲o̲m̲p̲u̲t̲e̲r̲ ̲S̲c̲i̲e̲n̲c̲e̲:̲ ̲ ̲A̲l̲g̲o̲r̲i̲t̲h̲m̲s̲,̲ ̲T̲h̲e̲o̲r̲y̲,̲ ̲A̲n̲d̲ ̲M̲a̲c̲h̲i̲n̲e̲s \n",
      "                            by Robert Sedgewick\n",
      "                            Here is the link of the course, you can dive into get an idea whether it fits your need \n",
      "                            https://www.coursera.org/learn/cs-algorithms-theory-machines\n",
      "\u001b[1m \n",
      "                            Intermediate Level: \n",
      "                            M̲a̲c̲h̲i̲n̲e̲ ̲T̲r̲a̲n̲s̲l̲a̲t̲i̲o̲n \n",
      "                            by Alexander Waibel\n",
      "                            Here is the link of the course, you can dive into get an idea whether it fits your need \n",
      "                            https://www.coursera.org/learn/machinetranslation\n",
      "\u001b[1m \n",
      "                            Intermediate Level: \n",
      "                            C̲y̲b̲e̲r̲-̲P̲h̲y̲s̲i̲c̲a̲l̲ ̲S̲y̲s̲t̲e̲m̲s̲:̲ ̲M̲o̲d̲e̲l̲i̲n̲g̲ ̲A̲n̲d̲ ̲S̲i̲m̲u̲l̲a̲t̲i̲o̲n \n",
      "                            by Ricardo Sanfelice\n",
      "                            Here is the link of the course, you can dive into get an idea whether it fits your need \n",
      "                            https://www.coursera.org/learn/cyber-physical-systems-1\n"
     ]
    }
   ],
   "source": [
    "recommender()"
   ]
  },
  {
   "cell_type": "code",
   "execution_count": 32,
   "id": "570b6c54",
   "metadata": {},
   "outputs": [
    {
     "name": "stdout",
     "output_type": "stream",
     "text": [
      "\n",
      "                        Welcome to the Coursera course recommender! (It contains only free courses.)\n",
      "                        Are you new here?(yes/no): no\n",
      "\n",
      "                            How nice you are back! Which course have you completed?(Full course name please)\n",
      "                                machine\n",
      "\n",
      "                        Sorry, you couldn't write the course name. Do you want to try again? (yes/no)\n",
      "                        no\n",
      "\u001b[1m\n",
      "                            Please don't quit on studying. See you later!\n",
      "                        \n"
     ]
    }
   ],
   "source": [
    "recommender()"
   ]
  },
  {
   "cell_type": "markdown",
   "id": "bbfc927b",
   "metadata": {},
   "source": [
    "# Just for Fun with Work Clouds"
   ]
  },
  {
   "cell_type": "code",
   "execution_count": null,
   "id": "26a934c3",
   "metadata": {},
   "outputs": [],
   "source": []
  },
  {
   "cell_type": "markdown",
   "id": "e66f0d10",
   "metadata": {},
   "source": [
    "bunch_text = \" \".join(text for text in df['corpus'][110].split(' '))"
   ]
  },
  {
   "cell_type": "markdown",
   "id": "44b06adb",
   "metadata": {},
   "source": [
    "stopwords = set(list(STOPWORDS))\n",
    "stopwords.update(['course','module','introduction','will','week','learn','video','part','lecture','video','using','system','one','new','use','first','s','work'])\n",
    "\n",
    "wordcloud = WordCloud(stopwords=stopwords, background_color=\"white\", colormap= \"magma\").generate(bunch_text)"
   ]
  },
  {
   "cell_type": "markdown",
   "id": "ce706e9e",
   "metadata": {},
   "source": [
    "from IPython.core.display import HTML\n",
    "HTML(\"\"\"\n",
    "<style>\n",
    ".output_png {\n",
    "    display: table-cell;\n",
    "    text-align: center;\n",
    "    vertical-align: middle;\n",
    "}\n",
    "</style>\n",
    "\"\"\")"
   ]
  },
  {
   "cell_type": "markdown",
   "id": "9db7775c",
   "metadata": {},
   "source": [
    "plt.figure(figsize=[11,11])\n",
    "plt.imshow(wordcloud, interpolation=\"sinc\", )\n",
    "plt.axis(\"off\")\n",
    "title = df['name'].iloc[110]\n",
    "plt.title('Course Name: ' + title, fontsize=15)\n",
    "\n",
    "plt.show()\n"
   ]
  },
  {
   "cell_type": "code",
   "execution_count": null,
   "id": "c212e5bf",
   "metadata": {},
   "outputs": [],
   "source": []
  }
 ],
 "metadata": {
  "kernelspec": {
   "display_name": "Python 3 (ipykernel)",
   "language": "python",
   "name": "python3"
  },
  "language_info": {
   "codemirror_mode": {
    "name": "ipython",
    "version": 3
   },
   "file_extension": ".py",
   "mimetype": "text/x-python",
   "name": "python",
   "nbconvert_exporter": "python",
   "pygments_lexer": "ipython3",
   "version": "3.9.7"
  },
  "toc": {
   "base_numbering": 1,
   "nav_menu": {},
   "number_sections": true,
   "sideBar": true,
   "skip_h1_title": false,
   "title_cell": "Table of Contents",
   "title_sidebar": "Contents",
   "toc_cell": false,
   "toc_position": {},
   "toc_section_display": true,
   "toc_window_display": false
  }
 },
 "nbformat": 4,
 "nbformat_minor": 5
}
