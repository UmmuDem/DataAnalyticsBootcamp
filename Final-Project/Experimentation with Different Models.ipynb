{
 "cells": [
  {
   "cell_type": "markdown",
   "id": "d9fd0f96",
   "metadata": {},
   "source": [
    "# Course Recommender"
   ]
  },
  {
   "cell_type": "markdown",
   "id": "887cb444",
   "metadata": {},
   "source": [
    "## Import Libraries"
   ]
  },
  {
   "cell_type": "code",
   "execution_count": 1,
   "id": "90bab20b",
   "metadata": {},
   "outputs": [],
   "source": [
    "# data cleaning and EDA\n",
    "import pandas as pd\n",
    "import numpy as np\n",
    "import seaborn as sns\n",
    "import matplotlib.pyplot as plt\n",
    "\n",
    "# text analysis\n",
    "import nltk \n",
    "from nltk.corpus import stopwords\n",
    "from nltk.tokenize import word_tokenize\n",
    "from nltk.stem import WordNetLemmatizer\n",
    "import re\n",
    "import string"
   ]
  },
  {
   "cell_type": "markdown",
   "id": "54c2e3ba",
   "metadata": {},
   "source": [
    "## Bring in Clean Data"
   ]
  },
  {
   "cell_type": "code",
   "execution_count": 2,
   "id": "44fb14b4",
   "metadata": {},
   "outputs": [],
   "source": [
    "df = pd.read_csv('clean_data.csv')"
   ]
  },
  {
   "cell_type": "code",
   "execution_count": 3,
   "id": "e96ece2b",
   "metadata": {},
   "outputs": [
    {
     "data": {
      "text/html": [
       "<div>\n",
       "<style scoped>\n",
       "    .dataframe tbody tr th:only-of-type {\n",
       "        vertical-align: middle;\n",
       "    }\n",
       "\n",
       "    .dataframe tbody tr th {\n",
       "        vertical-align: top;\n",
       "    }\n",
       "\n",
       "    .dataframe thead th {\n",
       "        text-align: right;\n",
       "    }\n",
       "</style>\n",
       "<table border=\"1\" class=\"dataframe\">\n",
       "  <thead>\n",
       "    <tr style=\"text-align: right;\">\n",
       "      <th></th>\n",
       "      <th>Unnamed: 0</th>\n",
       "      <th>name</th>\n",
       "      <th>instructor</th>\n",
       "      <th>level</th>\n",
       "      <th>category</th>\n",
       "      <th>subcategory</th>\n",
       "      <th>no_of_students</th>\n",
       "      <th>rating</th>\n",
       "      <th>no_of_rating</th>\n",
       "      <th>about</th>\n",
       "      <th>syllabus</th>\n",
       "      <th>language</th>\n",
       "      <th>url</th>\n",
       "    </tr>\n",
       "  </thead>\n",
       "  <tbody>\n",
       "    <tr>\n",
       "      <th>0</th>\n",
       "      <td>0</td>\n",
       "      <td>Meditation: A way to achieve your goals in you...</td>\n",
       "      <td>Duck-Joo Lee</td>\n",
       "      <td>Beginner Level</td>\n",
       "      <td>Arts and Humanities</td>\n",
       "      <td>Philosophy</td>\n",
       "      <td>78489</td>\n",
       "      <td>4.6</td>\n",
       "      <td>843</td>\n",
       "      <td>Do we truly think that we have lived for ourse...</td>\n",
       "      <td>['Self- reflection is the methodology of medit...</td>\n",
       "      <td>English</td>\n",
       "      <td>https://www.coursera.org/learn/self-reflection...</td>\n",
       "    </tr>\n",
       "  </tbody>\n",
       "</table>\n",
       "</div>"
      ],
      "text/plain": [
       "   Unnamed: 0                                               name  \\\n",
       "0           0  Meditation: A way to achieve your goals in you...   \n",
       "\n",
       "     instructor           level             category subcategory  \\\n",
       "0  Duck-Joo Lee  Beginner Level  Arts and Humanities  Philosophy   \n",
       "\n",
       "   no_of_students  rating  no_of_rating  \\\n",
       "0           78489     4.6           843   \n",
       "\n",
       "                                               about  \\\n",
       "0  Do we truly think that we have lived for ourse...   \n",
       "\n",
       "                                            syllabus language  \\\n",
       "0  ['Self- reflection is the methodology of medit...  English   \n",
       "\n",
       "                                                 url  \n",
       "0  https://www.coursera.org/learn/self-reflection...  "
      ]
     },
     "execution_count": 3,
     "metadata": {},
     "output_type": "execute_result"
    }
   ],
   "source": [
    "df.head(1)"
   ]
  },
  {
   "cell_type": "code",
   "execution_count": 4,
   "id": "8ea87b63",
   "metadata": {},
   "outputs": [
    {
     "data": {
      "text/plain": [
       "'0      [\\'Self- reflection is the methodology of medit...\\n1      [\\'This course is about the remarkable northern...\\n2      [\\'Join us this week to find out how the course...\\n3      [\\'The goal of the Module is to define individu...\\n4      [\\'This module explores sourcing of materials f...\\n                             ...                        \\n906    [\\'Approaching voting problems with the securit...\\n907    [\\'Welcome to our course! This is a hands-on wo...\\n908    [\\'Welcome to the first week of the course! Thı...\\n909    [\\'In this first week, you will learn more abou...\\n910    [\"This short module includes an overview of th...\\nName: syllabus, Length: 911, dtype: object'"
      ]
     },
     "execution_count": 4,
     "metadata": {},
     "output_type": "execute_result"
    }
   ],
   "source": [
    "str(df['syllabus'])"
   ]
  },
  {
   "cell_type": "markdown",
   "id": "83279291",
   "metadata": {},
   "source": [
    "## Create the Corpus"
   ]
  },
  {
   "cell_type": "markdown",
   "id": "fd3abe87",
   "metadata": {},
   "source": [
    "I will combine all categorical columns except language."
   ]
  },
  {
   "cell_type": "code",
   "execution_count": 5,
   "id": "24a43f6a",
   "metadata": {
    "scrolled": true
   },
   "outputs": [
    {
     "data": {
      "text/plain": [
       "'Meditation: A way to achieve your goals in your life Duck-Joo Lee Beginner Level Arts and Humanities Philosophy Do we truly think that we have lived for ourselves? Perhaps we have lived for money, love, fame, family and pride etc.? Therefore, we don’t seem to be satisfied even though we are full of those things. It is because that we don’t know ourselves.Eric Fromm talked about human nature as two modes of being: “To Have” and “To Be”.  If we are “Having” the nature of possessions, we are not satisfied, and feel empty and futile. Then, how can we be “Being” the nature of our inner-selves?\\n\\nSometimes, we happened to be aware of this “Being” nature and try to change ourselves, but fail. But, because of our daily routines, it’s easily forgotten. And more it is hard to escape from our unwanted minds controlling us.\\n\\nFrom now on, let us reflect on ourselves and look at our minds leading up to today! Don’t we achieve our goals after knowing ourselves? And let us find the “Being” nature of our original selves after escaping from the minds restraining and controlling us.\\n\\nIn this lecture, the definition and principle of the mind are explained in simple and clear ways. You can make sure and practice the methodology of finding the true original mind of inner-self by escaping from the false mind of possession. \\n\\nSelf-reflection is the first step to meditate. You can know yourselves most objectively through meditation and you will realize that all the thoughts and actions are due to your minds which are nonexistent and false. If you throw away the false mind, you will find the true mind.\\n\\nMeditation is now world-wide sensation. There are many research reports that show people can be leaders if you have a habit of self-reflection through meditation. Now meditation at school and the workplace are popular.\\n\\nHappiness is having no worries. You can really relax yourself if there is no bundle of thoughts and you can be successful when you know yourself truly. Worries come from the memorized thoughts of the false mind. Your inner potential of positive power are revealed, your peaceful and happiest mind will be in your mind, and you can live the life you wanted through meditation.\\n\\nThis method of meditation is very practical and everybody can follow the methodology. As an engineer, I will guide you step by step to practice this meditation. I am sure that this lecture becomes a turning point in your life.[\\'Self- reflection is the methodology of meditation for growth, happiness and human completion: (1) Why do we need self-reflection?, (2) Academic research on self-reflection, (3) Draw my life graph, and (4) Ultimate purpose of self-reflection\\', \\'Learn the principle of self-reflection and practice the self–reflection through 5 subjects: \\', \\'(1) Methodology of self-reflection, (2) Practice of self-reflection through 5 essential subjects (barrier in relationships, inferiority and ego in childhood, emotion of love and hatred since childhood, worries, response to problems), and (3) My past life and my current self\\', \\'Recognize the copied world and real world and think of living free from the self.: (1) Principle of mind formation, (2) Human recognition observed by philosophers and neuroscientists, (3) Understanding the reasons why we cannot live my own way, and (4) Human mind and Original mind\\', \\'Learn and practice the methodology of mind cleansing: (1) Do you want to change yourself?, (2) Methodology of the mind cleansing, (3) Repetition of the self-reflection of the 5 essential subjects, (4) Real potential and positive mind.\\', \\'Learn and practice the methodology of self-reflection and the mind cleansing in everyday life: (1)Stress is the impetus for growth, (2) Case study on overcoming the self, (3) Health-mind relationship and brain wave changes, and (4) Meaning of self-reflection and the mind cleansing in life.\\', \\'Let’s start the peaceful life with wisdom: (1) Draw your life graph again, (2)People at school and the office practicing self-reflection continuously, (3) Meaning of self-reflection in social aspects (through reflections on communication and relationships), (4) Starting point of the peaceful life with wisdom\\', \\'Introduction\\', \\'1-1. What is the goal of your life?\\', \\'1-3. Draw my life graph\\', \\'1-5. Human completion\\', \\'1-6 Ultimate Purpose of Human Completion\\', \\'Week 1- Self Reflection Meditation Session \\', \\'Opinions from previous on-line meditation learners\\', \\'1-2 Literature on Self-reflection \\', \\'1-4 Self Leadership \\', \\'1-7 Self Reflection and World Peace.\\', \\'Lecture slides for week 1\\', \\'Quiz for Week 1\\', \\'2-1. Inner power recovered through self-reflection: Interview with an scholar in education\\', \\'2-2. How much do I know my self\\', \\'2-3. Exercise of self-reflection\\', \\'2-4. Practice of self-reflection through relationships\\', \\'2-5. Practice of self-reflection through myself\\', \\'2-6. Practice of self-reflection through emotions of love and hatred\\', \\'2-7. Practice of self-reflection through worries\\', \\'2-8. Practice of self-reflection through response\\', \\'2-9. Your current state & Future you want\\', \\'Lecture material for week 2\\', \\'Quiz for Week 2\\', \\'3-1. My mind world\\', \\'3-2. Human recognition observed by philosophers\\', \\'3-3. Human recognition observed by neuroscientists\\', \\'3-4. Interview with a neuroscientist\\', \\'3-5. Human illusion\\', \\'3-6. Principle of mind formation\\', \\'3-7. Human mind & Original mind\\', \"3-8. Understanding the reasons why we can\\'t live with free will\", \\'Lecture material for week 3\\', \\'Quiz for Week 3\\', \\'4-1. Do you want to change yourself? (1)\\', \\'4-2. Do you want to change yourself? (2)\\', \\'4-3. Methodology of mind cleansing\\', \\'4-4. Your will for change\\', \\'4-5. Repetition of self-reflection - Pride\\', \\'4-6. Repetition of self-reflection - Human relationships\\', \\'4-7. Repetition of self-reflection - Love\\', \\'4-8. Real potential and positive mind\\', \\'Lecture material for week 4\\', \\'Quiz for Week 4\\', \\'5-1. Self-reflection in ordinary life\\', \\'5-2. Stress is the impetus for growth\\', \\'5-3. Case study on overcoming the self\\', \\'5-4. Mind gravity\\', \\'5-5. Health-mind relationship\\', \\'5-6. Brain wave changes\\', \\'5-7. Meaning of self-reflection and mind cleansing life\\', \\'Lecture material for week 5\\', \\'Quiz for Week 5\\', \"6-1. Importance of self-reflection; meditation expert\\'s view\", \\'6-2. Practice of subtraction chronologically\\', \\'6-3. Meaning of self-reflection in social aspects through subtraction on relationships\\', \\'6-4. Meaning of self-reflection in social aspects through subtraction on communication\\', \\'6-5. People at school practicing self-reflection continuously\\', \\'6-6. People at the office practicing self-reflection continuously\\', \\'6-7. Starting point of peaceful life with wisdom\\', \\'Lecture material for week 6\\', \\'Quiz for Week 6\\']'"
      ]
     },
     "execution_count": 5,
     "metadata": {},
     "output_type": "execute_result"
    }
   ],
   "source": [
    "df[\"corpus\"] = df[\"name\"].map(str) + \" \" + df[\"instructor\"].map(str) +\" \"+ df[\"level\"].map(str)+ \" \"+df['category'].map(str)+\" \"+df['subcategory'].map(str) +\" \"+ df['about'].map(str) + df['syllabus'].map(str) \n",
    "df[\"corpus\"][0]\n"
   ]
  },
  {
   "cell_type": "code",
   "execution_count": 6,
   "id": "8c4cd357",
   "metadata": {
    "scrolled": true
   },
   "outputs": [
    {
     "data": {
      "text/html": [
       "<div>\n",
       "<style scoped>\n",
       "    .dataframe tbody tr th:only-of-type {\n",
       "        vertical-align: middle;\n",
       "    }\n",
       "\n",
       "    .dataframe tbody tr th {\n",
       "        vertical-align: top;\n",
       "    }\n",
       "\n",
       "    .dataframe thead th {\n",
       "        text-align: right;\n",
       "    }\n",
       "</style>\n",
       "<table border=\"1\" class=\"dataframe\">\n",
       "  <thead>\n",
       "    <tr style=\"text-align: right;\">\n",
       "      <th></th>\n",
       "      <th>Unnamed: 0</th>\n",
       "      <th>name</th>\n",
       "      <th>instructor</th>\n",
       "      <th>level</th>\n",
       "      <th>category</th>\n",
       "      <th>subcategory</th>\n",
       "      <th>no_of_students</th>\n",
       "      <th>rating</th>\n",
       "      <th>no_of_rating</th>\n",
       "      <th>about</th>\n",
       "      <th>syllabus</th>\n",
       "      <th>language</th>\n",
       "      <th>url</th>\n",
       "      <th>corpus</th>\n",
       "    </tr>\n",
       "  </thead>\n",
       "  <tbody>\n",
       "    <tr>\n",
       "      <th>0</th>\n",
       "      <td>0</td>\n",
       "      <td>Meditation: A way to achieve your goals in you...</td>\n",
       "      <td>Duck-Joo Lee</td>\n",
       "      <td>Beginner Level</td>\n",
       "      <td>Arts and Humanities</td>\n",
       "      <td>Philosophy</td>\n",
       "      <td>78489</td>\n",
       "      <td>4.6</td>\n",
       "      <td>843</td>\n",
       "      <td>Do we truly think that we have lived for ourse...</td>\n",
       "      <td>['Self- reflection is the methodology of medit...</td>\n",
       "      <td>English</td>\n",
       "      <td>https://www.coursera.org/learn/self-reflection...</td>\n",
       "      <td>Meditation: A way to achieve your goals in you...</td>\n",
       "    </tr>\n",
       "    <tr>\n",
       "      <th>1</th>\n",
       "      <td>1</td>\n",
       "      <td>Introduction to the Arctic: Climate</td>\n",
       "      <td>Paul Myers, Ph.D</td>\n",
       "      <td>Mixed Level</td>\n",
       "      <td>Physical Science and Engineering</td>\n",
       "      <td>Environmental Science and Sustainability</td>\n",
       "      <td>13439</td>\n",
       "      <td>4.6</td>\n",
       "      <td>420</td>\n",
       "      <td>The University of Alberta, the University of T...</td>\n",
       "      <td>['This course is about the remarkable northern...</td>\n",
       "      <td>English</td>\n",
       "      <td>https://www.coursera.org/learn/arctic-introduc...</td>\n",
       "      <td>Introduction to the Arctic: Climate Paul Myers...</td>\n",
       "    </tr>\n",
       "    <tr>\n",
       "      <th>2</th>\n",
       "      <td>2</td>\n",
       "      <td>Data Science in Stratified Healthcare and Prec...</td>\n",
       "      <td>Dr Areti Manataki</td>\n",
       "      <td>Intermediate Level</td>\n",
       "      <td>Data Science</td>\n",
       "      <td>Data Analysis</td>\n",
       "      <td>16421</td>\n",
       "      <td>4.6</td>\n",
       "      <td>241</td>\n",
       "      <td>An increasing volume of data is becoming avail...</td>\n",
       "      <td>['Join us this week to find out how the course...</td>\n",
       "      <td>English</td>\n",
       "      <td>https://www.coursera.org/learn/datascimed</td>\n",
       "      <td>Data Science in Stratified Healthcare and Prec...</td>\n",
       "    </tr>\n",
       "    <tr>\n",
       "      <th>3</th>\n",
       "      <td>3</td>\n",
       "      <td>How to Get Skilled: Introduction to Individual...</td>\n",
       "      <td>Dr. Valeri Chukhlomin</td>\n",
       "      <td>Intermediate Level</td>\n",
       "      <td>Personal Development</td>\n",
       "      <td>Personal Development</td>\n",
       "      <td>50038</td>\n",
       "      <td>3.7</td>\n",
       "      <td>214</td>\n",
       "      <td>Do you want to gain a competitive edge on the ...</td>\n",
       "      <td>['The goal of the Module is to define individu...</td>\n",
       "      <td>English</td>\n",
       "      <td>https://www.coursera.org/learn/skills-management</td>\n",
       "      <td>How to Get Skilled: Introduction to Individual...</td>\n",
       "    </tr>\n",
       "    <tr>\n",
       "      <th>4</th>\n",
       "      <td>4</td>\n",
       "      <td>Circular Economy - Sustainable Materials Manag...</td>\n",
       "      <td>Philip Peck</td>\n",
       "      <td>Beginner Level</td>\n",
       "      <td>Physical Science and Engineering</td>\n",
       "      <td>Environmental Science and Sustainability</td>\n",
       "      <td>37682</td>\n",
       "      <td>4.8</td>\n",
       "      <td>1136</td>\n",
       "      <td>This course looks at where important materials...</td>\n",
       "      <td>['This module explores sourcing of materials f...</td>\n",
       "      <td>English</td>\n",
       "      <td>https://www.coursera.org/learn/circular-economy</td>\n",
       "      <td>Circular Economy - Sustainable Materials Manag...</td>\n",
       "    </tr>\n",
       "  </tbody>\n",
       "</table>\n",
       "</div>"
      ],
      "text/plain": [
       "   Unnamed: 0                                               name  \\\n",
       "0           0  Meditation: A way to achieve your goals in you...   \n",
       "1           1                Introduction to the Arctic: Climate   \n",
       "2           2  Data Science in Stratified Healthcare and Prec...   \n",
       "3           3  How to Get Skilled: Introduction to Individual...   \n",
       "4           4  Circular Economy - Sustainable Materials Manag...   \n",
       "\n",
       "              instructor               level  \\\n",
       "0           Duck-Joo Lee      Beginner Level   \n",
       "1       Paul Myers, Ph.D         Mixed Level   \n",
       "2      Dr Areti Manataki  Intermediate Level   \n",
       "3  Dr. Valeri Chukhlomin  Intermediate Level   \n",
       "4            Philip Peck      Beginner Level   \n",
       "\n",
       "                           category                               subcategory  \\\n",
       "0               Arts and Humanities                                Philosophy   \n",
       "1  Physical Science and Engineering  Environmental Science and Sustainability   \n",
       "2                      Data Science                             Data Analysis   \n",
       "3              Personal Development                      Personal Development   \n",
       "4  Physical Science and Engineering  Environmental Science and Sustainability   \n",
       "\n",
       "   no_of_students  rating  no_of_rating  \\\n",
       "0           78489     4.6           843   \n",
       "1           13439     4.6           420   \n",
       "2           16421     4.6           241   \n",
       "3           50038     3.7           214   \n",
       "4           37682     4.8          1136   \n",
       "\n",
       "                                               about  \\\n",
       "0  Do we truly think that we have lived for ourse...   \n",
       "1  The University of Alberta, the University of T...   \n",
       "2  An increasing volume of data is becoming avail...   \n",
       "3  Do you want to gain a competitive edge on the ...   \n",
       "4  This course looks at where important materials...   \n",
       "\n",
       "                                            syllabus language  \\\n",
       "0  ['Self- reflection is the methodology of medit...  English   \n",
       "1  ['This course is about the remarkable northern...  English   \n",
       "2  ['Join us this week to find out how the course...  English   \n",
       "3  ['The goal of the Module is to define individu...  English   \n",
       "4  ['This module explores sourcing of materials f...  English   \n",
       "\n",
       "                                                 url  \\\n",
       "0  https://www.coursera.org/learn/self-reflection...   \n",
       "1  https://www.coursera.org/learn/arctic-introduc...   \n",
       "2          https://www.coursera.org/learn/datascimed   \n",
       "3   https://www.coursera.org/learn/skills-management   \n",
       "4    https://www.coursera.org/learn/circular-economy   \n",
       "\n",
       "                                              corpus  \n",
       "0  Meditation: A way to achieve your goals in you...  \n",
       "1  Introduction to the Arctic: Climate Paul Myers...  \n",
       "2  Data Science in Stratified Healthcare and Prec...  \n",
       "3  How to Get Skilled: Introduction to Individual...  \n",
       "4  Circular Economy - Sustainable Materials Manag...  "
      ]
     },
     "execution_count": 6,
     "metadata": {},
     "output_type": "execute_result"
    }
   ],
   "source": [
    "df.head()"
   ]
  },
  {
   "cell_type": "markdown",
   "id": "512a2048",
   "metadata": {},
   "source": [
    "## Data Cleaning/Wrangling"
   ]
  },
  {
   "cell_type": "markdown",
   "id": "2e1b1c6c",
   "metadata": {},
   "source": [
    "- Explain cleaning and wrangling procedures"
   ]
  },
  {
   "cell_type": "code",
   "execution_count": null,
   "id": "219f7b87",
   "metadata": {},
   "outputs": [],
   "source": [
    "stop_words = set(stopwords.words('english'))\n",
    "stop_words.update(['course','module','introduction','will','week','learn','video','part','lecture','video','using','system','one','new','use','first','s','work'])\n",
    "\n",
    "wn = WordNetLemmatizer()\n",
    "\n",
    "def black_txt(token):\n",
    "    return  token not in stop_words and token not in list(string.punctuation)  and len(token)>2   \n",
    "  \n",
    "def clean_txt(text):\n",
    "    clean_text = []\n",
    "    clean_text2 = []\n",
    "    text = re.sub(\"'\", \"\",text)\n",
    "    text=re.sub(\"(\\\\d|\\\\W)+\",\" \",text) \n",
    "    text = text.replace(\"nbsp\", \"\")\n",
    "    clean_text = [ wn.lemmatize(word, pos=\"v\") for word in word_tokenize(text.lower()) if black_txt(word)]\n",
    "    clean_text2 = [word for word in clean_text if black_txt(word)]\n",
    "    return \" \".join(clean_text2) "
   ]
  },
  {
   "cell_type": "code",
   "execution_count": null,
   "id": "66e0c1e5",
   "metadata": {},
   "outputs": [],
   "source": [
    "print(stop_words)\n",
    "print(len(stop_words))"
   ]
  },
  {
   "cell_type": "code",
   "execution_count": null,
   "id": "85044e00",
   "metadata": {},
   "outputs": [],
   "source": [
    "df['corpus'] = df['corpus'].apply(lambda x: clean_txt(x))"
   ]
  },
  {
   "cell_type": "code",
   "execution_count": null,
   "id": "5df75421",
   "metadata": {},
   "outputs": [],
   "source": [
    "df.head()"
   ]
  },
  {
   "cell_type": "markdown",
   "id": "b269a4b7",
   "metadata": {},
   "source": [
    "## Using TFIDF"
   ]
  },
  {
   "cell_type": "code",
   "execution_count": null,
   "id": "449bddab",
   "metadata": {},
   "outputs": [],
   "source": [
    "#initializing tfidf vectorizer\n",
    "from sklearn.feature_extraction.text import TfidfVectorizer\n",
    "from sklearn.metrics.pairwise import cosine_similarity\n",
    "tfidf_vectorizer = TfidfVectorizer()"
   ]
  },
  {
   "cell_type": "code",
   "execution_count": null,
   "id": "8c44fb58",
   "metadata": {},
   "outputs": [],
   "source": [
    "def get_cos_similarity_scores(user_input,vectorizer,vectorized_corpus):\n",
    "    tokens = [str(tok) for tok in word_tokenize(user_input)]\n",
    "    user_tfidf = vectorizer.transform(tokens)\n",
    "    cos_similarity = map(lambda x: cosine_similarity(user_tfidf, x),vectorized_corpus)\n",
    "    output = list(cos_similarity)\n",
    "    return output"
   ]
  },
  {
   "cell_type": "code",
   "execution_count": null,
   "id": "5400ff19",
   "metadata": {},
   "outputs": [],
   "source": [
    "def get_user_vectorized(user_input,vectorizer,vectorized_corpus):\n",
    "    tokens = [str(tok) for tok in word_tokenize(user_input)]\n",
    "    user_tfidf = vectorizer.transform(tokens)\n",
    "    return user_tfidf"
   ]
  },
  {
   "cell_type": "code",
   "execution_count": null,
   "id": "a881154f",
   "metadata": {},
   "outputs": [],
   "source": [
    "TFIDF = tfidf_vectorizer.fit_transform((df['corpus']))\n",
    "\n",
    "def get_recommendation_TFIDF(user_input,df):\n",
    "    output = get_cos_similarity_scores(user_input,vectorizer = tfidf_vectorizer,vectorized_corpus =  TFIDF)\n",
    "    top = sorted(range(len(output)), key=lambda i: output[i][0], reverse=True)[:5]\n",
    "    list_scores = [output[i][0][0] for i in top]\n",
    "    \n",
    "    recommendation = pd.DataFrame(columns = ['name',  'instructor','rating', 'score','index'])\n",
    "    count = 0\n",
    "    best_index = list()\n",
    "    for i in top:\n",
    "        recommendation.at[count, 'name'] = df['name'][i]\n",
    "        recommendation.at[count, 'instructor'] = df['instructor'][i]\n",
    "        recommendation.at[count, 'rating'] = df['rating'][i]\n",
    "        recommendation.at[count, 'score'] =  list_scores[count]\n",
    "        index = list(df. index)\n",
    "        recommendation['index'][count] = i\n",
    "        count += 1\n",
    "        best_index.append(i) \n",
    "    return recommendation, best_index"
   ]
  },
  {
   "cell_type": "code",
   "execution_count": null,
   "id": "ffd4cd1e",
   "metadata": {},
   "outputs": [],
   "source": [
    "get_recommendation_TFIDF('sql',df)[0]"
   ]
  },
  {
   "cell_type": "markdown",
   "id": "3d687297",
   "metadata": {},
   "source": [
    "## Using CountVectorizer"
   ]
  },
  {
   "cell_type": "code",
   "execution_count": null,
   "id": "86fd9c24",
   "metadata": {},
   "outputs": [],
   "source": [
    "from sklearn.feature_extraction.text import CountVectorizer\n",
    "count_vectorizer = CountVectorizer()"
   ]
  },
  {
   "cell_type": "code",
   "execution_count": null,
   "id": "5013c987",
   "metadata": {},
   "outputs": [],
   "source": [
    "CV = count_vectorizer.fit_transform((df['corpus']))\n",
    "\n",
    "def get_recommendation_CV(user_input,df):\n",
    "    output = get_cos_similarity_scores(user_input,vectorizer = count_vectorizer, vectorized_corpus= CV)\n",
    "    top = sorted(range(len(output)), key=lambda i: output[i][0], reverse=True)[:5]\n",
    "    list_scores = [output[i][0][0] for i in top]\n",
    "    \n",
    "    recommendation = pd.DataFrame(columns = ['name',  'instructor','rating', 'score','index'])\n",
    "    count = 0\n",
    "    best_index = list()\n",
    "    for i in top:\n",
    "        recommendation.at[count, 'name'] = df['name'][i]\n",
    "        recommendation.at[count, 'instructor'] = df['instructor'][i]\n",
    "        recommendation.at[count, 'rating'] = df['rating'][i]\n",
    "        recommendation.at[count, 'score'] =  list_scores[count]\n",
    "        index = list(df. index)\n",
    "        recommendation['index'][count] = i\n",
    "        count += 1\n",
    "        best_index.append(i) \n",
    "    return recommendation, best_index"
   ]
  },
  {
   "cell_type": "code",
   "execution_count": null,
   "id": "5148d945",
   "metadata": {},
   "outputs": [],
   "source": [
    "user_input = locate_corpus_by_name('machine learning',df)"
   ]
  },
  {
   "cell_type": "code",
   "execution_count": null,
   "id": "409bfc6d",
   "metadata": {},
   "outputs": [],
   "source": [
    "get_recommendation_CV(user_input,df)[0]"
   ]
  },
  {
   "cell_type": "markdown",
   "id": "f89ac784",
   "metadata": {},
   "source": [
    "## Using KNN"
   ]
  },
  {
   "cell_type": "code",
   "execution_count": null,
   "id": "fbaf4e08",
   "metadata": {},
   "outputs": [],
   "source": [
    "from sklearn.neighbors import NearestNeighbors\n",
    "\n",
    "def get_NNS(user_input,n_neighbors,vectorizer, vectorized_corpus):   # vectorized_corpus could be TFIDF or CV\n",
    "    KNN = NearestNeighbors(n_neighbors, p=2)\n",
    "    KNN.fit(vectorized_corpus)\n",
    "    user_tfidf = get_user_vectorized(user_input,vectorizer,vectorized_corpus)\n",
    "    NNs = KNN.kneighbors(user_tfidf, return_distance=True) \n",
    "    return NNs"
   ]
  },
  {
   "cell_type": "code",
   "execution_count": null,
   "id": "81821c33",
   "metadata": {},
   "outputs": [],
   "source": [
    "def get_recommendation_KNN(user_input,df):\n",
    "    top = get_NNS(user_input,6,vectorizer=tfidf_vectorizer, vectorized_corpus=TFIDF)[1][0][1:]\n",
    "    index_score = get_NNS(user_input,6,vectorizer=tfidf_vectorizer, vectorized_corpus=TFIDF)[0][0][1:]\n",
    "    recommendation = pd.DataFrame(columns = ['name',  'instructor','rating', 'score','index'])\n",
    "    count = 0\n",
    "    best_index = list()\n",
    "    for i in top:\n",
    "        recommendation.at[count, 'name'] = df['name'][i]\n",
    "        recommendation.at[count, 'instructor'] = df['instructor'][i]\n",
    "        recommendation.at[count, 'rating'] = df['rating'][i]\n",
    "        recommendation.at[count, 'score'] =  index_score[count]\n",
    "        index = list(df. index)\n",
    "        recommendation['index'][count] = i\n",
    "        count += 1\n",
    "        best_index.append(i) \n",
    "    return recommendation, best_index\n",
    "    \n"
   ]
  },
  {
   "cell_type": "code",
   "execution_count": null,
   "id": "626dfede",
   "metadata": {},
   "outputs": [],
   "source": [
    "get_recommendation_KNN('tableau',df)[0]"
   ]
  },
  {
   "cell_type": "code",
   "execution_count": null,
   "id": "7c3bf22d",
   "metadata": {},
   "outputs": [],
   "source": []
  },
  {
   "cell_type": "code",
   "execution_count": null,
   "id": "bfaa86ce",
   "metadata": {},
   "outputs": [],
   "source": [
    "def locate_corpus_by_name(user_input,df):\n",
    "    user_input = user_input.lower()\n",
    "    df['name']= df['name'].str.lower()\n",
    "    new = df.loc[df.name == user_input, 'corpus'].values[0]\n",
    "    return new"
   ]
  },
  {
   "cell_type": "code",
   "execution_count": null,
   "id": "a988769b",
   "metadata": {},
   "outputs": [],
   "source": [
    "locate_corpus_by_name('Networks: Friends, Money, and Bytes',df)"
   ]
  },
  {
   "cell_type": "code",
   "execution_count": null,
   "id": "a8ad5a6d",
   "metadata": {},
   "outputs": [],
   "source": []
  },
  {
   "cell_type": "code",
   "execution_count": null,
   "id": "fa388518",
   "metadata": {},
   "outputs": [],
   "source": []
  },
  {
   "cell_type": "code",
   "execution_count": null,
   "id": "cb296a4f",
   "metadata": {},
   "outputs": [],
   "source": [
    "def recommender():\n",
    "    response = input( \"\\033[1m\" + \"\"\"\n",
    "                        Welcome to the Coursera course recommender! (It contains only free courses.)\n",
    "                        Are you new here?(yes/no): \"\"\").lower().replace(\" \", '')\n",
    "    while response == 'yes':\n",
    "        query_sentence = input(\"\\033[1m\" + \"\"\"\n",
    "                        I am glad you prefer studying today!\n",
    "                        What do you want to learn? Give me some keywords that are important for you: \n",
    "                        \"\"\").lower()\n",
    "            \n",
    "        best_index = get_recommendation_CV(query_sentence,df)[1]\n",
    "        #print(best_index)\n",
    "        if len(best_index)==0:\n",
    "            response = input(\"\\033[1m\" + \"\"\"\n",
    "                        Sorry, couldnt find a good match. Do you want to try again? (yes/no)\n",
    "                        \"\"\")\n",
    "            if response == 'yes':\n",
    "                print(\"\\033[1m\"+ \"\"\"\n",
    "                        This time please give more details.\n",
    "                        \"\"\")\n",
    "            if response == 'no':\n",
    "                print(\"\\033[1m\"+ \"\"\"\n",
    "                        Please don't quit on studying. See you later!\n",
    "                        \"\"\")\n",
    "            \n",
    "        elif len(best_index)!=0:\n",
    "            print(\"\\033[1m\"+\"\"\"\n",
    "                        We have three courses for you, choose according to your level: \"\"\")\n",
    "            \n",
    "            for i in list(best_index):\n",
    "                course_name = df['name'].iloc[i]\n",
    "                instructor = df['instructor'].iloc[i]\n",
    "                level = df['level'].iloc[i]\n",
    "                print(\"\\033[1m\"+ \"\"\" \n",
    "                            {}: \n",
    "                            {} \n",
    "                            by {} \"\"\".format(level,\"\\u0332\".join(course_name),instructor))\n",
    "                    \n",
    "            response = 'no'\n",
    "            return \n",
    "        \n",
    "    \n",
    "            \n",
    "    while response == 'no':\n",
    "        query_sentence = str(input(\"\\033[1m\" + \"\"\"\n",
    "                            How nice you are back! Which course have you completed?(Full course name please)\n",
    "                                \"\"\").lower())\n",
    "    \n",
    "        query = locate_corpus_by_name(query_sentence,df)\n",
    "        #print(query)\n",
    "        best_index = get_recommendation_CV(query,df)[1]\n",
    "    \n",
    "        #print(best_index)\n",
    "        if len(best_index)==0:\n",
    "            response = input(\"\\033[1m\" + \"\"\"\n",
    "                        Sorry, couldnt find a good match. Do you want to try again? (yes/no)\n",
    "                        \"\"\")\n",
    "            if response == 'yes':\n",
    "                print(\"\\033[1m\"+ \"\"\"\n",
    "                        This time please give more details.\n",
    "                        \"\"\")\n",
    "            if response == 'no':\n",
    "                print(\"\\033[1m\"+ \"\"\"\n",
    "                            Please don't quit on studying. See you later!\n",
    "                        \"\"\")\n",
    "            \n",
    "        elif len(best_index)!=0:\n",
    "            print(\"\\033[1m\"+\"\"\"\n",
    "                        We have three courses for you, choose according to your level: \"\"\")\n",
    "            \n",
    "            for i in list(best_index):\n",
    "                course_name = df['name'].iloc[i]\n",
    "                instructor = df['instructor'].iloc[i]\n",
    "                level = df['level'].iloc[i]\n",
    "                print(\"\\033[1m\"+ \"\"\" \n",
    "                            {}: \n",
    "                            {} \n",
    "                            by {} \"\"\".format(level,\"\\u0332\".join(course_name.title()),instructor))\n",
    "                    \n",
    "            response = 'yes'\n",
    "            return\n",
    "        "
   ]
  },
  {
   "cell_type": "code",
   "execution_count": null,
   "id": "8d96db24",
   "metadata": {},
   "outputs": [],
   "source": [
    "recommender()"
   ]
  },
  {
   "cell_type": "code",
   "execution_count": null,
   "id": "fa9facfa",
   "metadata": {},
   "outputs": [],
   "source": []
  },
  {
   "cell_type": "code",
   "execution_count": null,
   "id": "3b306e71",
   "metadata": {},
   "outputs": [],
   "source": []
  },
  {
   "cell_type": "code",
   "execution_count": null,
   "id": "26a934c3",
   "metadata": {},
   "outputs": [],
   "source": [
    "\n",
    "from PIL import Image\n",
    "from wordcloud import WordCloud, STOPWORDS, ImageColorGenerator"
   ]
  },
  {
   "cell_type": "code",
   "execution_count": null,
   "id": "6ef1b669",
   "metadata": {},
   "outputs": [],
   "source": [
    "bunch_text = \" \".join(text for text in df['corpus'][110].split(' '))"
   ]
  },
  {
   "cell_type": "code",
   "execution_count": null,
   "id": "8363052a",
   "metadata": {},
   "outputs": [],
   "source": [
    "stopwords = set(list(STOPWORDS))\n",
    "stopwords.update(['course','module','introduction','will','week','learn','video','part','lecture','video','using','system','one','new','use','first','s','work'])\n",
    "\n",
    "wordcloud = WordCloud(stopwords=stopwords, background_color=\"white\", colormap= \"magma\").generate(bunch_text)"
   ]
  },
  {
   "cell_type": "code",
   "execution_count": null,
   "id": "d35f9050",
   "metadata": {},
   "outputs": [],
   "source": [
    "plt.figure(figsize=[11,11])\n",
    "plt.imshow(wordcloud, interpolation=\"sinc\")\n",
    "plt.axis(\"off\")\n",
    "title = df['name'].iloc[110]\n",
    "plt.title('Course Name: ' + title, fontsize=15)\n",
    "\n",
    "plt.show()\n"
   ]
  },
  {
   "cell_type": "code",
   "execution_count": null,
   "id": "c212e5bf",
   "metadata": {},
   "outputs": [],
   "source": [
    "def get_wordcloud(text):\n",
    "    bunch_text = \" \".join(text for text in text.split(' '))\n",
    "    wordcloud = WordCloud(stopwords=stopwords, background_color=\"white\", colormap= \"magma\").generate(bunch_text)\n",
    "    plt.figure(figsize=[11,11])\n",
    "    plt.imshow(wordcloud, interpolation=\"sinc\")\n",
    "    plt.axis(\"off\")\n",
    "    title = df['name'].iloc[110]\n",
    "    plt.title('Course Name: ' + title, fontsize=15)\n",
    "\n",
    "    plt.show()\n",
    "    return"
   ]
  },
  {
   "cell_type": "code",
   "execution_count": null,
   "id": "9605a4a8",
   "metadata": {},
   "outputs": [],
   "source": [
    "get_wordcloud(df['corpus'][110])"
   ]
  },
  {
   "cell_type": "code",
   "execution_count": null,
   "id": "be28c69a",
   "metadata": {},
   "outputs": [],
   "source": [
    "df.to_csv('to_tableau.csv')"
   ]
  },
  {
   "cell_type": "code",
   "execution_count": null,
   "id": "51b686d5",
   "metadata": {},
   "outputs": [],
   "source": []
  }
 ],
 "metadata": {
  "kernelspec": {
   "display_name": "Python 3 (ipykernel)",
   "language": "python",
   "name": "python3"
  },
  "language_info": {
   "codemirror_mode": {
    "name": "ipython",
    "version": 3
   },
   "file_extension": ".py",
   "mimetype": "text/x-python",
   "name": "python",
   "nbconvert_exporter": "python",
   "pygments_lexer": "ipython3",
   "version": "3.9.7"
  },
  "toc": {
   "base_numbering": 1,
   "nav_menu": {},
   "number_sections": true,
   "sideBar": true,
   "skip_h1_title": false,
   "title_cell": "Table of Contents",
   "title_sidebar": "Contents",
   "toc_cell": false,
   "toc_position": {},
   "toc_section_display": true,
   "toc_window_display": false
  }
 },
 "nbformat": 4,
 "nbformat_minor": 5
}
