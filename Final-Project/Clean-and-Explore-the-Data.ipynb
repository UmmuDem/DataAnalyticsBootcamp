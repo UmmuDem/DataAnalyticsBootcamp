{
 "cells": [
  {
   "cell_type": "markdown",
   "id": "7756290d",
   "metadata": {},
   "source": [
    "# Clean the Data Frame"
   ]
  },
  {
   "cell_type": "markdown",
   "id": "c755eb9a",
   "metadata": {},
   "source": [
    "## Import Libraries"
   ]
  },
  {
   "cell_type": "code",
   "execution_count": 1,
   "id": "29d761b3",
   "metadata": {},
   "outputs": [],
   "source": [
    "import pandas as pd\n",
    "import matplotlib.pyplot as plt\n",
    "import seaborn as sns"
   ]
  },
  {
   "cell_type": "markdown",
   "id": "2a8010be",
   "metadata": {},
   "source": [
    "## Bring in the Data"
   ]
  },
  {
   "cell_type": "code",
   "execution_count": 2,
   "id": "f730a580",
   "metadata": {},
   "outputs": [],
   "source": [
    "df = pd.read_csv('courses_in_english.csv')"
   ]
  },
  {
   "cell_type": "code",
   "execution_count": 3,
   "id": "5e502e15",
   "metadata": {},
   "outputs": [
    {
     "data": {
      "text/html": [
       "<div>\n",
       "<style scoped>\n",
       "    .dataframe tbody tr th:only-of-type {\n",
       "        vertical-align: middle;\n",
       "    }\n",
       "\n",
       "    .dataframe tbody tr th {\n",
       "        vertical-align: top;\n",
       "    }\n",
       "\n",
       "    .dataframe thead th {\n",
       "        text-align: right;\n",
       "    }\n",
       "</style>\n",
       "<table border=\"1\" class=\"dataframe\">\n",
       "  <thead>\n",
       "    <tr style=\"text-align: right;\">\n",
       "      <th></th>\n",
       "      <th>Unnamed: 0</th>\n",
       "      <th>name</th>\n",
       "      <th>instructor</th>\n",
       "      <th>level</th>\n",
       "      <th>category</th>\n",
       "      <th>subcategory</th>\n",
       "      <th>no_of_students</th>\n",
       "      <th>rating</th>\n",
       "      <th>no_of_rating</th>\n",
       "      <th>about</th>\n",
       "      <th>syllabus</th>\n",
       "      <th>language</th>\n",
       "    </tr>\n",
       "  </thead>\n",
       "  <tbody>\n",
       "    <tr>\n",
       "      <th>0</th>\n",
       "      <td>0</td>\n",
       "      <td>Meditation: A way to achieve your goals in you...</td>\n",
       "      <td>Duck-Joo Lee</td>\n",
       "      <td>Beginner Level</td>\n",
       "      <td>Arts and Humanities</td>\n",
       "      <td>Philosophy</td>\n",
       "      <td>78,489 already enrolled</td>\n",
       "      <td>4.6stars</td>\n",
       "      <td>843 ratings</td>\n",
       "      <td>Do we truly think that we have lived for ourse...</td>\n",
       "      <td>['Self- reflection is the methodology of medit...</td>\n",
       "      <td>English</td>\n",
       "    </tr>\n",
       "    <tr>\n",
       "      <th>1</th>\n",
       "      <td>1</td>\n",
       "      <td>Introduction to the Arctic: Climate</td>\n",
       "      <td>Paul Myers, Ph.D</td>\n",
       "      <td>NaN</td>\n",
       "      <td>Physical Science and Engineering</td>\n",
       "      <td>Environmental Science and Sustainability</td>\n",
       "      <td>13,439 already enrolled</td>\n",
       "      <td>4.6stars</td>\n",
       "      <td>420 ratings</td>\n",
       "      <td>The University of Alberta, the University of T...</td>\n",
       "      <td>['This course is about the remarkable northern...</td>\n",
       "      <td>English</td>\n",
       "    </tr>\n",
       "    <tr>\n",
       "      <th>2</th>\n",
       "      <td>2</td>\n",
       "      <td>Data Science in Stratified Healthcare and Prec...</td>\n",
       "      <td>Dr Areti Manataki</td>\n",
       "      <td>Intermediate Level</td>\n",
       "      <td>Data Science</td>\n",
       "      <td>Data Analysis</td>\n",
       "      <td>16,421 already enrolled</td>\n",
       "      <td>4.6stars</td>\n",
       "      <td>241 ratings</td>\n",
       "      <td>An increasing volume of data is becoming avail...</td>\n",
       "      <td>['Join us this week to find out how the course...</td>\n",
       "      <td>English</td>\n",
       "    </tr>\n",
       "    <tr>\n",
       "      <th>3</th>\n",
       "      <td>3</td>\n",
       "      <td>How to Get Skilled: Introduction to Individual...</td>\n",
       "      <td>Dr. Valeri Chukhlomin</td>\n",
       "      <td>Intermediate Level</td>\n",
       "      <td>Personal Development</td>\n",
       "      <td>Personal Development</td>\n",
       "      <td>50,038 already enrolled</td>\n",
       "      <td>3.7stars</td>\n",
       "      <td>214 ratings</td>\n",
       "      <td>Do you want to gain a competitive edge on the ...</td>\n",
       "      <td>['The goal of the Module is to define individu...</td>\n",
       "      <td>English</td>\n",
       "    </tr>\n",
       "    <tr>\n",
       "      <th>4</th>\n",
       "      <td>4</td>\n",
       "      <td>Circular Economy - Sustainable Materials Manag...</td>\n",
       "      <td>Philip Peck</td>\n",
       "      <td>Beginner Level</td>\n",
       "      <td>Physical Science and Engineering</td>\n",
       "      <td>Environmental Science and Sustainability</td>\n",
       "      <td>37,682 already enrolled</td>\n",
       "      <td>4.8stars</td>\n",
       "      <td>1,136 ratings</td>\n",
       "      <td>This course looks at where important materials...</td>\n",
       "      <td>['This module explores sourcing of materials f...</td>\n",
       "      <td>English</td>\n",
       "    </tr>\n",
       "  </tbody>\n",
       "</table>\n",
       "</div>"
      ],
      "text/plain": [
       "   Unnamed: 0                                               name  \\\n",
       "0           0  Meditation: A way to achieve your goals in you...   \n",
       "1           1                Introduction to the Arctic: Climate   \n",
       "2           2  Data Science in Stratified Healthcare and Prec...   \n",
       "3           3  How to Get Skilled: Introduction to Individual...   \n",
       "4           4  Circular Economy - Sustainable Materials Manag...   \n",
       "\n",
       "              instructor               level  \\\n",
       "0           Duck-Joo Lee      Beginner Level   \n",
       "1       Paul Myers, Ph.D                 NaN   \n",
       "2      Dr Areti Manataki  Intermediate Level   \n",
       "3  Dr. Valeri Chukhlomin  Intermediate Level   \n",
       "4            Philip Peck      Beginner Level   \n",
       "\n",
       "                           category                               subcategory  \\\n",
       "0               Arts and Humanities                                Philosophy   \n",
       "1  Physical Science and Engineering  Environmental Science and Sustainability   \n",
       "2                      Data Science                             Data Analysis   \n",
       "3              Personal Development                      Personal Development   \n",
       "4  Physical Science and Engineering  Environmental Science and Sustainability   \n",
       "\n",
       "            no_of_students    rating   no_of_rating  \\\n",
       "0  78,489 already enrolled  4.6stars    843 ratings   \n",
       "1  13,439 already enrolled  4.6stars    420 ratings   \n",
       "2  16,421 already enrolled  4.6stars    241 ratings   \n",
       "3  50,038 already enrolled  3.7stars    214 ratings   \n",
       "4  37,682 already enrolled  4.8stars  1,136 ratings   \n",
       "\n",
       "                                               about  \\\n",
       "0  Do we truly think that we have lived for ourse...   \n",
       "1  The University of Alberta, the University of T...   \n",
       "2  An increasing volume of data is becoming avail...   \n",
       "3  Do you want to gain a competitive edge on the ...   \n",
       "4  This course looks at where important materials...   \n",
       "\n",
       "                                            syllabus language  \n",
       "0  ['Self- reflection is the methodology of medit...  English  \n",
       "1  ['This course is about the remarkable northern...  English  \n",
       "2  ['Join us this week to find out how the course...  English  \n",
       "3  ['The goal of the Module is to define individu...  English  \n",
       "4  ['This module explores sourcing of materials f...  English  "
      ]
     },
     "execution_count": 3,
     "metadata": {},
     "output_type": "execute_result"
    }
   ],
   "source": [
    "df.head()"
   ]
  },
  {
   "cell_type": "code",
   "execution_count": 4,
   "id": "5d61fb22",
   "metadata": {},
   "outputs": [
    {
     "name": "stdout",
     "output_type": "stream",
     "text": [
      "<class 'pandas.core.frame.DataFrame'>\n",
      "RangeIndex: 1004 entries, 0 to 1003\n",
      "Data columns (total 12 columns):\n",
      " #   Column          Non-Null Count  Dtype \n",
      "---  ------          --------------  ----- \n",
      " 0   Unnamed: 0      1004 non-null   int64 \n",
      " 1   name            1004 non-null   object\n",
      " 2   instructor      1004 non-null   object\n",
      " 3   level           669 non-null    object\n",
      " 4   category        1004 non-null   object\n",
      " 5   subcategory     1004 non-null   object\n",
      " 6   no_of_students  922 non-null    object\n",
      " 7   rating          942 non-null    object\n",
      " 8   no_of_rating    942 non-null    object\n",
      " 9   about           1004 non-null   object\n",
      " 10  syllabus        1004 non-null   object\n",
      " 11  language        1004 non-null   object\n",
      "dtypes: int64(1), object(11)\n",
      "memory usage: 94.2+ KB\n"
     ]
    }
   ],
   "source": [
    "df.info() "
   ]
  },
  {
   "cell_type": "markdown",
   "id": "49522e83",
   "metadata": {},
   "source": [
    "## Cleaning Steps\n",
    "\n",
    "- The nulls in the level column will be filled by 'Mixed Level' as in the coursera.\n",
    "- The nulls will be droped, because those courses are either not available anymore or nobody takes them so not good recommendations.\n",
    "- Unnamed: 0 column will be dropped.\n",
    "- The entries of the columns no_of_students, rating, no_of_rating will be cleaned and then data types will be converted to numeric."
   ]
  },
  {
   "cell_type": "code",
   "execution_count": 5,
   "id": "1681d695",
   "metadata": {},
   "outputs": [],
   "source": [
    "df['level'] = df['level'].fillna('Mixed Level')"
   ]
  },
  {
   "cell_type": "code",
   "execution_count": 6,
   "id": "66f1f77f",
   "metadata": {},
   "outputs": [
    {
     "data": {
      "text/plain": [
       "Beginner Level        443\n",
       "Mixed Level           335\n",
       "Intermediate Level    199\n",
       "Advanced Level         27\n",
       "Name: level, dtype: int64"
      ]
     },
     "execution_count": 6,
     "metadata": {},
     "output_type": "execute_result"
    }
   ],
   "source": [
    "df['level'].value_counts()"
   ]
  },
  {
   "cell_type": "code",
   "execution_count": 7,
   "id": "8653fd61",
   "metadata": {},
   "outputs": [
    {
     "name": "stdout",
     "output_type": "stream",
     "text": [
      "<class 'pandas.core.frame.DataFrame'>\n",
      "RangeIndex: 1004 entries, 0 to 1003\n",
      "Data columns (total 12 columns):\n",
      " #   Column          Non-Null Count  Dtype \n",
      "---  ------          --------------  ----- \n",
      " 0   Unnamed: 0      1004 non-null   int64 \n",
      " 1   name            1004 non-null   object\n",
      " 2   instructor      1004 non-null   object\n",
      " 3   level           1004 non-null   object\n",
      " 4   category        1004 non-null   object\n",
      " 5   subcategory     1004 non-null   object\n",
      " 6   no_of_students  922 non-null    object\n",
      " 7   rating          942 non-null    object\n",
      " 8   no_of_rating    942 non-null    object\n",
      " 9   about           1004 non-null   object\n",
      " 10  syllabus        1004 non-null   object\n",
      " 11  language        1004 non-null   object\n",
      "dtypes: int64(1), object(11)\n",
      "memory usage: 94.2+ KB\n"
     ]
    }
   ],
   "source": [
    "df.info()"
   ]
  },
  {
   "cell_type": "code",
   "execution_count": 8,
   "id": "ec88a4e4",
   "metadata": {},
   "outputs": [],
   "source": [
    "df = df.dropna()"
   ]
  },
  {
   "cell_type": "code",
   "execution_count": 9,
   "id": "9fb1812a",
   "metadata": {},
   "outputs": [
    {
     "name": "stdout",
     "output_type": "stream",
     "text": [
      "<class 'pandas.core.frame.DataFrame'>\n",
      "Int64Index: 911 entries, 0 to 1003\n",
      "Data columns (total 12 columns):\n",
      " #   Column          Non-Null Count  Dtype \n",
      "---  ------          --------------  ----- \n",
      " 0   Unnamed: 0      911 non-null    int64 \n",
      " 1   name            911 non-null    object\n",
      " 2   instructor      911 non-null    object\n",
      " 3   level           911 non-null    object\n",
      " 4   category        911 non-null    object\n",
      " 5   subcategory     911 non-null    object\n",
      " 6   no_of_students  911 non-null    object\n",
      " 7   rating          911 non-null    object\n",
      " 8   no_of_rating    911 non-null    object\n",
      " 9   about           911 non-null    object\n",
      " 10  syllabus        911 non-null    object\n",
      " 11  language        911 non-null    object\n",
      "dtypes: int64(1), object(11)\n",
      "memory usage: 92.5+ KB\n"
     ]
    }
   ],
   "source": [
    "df.info()"
   ]
  },
  {
   "cell_type": "code",
   "execution_count": 10,
   "id": "7c794130",
   "metadata": {},
   "outputs": [],
   "source": [
    "df.reset_index(drop=True, inplace=True)"
   ]
  },
  {
   "cell_type": "code",
   "execution_count": 11,
   "id": "78b65936",
   "metadata": {},
   "outputs": [],
   "source": [
    "df = df.drop('Unnamed: 0',axis=1)"
   ]
  },
  {
   "cell_type": "code",
   "execution_count": 12,
   "id": "29a677eb",
   "metadata": {},
   "outputs": [],
   "source": [
    "df['rating'] = df['rating'].str.rstrip('stars').astype(float)\n",
    "df['no_of_rating'] = df['no_of_rating'].str.rstrip(' ratings').str.replace(',','').astype(int)\n",
    "df['no_of_students'] = df['no_of_students'].str.rstrip(' already enrolled').str.replace(',','').astype(int)"
   ]
  },
  {
   "cell_type": "code",
   "execution_count": 15,
   "id": "5c05ef89",
   "metadata": {},
   "outputs": [
    {
     "name": "stdout",
     "output_type": "stream",
     "text": [
      "<class 'pandas.core.frame.DataFrame'>\n",
      "RangeIndex: 911 entries, 0 to 910\n",
      "Data columns (total 11 columns):\n",
      " #   Column          Non-Null Count  Dtype  \n",
      "---  ------          --------------  -----  \n",
      " 0   name            911 non-null    object \n",
      " 1   instructor      911 non-null    object \n",
      " 2   level           911 non-null    object \n",
      " 3   category        911 non-null    object \n",
      " 4   subcategory     911 non-null    object \n",
      " 5   no_of_students  911 non-null    int64  \n",
      " 6   rating          911 non-null    float64\n",
      " 7   no_of_rating    911 non-null    int64  \n",
      " 8   about           911 non-null    object \n",
      " 9   syllabus        911 non-null    object \n",
      " 10  language        911 non-null    object \n",
      "dtypes: float64(1), int64(2), object(8)\n",
      "memory usage: 78.4+ KB\n"
     ]
    }
   ],
   "source": [
    "df.info()"
   ]
  },
  {
   "cell_type": "markdown",
   "id": "1dd5dcdc",
   "metadata": {},
   "source": [
    "## Explore the Clean Data"
   ]
  },
  {
   "cell_type": "code",
   "execution_count": 17,
   "id": "3870d9e0",
   "metadata": {},
   "outputs": [
    {
     "data": {
      "text/html": [
       "<div>\n",
       "<style scoped>\n",
       "    .dataframe tbody tr th:only-of-type {\n",
       "        vertical-align: middle;\n",
       "    }\n",
       "\n",
       "    .dataframe tbody tr th {\n",
       "        vertical-align: top;\n",
       "    }\n",
       "\n",
       "    .dataframe thead th {\n",
       "        text-align: right;\n",
       "    }\n",
       "</style>\n",
       "<table border=\"1\" class=\"dataframe\">\n",
       "  <thead>\n",
       "    <tr style=\"text-align: right;\">\n",
       "      <th></th>\n",
       "      <th>no_of_students</th>\n",
       "      <th>rating</th>\n",
       "      <th>no_of_rating</th>\n",
       "    </tr>\n",
       "  </thead>\n",
       "  <tbody>\n",
       "    <tr>\n",
       "      <th>count</th>\n",
       "      <td>9.110000e+02</td>\n",
       "      <td>911.000000</td>\n",
       "      <td>911.000000</td>\n",
       "    </tr>\n",
       "    <tr>\n",
       "      <th>mean</th>\n",
       "      <td>6.240409e+04</td>\n",
       "      <td>4.655543</td>\n",
       "      <td>1284.635565</td>\n",
       "    </tr>\n",
       "    <tr>\n",
       "      <th>std</th>\n",
       "      <td>2.400966e+05</td>\n",
       "      <td>0.217401</td>\n",
       "      <td>7015.649059</td>\n",
       "    </tr>\n",
       "    <tr>\n",
       "      <th>min</th>\n",
       "      <td>1.514000e+03</td>\n",
       "      <td>3.100000</td>\n",
       "      <td>10.000000</td>\n",
       "    </tr>\n",
       "    <tr>\n",
       "      <th>25%</th>\n",
       "      <td>8.771000e+03</td>\n",
       "      <td>4.600000</td>\n",
       "      <td>119.000000</td>\n",
       "    </tr>\n",
       "    <tr>\n",
       "      <th>50%</th>\n",
       "      <td>2.064700e+04</td>\n",
       "      <td>4.700000</td>\n",
       "      <td>325.000000</td>\n",
       "    </tr>\n",
       "    <tr>\n",
       "      <th>75%</th>\n",
       "      <td>5.170650e+04</td>\n",
       "      <td>4.800000</td>\n",
       "      <td>962.000000</td>\n",
       "    </tr>\n",
       "    <tr>\n",
       "      <th>max</th>\n",
       "      <td>4.538194e+06</td>\n",
       "      <td>5.000000</td>\n",
       "      <td>165821.000000</td>\n",
       "    </tr>\n",
       "  </tbody>\n",
       "</table>\n",
       "</div>"
      ],
      "text/plain": [
       "       no_of_students      rating   no_of_rating\n",
       "count    9.110000e+02  911.000000     911.000000\n",
       "mean     6.240409e+04    4.655543    1284.635565\n",
       "std      2.400966e+05    0.217401    7015.649059\n",
       "min      1.514000e+03    3.100000      10.000000\n",
       "25%      8.771000e+03    4.600000     119.000000\n",
       "50%      2.064700e+04    4.700000     325.000000\n",
       "75%      5.170650e+04    4.800000     962.000000\n",
       "max      4.538194e+06    5.000000  165821.000000"
      ]
     },
     "execution_count": 17,
     "metadata": {},
     "output_type": "execute_result"
    }
   ],
   "source": [
    "df.describe()"
   ]
  },
  {
   "cell_type": "code",
   "execution_count": 37,
   "id": "0c806a0f",
   "metadata": {},
   "outputs": [
    {
     "data": {
      "image/png": "[encoded data removed]",
      "text/plain": [
       "<Figure size 1440x720 with 1 Axes>"
      ]
     },
     "metadata": {
      "needs_background": "light"
     },
     "output_type": "display_data"
    }
   ],
   "source": [
    "plt.figure(figsize=(20,10))\n",
    "df['category'].value_counts().plot(kind='barh', color = 'purple', title = 'Course Distribution by Category');\n"
   ]
  },
  {
   "cell_type": "code",
   "execution_count": 38,
   "id": "8fd3f6c4",
   "metadata": {},
   "outputs": [
    {
     "data": {
      "image/png": "[encoded data removed]",
      "text/plain": [
       "<Figure size 1440x720 with 1 Axes>"
      ]
     },
     "metadata": {
      "needs_background": "light"
     },
     "output_type": "display_data"
    }
   ],
   "source": [
    "plt.figure(figsize=(20,10))\n",
    "df['subcategory'].value_counts().plot(kind='barh', color = 'purple', title = 'Course Distribution by Subcategory');\n"
   ]
  },
  {
   "cell_type": "code",
   "execution_count": 39,
   "id": "f53fae88",
   "metadata": {},
   "outputs": [],
   "source": [
    "df.to_csv('clean_data.csv')"
   ]
  },
  {
   "cell_type": "code",
   "execution_count": null,
   "id": "28978f99",
   "metadata": {},
   "outputs": [],
   "source": []
  }
 ],
 "metadata": {
  "kernelspec": {
   "display_name": "Python 3 (ipykernel)",
   "language": "python",
   "name": "python3"
  },
  "language_info": {
   "codemirror_mode": {
    "name": "ipython",
    "version": 3
   },
   "file_extension": ".py",
   "mimetype": "text/x-python",
   "name": "python",
   "nbconvert_exporter": "python",
   "pygments_lexer": "ipython3",
   "version": "3.9.7"
  },
  "toc": {
   "base_numbering": 1,
   "nav_menu": {},
   "number_sections": true,
   "sideBar": true,
   "skip_h1_title": false,
   "title_cell": "Table of Contents",
   "title_sidebar": "Contents",
   "toc_cell": false,
   "toc_position": {},
   "toc_section_display": true,
   "toc_window_display": false
  }
 },
 "nbformat": 4,
 "nbformat_minor": 5
}
