{
 "cells": [
  {
   "cell_type": "markdown",
   "id": "1fc27c17",
   "metadata": {},
   "source": [
    "# Scrapping the Billboard for 100 hot songs"
   ]
  },
  {
   "cell_type": "markdown",
   "id": "7e769190",
   "metadata": {},
   "source": [
    "Billboard maintains a weekly Top 100 of \"hot\" songs here: https://www.billboard.com/charts/hot-100.\n",
    "\n",
    "Scrape the current top 100 songs and their respective artists, and put the information into a pandas dataframe."
   ]
  },
  {
   "cell_type": "code",
   "execution_count": 2,
   "id": "50231587",
   "metadata": {},
   "outputs": [],
   "source": [
    "from bs4 import BeautifulSoup\n",
    "import re\n",
    "import requests\n",
    "import pandas as pd"
   ]
  },
  {
   "cell_type": "code",
   "execution_count": 3,
   "id": "4ab42d0a",
   "metadata": {},
   "outputs": [],
   "source": [
    "url = \"https://www.billboard.com/charts/hot-100\"\n",
    "\n",
    "response = requests.get(url)"
   ]
  },
  {
   "cell_type": "code",
   "execution_count": 4,
   "id": "0ae5258e",
   "metadata": {},
   "outputs": [
    {
     "data": {
      "text/plain": [
       "200"
      ]
     },
     "execution_count": 4,
     "metadata": {},
     "output_type": "execute_result"
    }
   ],
   "source": [
    "#check response status code \n",
    "response.status_code"
   ]
  },
  {
   "cell_type": "code",
   "execution_count": 5,
   "id": "4d936638",
   "metadata": {},
   "outputs": [],
   "source": [
    "#parse and store the contents of the url call\n",
    "soup = BeautifulSoup(response.content,'html.parser')"
   ]
  },
  {
   "cell_type": "code",
   "execution_count": 6,
   "id": "a2423181",
   "metadata": {},
   "outputs": [],
   "source": [
    "#prettify the soup \n",
    "# soup.prettify()"
   ]
  },
  {
   "cell_type": "markdown",
   "id": "bef61f3e",
   "metadata": {},
   "source": [
    "## Query the soup to get songs and their respective artists"
   ]
  },
  {
   "cell_type": "code",
   "execution_count": 7,
   "id": "00f9a2e9",
   "metadata": {},
   "outputs": [
    {
     "data": {
      "text/plain": [
       "'\\nEasy On Me\\n'"
      ]
     },
     "execution_count": 7,
     "metadata": {},
     "output_type": "execute_result"
    }
   ],
   "source": [
    "# get song title\n",
    "soup.select('h3.c-title.a-no-trucate')[0].text"
   ]
  },
  {
   "cell_type": "code",
   "execution_count": 8,
   "id": "9f6c3f61",
   "metadata": {},
   "outputs": [
    {
     "data": {
      "text/plain": [
       "'\\nAdele\\n'"
      ]
     },
     "execution_count": 8,
     "metadata": {},
     "output_type": "execute_result"
    }
   ],
   "source": [
    "soup.select('span.c-label.a-font-primary-s')[0].text"
   ]
  },
  {
   "cell_type": "markdown",
   "id": "a4976a94",
   "metadata": {},
   "source": [
    "## Creating a dataframe from scraped data"
   ]
  },
  {
   "cell_type": "code",
   "execution_count": 9,
   "id": "88da5378",
   "metadata": {},
   "outputs": [],
   "source": [
    "song= []\n",
    "artist = []\n",
    "\n",
    "len_song = len(soup.select('h3.c-title.a-no-trucate'))"
   ]
  },
  {
   "cell_type": "code",
   "execution_count": 10,
   "id": "617e2a3b",
   "metadata": {},
   "outputs": [],
   "source": [
    "for i in range(len_song):\n",
    "    song.append(soup.select('h3.c-title.a-no-trucate')[i].text)\n",
    "    artist.append(soup.select('span.c-label.a-font-primary-s')[i].text)"
   ]
  },
  {
   "cell_type": "code",
   "execution_count": 11,
   "id": "476243b5",
   "metadata": {},
   "outputs": [],
   "source": [
    "hot_songs = pd.DataFrame({'song':song,'artist':artist})"
   ]
  },
  {
   "cell_type": "code",
   "execution_count": 12,
   "id": "9744a5d3",
   "metadata": {},
   "outputs": [
    {
     "data": {
      "text/html": [
       "<div>\n",
       "<style scoped>\n",
       "    .dataframe tbody tr th:only-of-type {\n",
       "        vertical-align: middle;\n",
       "    }\n",
       "\n",
       "    .dataframe tbody tr th {\n",
       "        vertical-align: top;\n",
       "    }\n",
       "\n",
       "    .dataframe thead th {\n",
       "        text-align: right;\n",
       "    }\n",
       "</style>\n",
       "<table border=\"1\" class=\"dataframe\">\n",
       "  <thead>\n",
       "    <tr style=\"text-align: right;\">\n",
       "      <th></th>\n",
       "      <th>song</th>\n",
       "      <th>artist</th>\n",
       "    </tr>\n",
       "  </thead>\n",
       "  <tbody>\n",
       "    <tr>\n",
       "      <th>0</th>\n",
       "      <td>\\nEasy On Me\\n</td>\n",
       "      <td>\\nAdele\\n</td>\n",
       "    </tr>\n",
       "    <tr>\n",
       "      <th>1</th>\n",
       "      <td>\\nStay\\n</td>\n",
       "      <td>\\nThe Kid LAROI &amp; Justin Bieber\\n</td>\n",
       "    </tr>\n",
       "    <tr>\n",
       "      <th>2</th>\n",
       "      <td>\\nIndustry Baby\\n</td>\n",
       "      <td>\\nLil Nas X &amp; Jack Harlow\\n</td>\n",
       "    </tr>\n",
       "    <tr>\n",
       "      <th>3</th>\n",
       "      <td>\\nAll Too Well (Taylor's Version)\\n</td>\n",
       "      <td>\\nTaylor Swift\\n</td>\n",
       "    </tr>\n",
       "    <tr>\n",
       "      <th>4</th>\n",
       "      <td>\\nOh My God\\n</td>\n",
       "      <td>\\nAdele\\n</td>\n",
       "    </tr>\n",
       "  </tbody>\n",
       "</table>\n",
       "</div>"
      ],
      "text/plain": [
       "                                  song                             artist\n",
       "0                       \\nEasy On Me\\n                          \\nAdele\\n\n",
       "1                             \\nStay\\n  \\nThe Kid LAROI & Justin Bieber\\n\n",
       "2                    \\nIndustry Baby\\n        \\nLil Nas X & Jack Harlow\\n\n",
       "3  \\nAll Too Well (Taylor's Version)\\n                   \\nTaylor Swift\\n\n",
       "4                        \\nOh My God\\n                          \\nAdele\\n"
      ]
     },
     "execution_count": 12,
     "metadata": {},
     "output_type": "execute_result"
    }
   ],
   "source": [
    "hot_songs.head()"
   ]
  },
  {
   "cell_type": "markdown",
   "id": "a5a8ebd8",
   "metadata": {},
   "source": [
    "## Cleaning / Wrangling steps for the scraped data "
   ]
  },
  {
   "cell_type": "code",
   "execution_count": 13,
   "id": "da9f4fb7",
   "metadata": {},
   "outputs": [],
   "source": [
    "def remove_text_inside_brackets(text, brackets=\"()[]\"):\n",
    "    count = [0] * (len(brackets) // 2) # count open/close brackets\n",
    "    saved_chars = []\n",
    "    for character in text:\n",
    "        for i, b in enumerate(brackets):\n",
    "            if character == b: # found bracket\n",
    "                kind, is_close = divmod(i, 2)\n",
    "                count[kind] += (-1)**is_close # `+1`: open, `-1`: close\n",
    "                if count[kind] < 0: # unbalanced bracket\n",
    "                    count[kind] = 0  # keep it\n",
    "                else:  # found bracket to remove\n",
    "                    break\n",
    "        else: # character is not a [balanced] bracket\n",
    "            if not any(count): # outside brackets\n",
    "                saved_chars.append(character)\n",
    "    return ''.join(saved_chars)"
   ]
  },
  {
   "cell_type": "code",
   "execution_count": 14,
   "id": "c2b1bbc5",
   "metadata": {},
   "outputs": [],
   "source": [
    "hot_songs['song'] = hot_songs['song'].str.replace('\\n','').apply(lambda x: remove_text_inside_brackets(x, brackets=\"()[]\")).str.lower()\n",
    "hot_songs['artist'] = hot_songs['artist'].str.replace('\\n','').str.lower()\n",
    "\n"
   ]
  },
  {
   "cell_type": "code",
   "execution_count": null,
   "id": "d6319e80",
   "metadata": {},
   "outputs": [],
   "source": [
    "hot_songs.tail(100)"
   ]
  },
  {
   "cell_type": "markdown",
   "id": "fee8feba",
   "metadata": {},
   "source": [
    "# Bringing in spottify data"
   ]
  },
  {
   "cell_type": "code",
   "execution_count": 17,
   "id": "0523c9dc",
   "metadata": {},
   "outputs": [],
   "source": [
    "spotify_data = pd.read_csv('spottify_data.csv')"
   ]
  },
  {
   "cell_type": "code",
   "execution_count": 18,
   "id": "23f41fe4",
   "metadata": {},
   "outputs": [],
   "source": [
    "spotify_data.reset_index(drop=True, inplace=True)"
   ]
  },
  {
   "cell_type": "code",
   "execution_count": 20,
   "id": "5ab40fe6",
   "metadata": {},
   "outputs": [
    {
     "name": "stdout",
     "output_type": "stream",
     "text": [
      "<class 'pandas.core.frame.DataFrame'>\n",
      "RangeIndex: 18682 entries, 0 to 18681\n",
      "Data columns (total 4 columns):\n",
      " #   Column   Non-Null Count  Dtype \n",
      "---  ------   --------------  ----- \n",
      " 0   song     18682 non-null  object\n",
      " 1   uri      18682 non-null  object\n",
      " 2   artist   18682 non-null  object\n",
      " 3   cluster  18682 non-null  int64 \n",
      "dtypes: int64(1), object(3)\n",
      "memory usage: 583.9+ KB\n"
     ]
    }
   ],
   "source": [
    "spotify_data.info()"
   ]
  },
  {
   "cell_type": "code",
   "execution_count": 24,
   "id": "3580bb29",
   "metadata": {},
   "outputs": [],
   "source": [
    "#some more cleaning and getting song_id, uri doesn't work very well.\n",
    "spotify_data['song']=spotify_data['song'].apply(lambda x: remove_text_inside_brackets(x, brackets=\"()[]\")).str.strip().str.lower()\n",
    "spotify_data['artist']= spotify_data['artist'].apply(lambda x: remove_text_inside_brackets(x, brackets=\"()[]\")).str.strip().str.lower()\n",
    "spotify_data['song_id']= spotify_data['uri'].apply(lambda x: x.rsplit(':')[-1])\n"
   ]
  },
  {
   "cell_type": "code",
   "execution_count": 25,
   "id": "2ace4eb6",
   "metadata": {},
   "outputs": [
    {
     "data": {
      "text/html": [
       "<div>\n",
       "<style scoped>\n",
       "    .dataframe tbody tr th:only-of-type {\n",
       "        vertical-align: middle;\n",
       "    }\n",
       "\n",
       "    .dataframe tbody tr th {\n",
       "        vertical-align: top;\n",
       "    }\n",
       "\n",
       "    .dataframe thead th {\n",
       "        text-align: right;\n",
       "    }\n",
       "</style>\n",
       "<table border=\"1\" class=\"dataframe\">\n",
       "  <thead>\n",
       "    <tr style=\"text-align: right;\">\n",
       "      <th></th>\n",
       "      <th>song</th>\n",
       "      <th>uri</th>\n",
       "      <th>artist</th>\n",
       "      <th>cluster</th>\n",
       "      <th>song_id</th>\n",
       "    </tr>\n",
       "  </thead>\n",
       "  <tbody>\n",
       "    <tr>\n",
       "      <th>0</th>\n",
       "      <td>johanna</td>\n",
       "      <td>spotify:track:7xOh2WlB3L3J2fh2rtVFY0</td>\n",
       "      <td>geoff zanelli</td>\n",
       "      <td>306</td>\n",
       "      <td>7xOh2WlB3L3J2fh2rtVFY0</td>\n",
       "    </tr>\n",
       "    <tr>\n",
       "      <th>1</th>\n",
       "      <td>hong kong</td>\n",
       "      <td>spotify:track:6rztuzIBEueoBWNYyhmKa4</td>\n",
       "      <td>geoff zanelli</td>\n",
       "      <td>81</td>\n",
       "      <td>6rztuzIBEueoBWNYyhmKa4</td>\n",
       "    </tr>\n",
       "    <tr>\n",
       "      <th>2</th>\n",
       "      <td>the farmer's daughter</td>\n",
       "      <td>spotify:track:1XSeMdMvsZbkdRatUMd2sp</td>\n",
       "      <td>geoff zanelli</td>\n",
       "      <td>81</td>\n",
       "      <td>1XSeMdMvsZbkdRatUMd2sp</td>\n",
       "    </tr>\n",
       "    <tr>\n",
       "      <th>3</th>\n",
       "      <td>the painted lady may be in play</td>\n",
       "      <td>spotify:track:63CpQ7ltku7C1YyBxXgo8A</td>\n",
       "      <td>geoff zanelli</td>\n",
       "      <td>51</td>\n",
       "      <td>63CpQ7ltku7C1YyBxXgo8A</td>\n",
       "    </tr>\n",
       "    <tr>\n",
       "      <th>4</th>\n",
       "      <td>spinoza</td>\n",
       "      <td>spotify:track:0AY4PnjCPP4ZeDWX9AST7y</td>\n",
       "      <td>geoff zanelli</td>\n",
       "      <td>81</td>\n",
       "      <td>0AY4PnjCPP4ZeDWX9AST7y</td>\n",
       "    </tr>\n",
       "  </tbody>\n",
       "</table>\n",
       "</div>"
      ],
      "text/plain": [
       "                              song                                   uri  \\\n",
       "0                          johanna  spotify:track:7xOh2WlB3L3J2fh2rtVFY0   \n",
       "1                        hong kong  spotify:track:6rztuzIBEueoBWNYyhmKa4   \n",
       "2            the farmer's daughter  spotify:track:1XSeMdMvsZbkdRatUMd2sp   \n",
       "3  the painted lady may be in play  spotify:track:63CpQ7ltku7C1YyBxXgo8A   \n",
       "4                          spinoza  spotify:track:0AY4PnjCPP4ZeDWX9AST7y   \n",
       "\n",
       "          artist  cluster                 song_id  \n",
       "0  geoff zanelli      306  7xOh2WlB3L3J2fh2rtVFY0  \n",
       "1  geoff zanelli       81  6rztuzIBEueoBWNYyhmKa4  \n",
       "2  geoff zanelli       81  1XSeMdMvsZbkdRatUMd2sp  \n",
       "3  geoff zanelli       51  63CpQ7ltku7C1YyBxXgo8A  \n",
       "4  geoff zanelli       81  0AY4PnjCPP4ZeDWX9AST7y  "
      ]
     },
     "execution_count": 25,
     "metadata": {},
     "output_type": "execute_result"
    }
   ],
   "source": [
    "spotify_data.head()"
   ]
  },
  {
   "cell_type": "markdown",
   "id": "3c2cf9ce",
   "metadata": {},
   "source": [
    "# 2nd prototype"
   ]
  },
  {
   "cell_type": "code",
   "execution_count": 26,
   "id": "fb931198",
   "metadata": {},
   "outputs": [],
   "source": [
    "from random import randint"
   ]
  },
  {
   "cell_type": "code",
   "execution_count": 27,
   "id": "7c65f144",
   "metadata": {},
   "outputs": [],
   "source": [
    "from IPython.display import IFrame\n",
    "from IPython.core.display import display"
   ]
  },
  {
   "cell_type": "code",
   "execution_count": 28,
   "id": "d7c2ff65",
   "metadata": {},
   "outputs": [],
   "source": [
    "# will be used to get the common string between song entered and hot_song list\n",
    "\n",
    "def matchingString(x,y):\n",
    "    match=''\n",
    "    for i in range(0,len(x)):\n",
    "        for j in range(0,len(y)):\n",
    "            k=1\n",
    "            # now applying while condition untill we find a substring match and length of substring is less than length of x and y\n",
    "            while (i+k <= len(x) and j+k <= len(y) and x[i:i+k]==y[j:j+k]):\n",
    "                if len(match) <= len(x[i:i+k]):\n",
    "                    match = x[i:i+k]\n",
    "                k=k+1\n",
    "    return match \n"
   ]
  },
  {
   "cell_type": "code",
   "execution_count": 29,
   "id": "eb434785",
   "metadata": {},
   "outputs": [],
   "source": [
    "def recommender():\n",
    "    song = input('What is the name of your song? ')\n",
    "    song = song.lower().strip()\n",
    "    \n",
    "    if song == '':\n",
    "        print('Not a mind reader :) Please give me a hint!')\n",
    "        song = input('What is the name of your song? ')\n",
    "    \n",
    "    \n",
    "    elif song in list(hot_songs['artist']): \n",
    "        response = input('Do you want a hot song by '+ song.title() +'? ')\n",
    "        if response == 'yes':\n",
    "            lst_song = list(hot_songs['song'].where(hot_songs['artist'] == song).dropna())\n",
    "            x = randint(0,len(lst_song)-1)\n",
    "            print('I recommend this hot song: '+lst_song[x].title()+ ' by '+ song.title())\n",
    "            try:\n",
    "                track_id = str((spotify_data.loc[spotify_data.song == lst_song[x], 'song_id'].values[0]))\n",
    "                display(IFrame(src=f\"https://open.spotify.com/embed/track/{track_id}\",\n",
    "                     width = '320', height = '80',allow = 'encreypted-media'))\n",
    "            except:\n",
    "                None\n",
    "            return\n",
    "            \n",
    "        else:\n",
    "            answer = input(\"Sorry, it is not a hot song :( Do you want to try again?: \" )\n",
    "            if answer == 'yes': \n",
    "                recommender()\n",
    "            else:\n",
    "                print('Have a good day! See you next time.')\n",
    "            \n",
    "    elif song in list(hot_songs['song']):\n",
    "        answer = input(\"Do you mean \" + song.title() + \" by \" + hot_songs.loc[hot_songs.song == song, 'artist'].values[0].title() +  \"? \")\n",
    "        if answer == 'yes':\n",
    "            if song in list(hot_songs['song']):\n",
    "                x = randint(0,99)\n",
    "                print(\"Nice! This is a hot song! You might also like \" + hot_songs['song'][x].title() + \" by \" + hot_songs['artist'][x].title())\n",
    "                try:\n",
    "                    track_id = str((spotify_data.loc[spotify_data.song == hot_songs['song'][x], 'song_id'].values[0]))\n",
    "                    display(IFrame(src=f\"https://open.spotify.com/embed/track/{track_id}\",\n",
    "                              width = '320', height = '80',allow = 'encreypted-media'))\n",
    "                except:\n",
    "                    None\n",
    "                return\n",
    "        else:\n",
    "            answer = input(\"Do you want to try again?: \" )\n",
    "            if answer == 'yes': \n",
    "                recommender()\n",
    "            else:\n",
    "                print('Have a good day! See you next time.')\n",
    "                \n",
    "    if song in list(spotify_data['song']):\n",
    "        answer = input(\"Do you mean \" + song.title() + \" by \" + spotify_data.loc[spotify_data.song == song, 'artist'].values[0].title() +  \"? \")\n",
    "        if answer == 'yes' and spotify_data.loc[spotify_data.song == song, 'artist'].values[0] in list(hot_songs['artist']):\n",
    "            lst_song = list(hot_songs['song'].where(hot_songs['artist'] == spotify_data.loc[spotify_data.song == song, 'artist'].values[0]).dropna())\n",
    "            \n",
    "            x = randint(0,len(lst_song)-1)\n",
    "            if lst_song[x] != song:\n",
    "                print('Not a hot song but you may enjoy this hot song ' + lst_song[x].title()+ ' by ' + hot_songs.loc[hot_songs.song == lst_song[x], 'artist'].values[0].title())   \n",
    "                try:\n",
    "                    track_id = str(spotify_data.loc[spotify_data.song ==lst_song[x], 'song_id'].values[0])\n",
    "                    display(IFrame(src=f\"https://open.spotify.com/embed/track/{track_id}\",\n",
    "                            width = '320', height = '80',allow = 'encreypted-media'))\n",
    "                except:\n",
    "                    None\n",
    "            return\n",
    "        \n",
    "        \n",
    "        if answer == 'yes' and (spotify_data.loc[spotify_data.song == song, 'artist'].values[0] not in list(hot_songs['artist'])):\n",
    "            lst_cluster = list(spotify_data['song'].where(spotify_data['cluster'] == spotify_data.loc[spotify_data.song == song, 'cluster'].values[0]).dropna())\n",
    "            x = randint(0,len(lst_cluster)-1)\n",
    "            print('Not a hot song but from my spotify collection you may also enjoy '+ lst_cluster[x].title() + 'by '+ spotify_data.loc[spotify_data.song == lst_cluster[x], 'artist'].values[0].title())\n",
    "            try:\n",
    "                track_id = str((spotify_data.loc[spotify_data.song ==lst_cluster[x], 'song_id'].values[0]))\n",
    "                display(IFrame(src=f\"https://open.spotify.com/embed/track/{track_id}\",\n",
    "                          width = '320', height = '80',allow = 'encreypted-media'))\n",
    "            except:\n",
    "                None\n",
    "            return\n",
    "        else:\n",
    "            answer = input(\"Sorry, it is not a hot song :( Do you want to try again? \" )\n",
    "            if answer == 'yes': \n",
    "                recommender()\n",
    "            else:\n",
    "                print('Have a good day! See you next time.')\n",
    "    else: \n",
    "            common = {}\n",
    "            for j in range(len(hot_songs['song'])):\n",
    "                match = matchingString(song, hot_songs['song'][j])\n",
    "                key = hot_songs['song'][j]\n",
    "                common[key] = match \n",
    "                #print(max(len(match) for match in list(common.items())))\n",
    "                if len(match) == max(len(match) for match in list(common.values())):\n",
    "                    guess = [k for k,v in common.items() if v == match]\n",
    "            else:\n",
    "                for i in range(len(guess)):\n",
    "                    answer = input(\"Do you mean \" + guess[i].title()+ \" by \" + hot_songs['artist'][i].title() +  \"? \")\n",
    "                    if answer.lower() == 'yes':\n",
    "                        x = randint(0,99)\n",
    "                        print(\"Nice! This is a hot song! You might also like \" + hot_songs['song'][x].title() + \" by \" + hot_songs['artist'][x].title())\n",
    "                        try:\n",
    "                            track_id = str((spotify_data.loc[spotify_data.song ==hot_songs['song'][x], 'song_id'].values[0]))\n",
    "                            display(IFrame(src=f\"https://open.spotify.com/embed/track/{track_id}\",\n",
    "                                      width = '320', height = '80',allow = 'encreypted-media'))\n",
    "                        except: \n",
    "                            None\n",
    "                        return\n",
    "                    elif answer.lower() == 'no':\n",
    "                        i+=1\n",
    "                        if i not in range(len(guess)):\n",
    "                            print(\"Sorry, I don't have your song :( I am improving please come back later!\") \n",
    "   "
   ]
  },
  {
   "cell_type": "code",
   "execution_count": 30,
   "id": "cc1578be",
   "metadata": {},
   "outputs": [
    {
     "name": "stdout",
     "output_type": "stream",
     "text": [
      "What is the name of your song? adele\n",
      "Do you want a hot song by Adele? yes\n",
      "I recommend this hot song: My Little Love by Adele\n"
     ]
    },
    {
     "data": {
      "text/html": [
       "\n",
       "        <iframe\n",
       "            width=\"320\"\n",
       "            height=\"80\"\n",
       "            src=\"https://open.spotify.com/embed/track/2DuPBbS5mIldXnh7Wum8Cy?allow=encreypted-media\"\n",
       "            frameborder=\"0\"\n",
       "            allowfullscreen\n",
       "            \n",
       "        ></iframe>\n",
       "        "
      ],
      "text/plain": [
       "<IPython.lib.display.IFrame at 0x7ffda80f7f40>"
      ]
     },
     "metadata": {},
     "output_type": "display_data"
    }
   ],
   "source": [
    "recommender() # if someone enters an artist name, tries to find a hot song by that artist and suggest"
   ]
  },
  {
   "cell_type": "code",
   "execution_count": 33,
   "id": "823aafa1",
   "metadata": {},
   "outputs": [
    {
     "name": "stdout",
     "output_type": "stream",
     "text": [
      "What is the name of your song? adele\n",
      "Do you want a hot song by Adele? no\n",
      "Sorry, it is not a hot song :( Do you want to try again?: no\n",
      "Have a good day! See you next time.\n",
      "Do you mean Fair Trade by Adele? no\n",
      "Sorry, I don't have your song :( I am improving please come back later!\n"
     ]
    }
   ],
   "source": [
    "recommender()  # if answer is no, no recommendation and start over option , at last it gives a message and it overs\n",
    "                "
   ]
  },
  {
   "cell_type": "code",
   "execution_count": 46,
   "id": "1edf24fc",
   "metadata": {},
   "outputs": [
    {
     "name": "stdout",
     "output_type": "stream",
     "text": [
      "What is the name of your song? state of grace\n",
      "Do you mean State Of Grace by Taylor Swift? yes\n",
      "Not a hot song but you may enjoy this hot song Message In A Bottle   by Taylor Swift\n"
     ]
    }
   ],
   "source": [
    "recommender()     # if the song is in spotify list, first try to get the artist and suggest a hot song by that artist"
   ]
  },
  {
   "cell_type": "code",
   "execution_count": 43,
   "id": "4c644882",
   "metadata": {},
   "outputs": [],
   "source": [
    "lst_song = list(hot_songs['song'].where(hot_songs['artist'] == 'taylor swift').dropna())"
   ]
  },
  {
   "cell_type": "code",
   "execution_count": 44,
   "id": "629f6ed6",
   "metadata": {},
   "outputs": [
    {
     "data": {
      "text/plain": [
       "['all too well ', 'message in a bottle  ', 'red ', 'state of grace ']"
      ]
     },
     "execution_count": 44,
     "metadata": {},
     "output_type": "execute_result"
    }
   ],
   "source": [
    "lst_song"
   ]
  },
  {
   "cell_type": "code",
   "execution_count": null,
   "id": "dffddb88",
   "metadata": {},
   "outputs": [],
   "source": []
  }
 ],
 "metadata": {
  "kernelspec": {
   "display_name": "Python 3 (ipykernel)",
   "language": "python",
   "name": "python3"
  },
  "language_info": {
   "codemirror_mode": {
    "name": "ipython",
    "version": 3
   },
   "file_extension": ".py",
   "mimetype": "text/x-python",
   "name": "python",
   "nbconvert_exporter": "python",
   "pygments_lexer": "ipython3",
   "version": "3.9.7"
  },
  "toc": {
   "base_numbering": 1,
   "nav_menu": {},
   "number_sections": true,
   "sideBar": true,
   "skip_h1_title": false,
   "title_cell": "Table of Contents",
   "title_sidebar": "Contents",
   "toc_cell": false,
   "toc_position": {},
   "toc_section_display": true,
   "toc_window_display": true
  }
 },
 "nbformat": 4,
 "nbformat_minor": 5
}
