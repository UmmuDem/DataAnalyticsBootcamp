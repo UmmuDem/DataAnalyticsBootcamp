{
 "cells": [
  {
   "cell_type": "markdown",
   "id": "e5f01a23",
   "metadata": {},
   "source": [
    "# Combining all data obtained from three playlists"
   ]
  },
  {
   "cell_type": "code",
   "execution_count": 1,
   "id": "ca9bb162",
   "metadata": {},
   "outputs": [],
   "source": [
    "import pandas as pd"
   ]
  },
  {
   "cell_type": "code",
   "execution_count": 2,
   "id": "78f68e70",
   "metadata": {},
   "outputs": [],
   "source": [
    "df1 = pd.read_csv('playlist1.csv')"
   ]
  },
  {
   "cell_type": "code",
   "execution_count": 3,
   "id": "9f0ace7e",
   "metadata": {},
   "outputs": [],
   "source": [
    "df2 = pd.read_csv('playlist2.csv')"
   ]
  },
  {
   "cell_type": "code",
   "execution_count": 4,
   "id": "f3c48e88",
   "metadata": {},
   "outputs": [],
   "source": [
    "df3 = pd.read_csv('playlist3.csv')"
   ]
  },
  {
   "cell_type": "code",
   "execution_count": 5,
   "id": "daac8c8e",
   "metadata": {},
   "outputs": [],
   "source": [
    "df4 = pd.read_csv('playlist4.csv')"
   ]
  },
  {
   "cell_type": "code",
   "execution_count": 6,
   "id": "64d46bf8",
   "metadata": {},
   "outputs": [],
   "source": [
    "df1_audio = pd.read_csv('playlist1_audio.csv')"
   ]
  },
  {
   "cell_type": "code",
   "execution_count": 7,
   "id": "c5c17d34",
   "metadata": {},
   "outputs": [],
   "source": [
    "df2_audio = pd.read_csv('playlist2_audio.csv')"
   ]
  },
  {
   "cell_type": "code",
   "execution_count": 8,
   "id": "ebdc4839",
   "metadata": {},
   "outputs": [],
   "source": [
    "df3_audio = pd.read_csv('playlist3_audio.csv')"
   ]
  },
  {
   "cell_type": "code",
   "execution_count": 9,
   "id": "c2152b39",
   "metadata": {},
   "outputs": [],
   "source": [
    "df4_audio = pd.read_csv('playlist4_audio.csv')"
   ]
  },
  {
   "cell_type": "code",
   "execution_count": 10,
   "id": "f560d6b4",
   "metadata": {},
   "outputs": [],
   "source": [
    "df_songs = pd.concat([df1,df2,df3,df4])"
   ]
  },
  {
   "cell_type": "code",
   "execution_count": 11,
   "id": "8dd0f304",
   "metadata": {},
   "outputs": [],
   "source": [
    "df_audio = pd.concat([df1_audio,df2_audio,df3_audio,df4_audio])"
   ]
  },
  {
   "cell_type": "code",
   "execution_count": 12,
   "id": "270d920b",
   "metadata": {},
   "outputs": [],
   "source": [
    "df_songs.reset_index(drop=True, inplace=True)"
   ]
  },
  {
   "cell_type": "code",
   "execution_count": 13,
   "id": "1969295d",
   "metadata": {},
   "outputs": [
    {
     "name": "stdout",
     "output_type": "stream",
     "text": [
      "<class 'pandas.core.frame.DataFrame'>\n",
      "RangeIndex: 22012 entries, 0 to 22011\n",
      "Data columns (total 4 columns):\n",
      " #   Column      Non-Null Count  Dtype \n",
      "---  ------      --------------  ----- \n",
      " 0   Unnamed: 0  22012 non-null  int64 \n",
      " 1   song_uri    22012 non-null  object\n",
      " 2   song        22012 non-null  object\n",
      " 3   artist      22012 non-null  object\n",
      "dtypes: int64(1), object(3)\n",
      "memory usage: 688.0+ KB\n"
     ]
    }
   ],
   "source": [
    "df_songs.info()"
   ]
  },
  {
   "cell_type": "code",
   "execution_count": 14,
   "id": "69ce169c",
   "metadata": {},
   "outputs": [],
   "source": [
    "df_songs_clean = df_songs.drop_duplicates(subset = ['song','artist'], keep = 'first')"
   ]
  },
  {
   "cell_type": "code",
   "execution_count": 15,
   "id": "b1b0adb5",
   "metadata": {},
   "outputs": [
    {
     "name": "stdout",
     "output_type": "stream",
     "text": [
      "<class 'pandas.core.frame.DataFrame'>\n",
      "Int64Index: 18974 entries, 0 to 22007\n",
      "Data columns (total 4 columns):\n",
      " #   Column      Non-Null Count  Dtype \n",
      "---  ------      --------------  ----- \n",
      " 0   Unnamed: 0  18974 non-null  int64 \n",
      " 1   song_uri    18974 non-null  object\n",
      " 2   song        18974 non-null  object\n",
      " 3   artist      18974 non-null  object\n",
      "dtypes: int64(1), object(3)\n",
      "memory usage: 741.2+ KB\n"
     ]
    }
   ],
   "source": [
    "df_songs_clean.info()"
   ]
  },
  {
   "cell_type": "code",
   "execution_count": 26,
   "id": "fb154887",
   "metadata": {},
   "outputs": [],
   "source": [
    "df_songs_clean.reset_index(drop=True, inplace=True)"
   ]
  },
  {
   "cell_type": "code",
   "execution_count": 27,
   "id": "634e105a",
   "metadata": {},
   "outputs": [],
   "source": [
    "df_songs_clean.rename(columns={'song_uri': 'uri'},inplace=True)"
   ]
  },
  {
   "cell_type": "code",
   "execution_count": 28,
   "id": "e6ee8ff3",
   "metadata": {},
   "outputs": [
    {
     "name": "stdout",
     "output_type": "stream",
     "text": [
      "<class 'pandas.core.frame.DataFrame'>\n",
      "RangeIndex: 18974 entries, 0 to 18973\n",
      "Data columns (total 4 columns):\n",
      " #   Column      Non-Null Count  Dtype \n",
      "---  ------      --------------  ----- \n",
      " 0   Unnamed: 0  18974 non-null  int64 \n",
      " 1   uri         18974 non-null  object\n",
      " 2   song        18974 non-null  object\n",
      " 3   artist      18974 non-null  object\n",
      "dtypes: int64(1), object(3)\n",
      "memory usage: 593.1+ KB\n"
     ]
    }
   ],
   "source": [
    "df_songs_clean.info()"
   ]
  },
  {
   "cell_type": "code",
   "execution_count": 17,
   "id": "c65d979b",
   "metadata": {},
   "outputs": [],
   "source": [
    "df_audio.reset_index(drop=True, inplace=True)"
   ]
  },
  {
   "cell_type": "code",
   "execution_count": 18,
   "id": "2bfc5909",
   "metadata": {},
   "outputs": [
    {
     "name": "stdout",
     "output_type": "stream",
     "text": [
      "<class 'pandas.core.frame.DataFrame'>\n",
      "RangeIndex: 21612 entries, 0 to 21611\n",
      "Data columns (total 19 columns):\n",
      " #   Column            Non-Null Count  Dtype  \n",
      "---  ------            --------------  -----  \n",
      " 0   Unnamed: 0        21612 non-null  int64  \n",
      " 1   danceability      21612 non-null  float64\n",
      " 2   energy            21612 non-null  float64\n",
      " 3   key               21612 non-null  int64  \n",
      " 4   loudness          21612 non-null  float64\n",
      " 5   mode              21612 non-null  int64  \n",
      " 6   speechiness       21612 non-null  float64\n",
      " 7   acousticness      21612 non-null  float64\n",
      " 8   instrumentalness  21612 non-null  float64\n",
      " 9   liveness          21612 non-null  float64\n",
      " 10  valence           21612 non-null  float64\n",
      " 11  tempo             21612 non-null  float64\n",
      " 12  type              21612 non-null  object \n",
      " 13  id                21612 non-null  object \n",
      " 14  uri               21612 non-null  object \n",
      " 15  track_href        21612 non-null  object \n",
      " 16  analysis_url      21612 non-null  object \n",
      " 17  duration_ms       21612 non-null  int64  \n",
      " 18  time_signature    21612 non-null  int64  \n",
      "dtypes: float64(9), int64(5), object(5)\n",
      "memory usage: 3.1+ MB\n"
     ]
    }
   ],
   "source": [
    "df_audio.info()"
   ]
  },
  {
   "cell_type": "code",
   "execution_count": 20,
   "id": "204b919e",
   "metadata": {},
   "outputs": [],
   "source": [
    "df_audio_clean = df_audio.drop_duplicates(subset = ['uri'], keep = 'first')"
   ]
  },
  {
   "cell_type": "code",
   "execution_count": 21,
   "id": "40532e31",
   "metadata": {},
   "outputs": [],
   "source": [
    "df_audio_clean.reset_index(drop=True, inplace=True)"
   ]
  },
  {
   "cell_type": "code",
   "execution_count": 22,
   "id": "67c8fbbd",
   "metadata": {},
   "outputs": [
    {
     "name": "stdout",
     "output_type": "stream",
     "text": [
      "<class 'pandas.core.frame.DataFrame'>\n",
      "RangeIndex: 19298 entries, 0 to 19297\n",
      "Data columns (total 19 columns):\n",
      " #   Column            Non-Null Count  Dtype  \n",
      "---  ------            --------------  -----  \n",
      " 0   Unnamed: 0        19298 non-null  int64  \n",
      " 1   danceability      19298 non-null  float64\n",
      " 2   energy            19298 non-null  float64\n",
      " 3   key               19298 non-null  int64  \n",
      " 4   loudness          19298 non-null  float64\n",
      " 5   mode              19298 non-null  int64  \n",
      " 6   speechiness       19298 non-null  float64\n",
      " 7   acousticness      19298 non-null  float64\n",
      " 8   instrumentalness  19298 non-null  float64\n",
      " 9   liveness          19298 non-null  float64\n",
      " 10  valence           19298 non-null  float64\n",
      " 11  tempo             19298 non-null  float64\n",
      " 12  type              19298 non-null  object \n",
      " 13  id                19298 non-null  object \n",
      " 14  uri               19298 non-null  object \n",
      " 15  track_href        19298 non-null  object \n",
      " 16  analysis_url      19298 non-null  object \n",
      " 17  duration_ms       19298 non-null  int64  \n",
      " 18  time_signature    19298 non-null  int64  \n",
      "dtypes: float64(9), int64(5), object(5)\n",
      "memory usage: 2.8+ MB\n"
     ]
    }
   ],
   "source": [
    "df_audio_clean.info()"
   ]
  },
  {
   "cell_type": "code",
   "execution_count": 29,
   "id": "878b3d92",
   "metadata": {},
   "outputs": [],
   "source": [
    "data = pd.merge(df_songs_clean,df_audio_clean[['uri','danceability','energy','loudness','speechiness','acousticness','instrumentalness','liveness','valence','tempo']],\n",
    "                 on='uri', \n",
    "                 how='inner')"
   ]
  },
  {
   "cell_type": "code",
   "execution_count": 30,
   "id": "c5acf86d",
   "metadata": {},
   "outputs": [
    {
     "name": "stdout",
     "output_type": "stream",
     "text": [
      "<class 'pandas.core.frame.DataFrame'>\n",
      "Int64Index: 18682 entries, 0 to 18681\n",
      "Data columns (total 13 columns):\n",
      " #   Column            Non-Null Count  Dtype  \n",
      "---  ------            --------------  -----  \n",
      " 0   Unnamed: 0        18682 non-null  int64  \n",
      " 1   uri               18682 non-null  object \n",
      " 2   song              18682 non-null  object \n",
      " 3   artist            18682 non-null  object \n",
      " 4   danceability      18682 non-null  float64\n",
      " 5   energy            18682 non-null  float64\n",
      " 6   loudness          18682 non-null  float64\n",
      " 7   speechiness       18682 non-null  float64\n",
      " 8   acousticness      18682 non-null  float64\n",
      " 9   instrumentalness  18682 non-null  float64\n",
      " 10  liveness          18682 non-null  float64\n",
      " 11  valence           18682 non-null  float64\n",
      " 12  tempo             18682 non-null  float64\n",
      "dtypes: float64(9), int64(1), object(3)\n",
      "memory usage: 2.0+ MB\n"
     ]
    }
   ],
   "source": [
    "data.info()"
   ]
  },
  {
   "cell_type": "code",
   "execution_count": 31,
   "id": "095f5bc1",
   "metadata": {},
   "outputs": [],
   "source": [
    "data = data.drop(['Unnamed: 0'], axis=1)"
   ]
  },
  {
   "cell_type": "code",
   "execution_count": 32,
   "id": "6d701c75",
   "metadata": {},
   "outputs": [
    {
     "name": "stdout",
     "output_type": "stream",
     "text": [
      "<class 'pandas.core.frame.DataFrame'>\n",
      "Int64Index: 18682 entries, 0 to 18681\n",
      "Data columns (total 12 columns):\n",
      " #   Column            Non-Null Count  Dtype  \n",
      "---  ------            --------------  -----  \n",
      " 0   uri               18682 non-null  object \n",
      " 1   song              18682 non-null  object \n",
      " 2   artist            18682 non-null  object \n",
      " 3   danceability      18682 non-null  float64\n",
      " 4   energy            18682 non-null  float64\n",
      " 5   loudness          18682 non-null  float64\n",
      " 6   speechiness       18682 non-null  float64\n",
      " 7   acousticness      18682 non-null  float64\n",
      " 8   instrumentalness  18682 non-null  float64\n",
      " 9   liveness          18682 non-null  float64\n",
      " 10  valence           18682 non-null  float64\n",
      " 11  tempo             18682 non-null  float64\n",
      "dtypes: float64(9), object(3)\n",
      "memory usage: 1.9+ MB\n"
     ]
    }
   ],
   "source": [
    "data.info()"
   ]
  },
  {
   "cell_type": "code",
   "execution_count": 33,
   "id": "e441c145",
   "metadata": {},
   "outputs": [],
   "source": [
    "data.to_csv('all_data.csv')"
   ]
  },
  {
   "cell_type": "code",
   "execution_count": 34,
   "id": "d4eb30c8",
   "metadata": {},
   "outputs": [
    {
     "data": {
      "text/html": [
       "<div>\n",
       "<style scoped>\n",
       "    .dataframe tbody tr th:only-of-type {\n",
       "        vertical-align: middle;\n",
       "    }\n",
       "\n",
       "    .dataframe tbody tr th {\n",
       "        vertical-align: top;\n",
       "    }\n",
       "\n",
       "    .dataframe thead th {\n",
       "        text-align: right;\n",
       "    }\n",
       "</style>\n",
       "<table border=\"1\" class=\"dataframe\">\n",
       "  <thead>\n",
       "    <tr style=\"text-align: right;\">\n",
       "      <th></th>\n",
       "      <th>uri</th>\n",
       "      <th>song</th>\n",
       "      <th>artist</th>\n",
       "      <th>danceability</th>\n",
       "      <th>energy</th>\n",
       "      <th>loudness</th>\n",
       "      <th>speechiness</th>\n",
       "      <th>acousticness</th>\n",
       "      <th>instrumentalness</th>\n",
       "      <th>liveness</th>\n",
       "      <th>valence</th>\n",
       "      <th>tempo</th>\n",
       "    </tr>\n",
       "  </thead>\n",
       "  <tbody>\n",
       "    <tr>\n",
       "      <th>0</th>\n",
       "      <td>spotify:track:7xOh2WlB3L3J2fh2rtVFY0</td>\n",
       "      <td>Johanna</td>\n",
       "      <td>Geoff Zanelli</td>\n",
       "      <td>0.627</td>\n",
       "      <td>0.768</td>\n",
       "      <td>-6.449</td>\n",
       "      <td>0.0282</td>\n",
       "      <td>0.04060</td>\n",
       "      <td>0.010700</td>\n",
       "      <td>0.0843</td>\n",
       "      <td>0.906</td>\n",
       "      <td>113.048</td>\n",
       "    </tr>\n",
       "    <tr>\n",
       "      <th>1</th>\n",
       "      <td>spotify:track:6rztuzIBEueoBWNYyhmKa4</td>\n",
       "      <td>Hong Kong</td>\n",
       "      <td>Geoff Zanelli</td>\n",
       "      <td>0.448</td>\n",
       "      <td>0.507</td>\n",
       "      <td>-10.181</td>\n",
       "      <td>0.0361</td>\n",
       "      <td>0.10600</td>\n",
       "      <td>0.730000</td>\n",
       "      <td>0.1550</td>\n",
       "      <td>0.223</td>\n",
       "      <td>113.323</td>\n",
       "    </tr>\n",
       "    <tr>\n",
       "      <th>2</th>\n",
       "      <td>spotify:track:1XSeMdMvsZbkdRatUMd2sp</td>\n",
       "      <td>The Farmer's Daughter</td>\n",
       "      <td>Geoff Zanelli</td>\n",
       "      <td>0.360</td>\n",
       "      <td>0.478</td>\n",
       "      <td>-9.121</td>\n",
       "      <td>0.0342</td>\n",
       "      <td>0.01630</td>\n",
       "      <td>0.855000</td>\n",
       "      <td>0.3410</td>\n",
       "      <td>0.305</td>\n",
       "      <td>96.536</td>\n",
       "    </tr>\n",
       "    <tr>\n",
       "      <th>3</th>\n",
       "      <td>spotify:track:63CpQ7ltku7C1YyBxXgo8A</td>\n",
       "      <td>The Painted Lady May Be in Play</td>\n",
       "      <td>Geoff Zanelli</td>\n",
       "      <td>0.446</td>\n",
       "      <td>0.780</td>\n",
       "      <td>-9.255</td>\n",
       "      <td>0.0481</td>\n",
       "      <td>0.04630</td>\n",
       "      <td>0.945000</td>\n",
       "      <td>0.1120</td>\n",
       "      <td>0.328</td>\n",
       "      <td>101.076</td>\n",
       "    </tr>\n",
       "    <tr>\n",
       "      <th>4</th>\n",
       "      <td>spotify:track:0AY4PnjCPP4ZeDWX9AST7y</td>\n",
       "      <td>Spinoza</td>\n",
       "      <td>Geoff Zanelli</td>\n",
       "      <td>0.510</td>\n",
       "      <td>0.572</td>\n",
       "      <td>-10.967</td>\n",
       "      <td>0.0539</td>\n",
       "      <td>0.06860</td>\n",
       "      <td>0.874000</td>\n",
       "      <td>0.1300</td>\n",
       "      <td>0.153</td>\n",
       "      <td>113.413</td>\n",
       "    </tr>\n",
       "    <tr>\n",
       "      <th>...</th>\n",
       "      <td>...</td>\n",
       "      <td>...</td>\n",
       "      <td>...</td>\n",
       "      <td>...</td>\n",
       "      <td>...</td>\n",
       "      <td>...</td>\n",
       "      <td>...</td>\n",
       "      <td>...</td>\n",
       "      <td>...</td>\n",
       "      <td>...</td>\n",
       "      <td>...</td>\n",
       "      <td>...</td>\n",
       "    </tr>\n",
       "    <tr>\n",
       "      <th>18677</th>\n",
       "      <td>spotify:track:6guWjUuNYziyNXgjFo1IpF</td>\n",
       "      <td>Houston, We Got a Problem</td>\n",
       "      <td>Luke Combs</td>\n",
       "      <td>0.521</td>\n",
       "      <td>0.762</td>\n",
       "      <td>-5.059</td>\n",
       "      <td>0.0362</td>\n",
       "      <td>0.09610</td>\n",
       "      <td>0.000006</td>\n",
       "      <td>0.3950</td>\n",
       "      <td>0.486</td>\n",
       "      <td>143.866</td>\n",
       "    </tr>\n",
       "    <tr>\n",
       "      <th>18678</th>\n",
       "      <td>spotify:track:6ojicjDYUUoeE1tdSvfFo4</td>\n",
       "      <td>Must've Never Met You</td>\n",
       "      <td>Luke Combs</td>\n",
       "      <td>0.455</td>\n",
       "      <td>0.892</td>\n",
       "      <td>-3.218</td>\n",
       "      <td>0.0564</td>\n",
       "      <td>0.00951</td>\n",
       "      <td>0.000000</td>\n",
       "      <td>0.1430</td>\n",
       "      <td>0.641</td>\n",
       "      <td>75.218</td>\n",
       "    </tr>\n",
       "    <tr>\n",
       "      <th>18679</th>\n",
       "      <td>spotify:track:2rxQMGVafnNaRaXlRMWPde</td>\n",
       "      <td>Beautiful Crazy</td>\n",
       "      <td>Luke Combs</td>\n",
       "      <td>0.551</td>\n",
       "      <td>0.402</td>\n",
       "      <td>-7.431</td>\n",
       "      <td>0.0262</td>\n",
       "      <td>0.67600</td>\n",
       "      <td>0.000000</td>\n",
       "      <td>0.0928</td>\n",
       "      <td>0.382</td>\n",
       "      <td>103.313</td>\n",
       "    </tr>\n",
       "    <tr>\n",
       "      <th>18680</th>\n",
       "      <td>spotify:track:3z1QH1O1h15lFROjcECqgi</td>\n",
       "      <td>A Long Way</td>\n",
       "      <td>Luke Combs</td>\n",
       "      <td>0.483</td>\n",
       "      <td>0.713</td>\n",
       "      <td>-5.027</td>\n",
       "      <td>0.0295</td>\n",
       "      <td>0.01940</td>\n",
       "      <td>0.000144</td>\n",
       "      <td>0.3160</td>\n",
       "      <td>0.595</td>\n",
       "      <td>161.903</td>\n",
       "    </tr>\n",
       "    <tr>\n",
       "      <th>18681</th>\n",
       "      <td>spotify:track:698eQRku24PIYPQPHItKlA</td>\n",
       "      <td>She Got the Best of Me</td>\n",
       "      <td>Luke Combs</td>\n",
       "      <td>0.533</td>\n",
       "      <td>0.907</td>\n",
       "      <td>-3.793</td>\n",
       "      <td>0.0406</td>\n",
       "      <td>0.02920</td>\n",
       "      <td>0.000000</td>\n",
       "      <td>0.3860</td>\n",
       "      <td>0.700</td>\n",
       "      <td>150.990</td>\n",
       "    </tr>\n",
       "  </tbody>\n",
       "</table>\n",
       "<p>18682 rows × 12 columns</p>\n",
       "</div>"
      ],
      "text/plain": [
       "                                        uri                             song  \\\n",
       "0      spotify:track:7xOh2WlB3L3J2fh2rtVFY0                          Johanna   \n",
       "1      spotify:track:6rztuzIBEueoBWNYyhmKa4                        Hong Kong   \n",
       "2      spotify:track:1XSeMdMvsZbkdRatUMd2sp            The Farmer's Daughter   \n",
       "3      spotify:track:63CpQ7ltku7C1YyBxXgo8A  The Painted Lady May Be in Play   \n",
       "4      spotify:track:0AY4PnjCPP4ZeDWX9AST7y                          Spinoza   \n",
       "...                                     ...                              ...   \n",
       "18677  spotify:track:6guWjUuNYziyNXgjFo1IpF        Houston, We Got a Problem   \n",
       "18678  spotify:track:6ojicjDYUUoeE1tdSvfFo4            Must've Never Met You   \n",
       "18679  spotify:track:2rxQMGVafnNaRaXlRMWPde                  Beautiful Crazy   \n",
       "18680  spotify:track:3z1QH1O1h15lFROjcECqgi                       A Long Way   \n",
       "18681  spotify:track:698eQRku24PIYPQPHItKlA           She Got the Best of Me   \n",
       "\n",
       "              artist  danceability  energy  loudness  speechiness  \\\n",
       "0      Geoff Zanelli         0.627   0.768    -6.449       0.0282   \n",
       "1      Geoff Zanelli         0.448   0.507   -10.181       0.0361   \n",
       "2      Geoff Zanelli         0.360   0.478    -9.121       0.0342   \n",
       "3      Geoff Zanelli         0.446   0.780    -9.255       0.0481   \n",
       "4      Geoff Zanelli         0.510   0.572   -10.967       0.0539   \n",
       "...              ...           ...     ...       ...          ...   \n",
       "18677     Luke Combs         0.521   0.762    -5.059       0.0362   \n",
       "18678     Luke Combs         0.455   0.892    -3.218       0.0564   \n",
       "18679     Luke Combs         0.551   0.402    -7.431       0.0262   \n",
       "18680     Luke Combs         0.483   0.713    -5.027       0.0295   \n",
       "18681     Luke Combs         0.533   0.907    -3.793       0.0406   \n",
       "\n",
       "       acousticness  instrumentalness  liveness  valence    tempo  \n",
       "0           0.04060          0.010700    0.0843    0.906  113.048  \n",
       "1           0.10600          0.730000    0.1550    0.223  113.323  \n",
       "2           0.01630          0.855000    0.3410    0.305   96.536  \n",
       "3           0.04630          0.945000    0.1120    0.328  101.076  \n",
       "4           0.06860          0.874000    0.1300    0.153  113.413  \n",
       "...             ...               ...       ...      ...      ...  \n",
       "18677       0.09610          0.000006    0.3950    0.486  143.866  \n",
       "18678       0.00951          0.000000    0.1430    0.641   75.218  \n",
       "18679       0.67600          0.000000    0.0928    0.382  103.313  \n",
       "18680       0.01940          0.000144    0.3160    0.595  161.903  \n",
       "18681       0.02920          0.000000    0.3860    0.700  150.990  \n",
       "\n",
       "[18682 rows x 12 columns]"
      ]
     },
     "execution_count": 34,
     "metadata": {},
     "output_type": "execute_result"
    }
   ],
   "source": [
    "data"
   ]
  },
  {
   "cell_type": "code",
   "execution_count": null,
   "id": "ee25bd92",
   "metadata": {},
   "outputs": [],
   "source": []
  }
 ],
 "metadata": {
  "kernelspec": {
   "display_name": "Python 3 (ipykernel)",
   "language": "python",
   "name": "python3"
  },
  "language_info": {
   "codemirror_mode": {
    "name": "ipython",
    "version": 3
   },
   "file_extension": ".py",
   "mimetype": "text/x-python",
   "name": "python",
   "nbconvert_exporter": "python",
   "pygments_lexer": "ipython3",
   "version": "3.9.7"
  },
  "toc": {
   "base_numbering": 1,
   "nav_menu": {},
   "number_sections": true,
   "sideBar": true,
   "skip_h1_title": false,
   "title_cell": "Table of Contents",
   "title_sidebar": "Contents",
   "toc_cell": false,
   "toc_position": {},
   "toc_section_display": true,
   "toc_window_display": false
  }
 },
 "nbformat": 4,
 "nbformat_minor": 5
}
