{
 "cells": [
  {
   "cell_type": "markdown",
   "id": "14fd3497",
   "metadata": {},
   "source": [
    "# Spotify"
   ]
  },
  {
   "cell_type": "code",
   "execution_count": 1,
   "id": "801839d4",
   "metadata": {},
   "outputs": [],
   "source": [
    "import spotipy \n",
    "from spotipy.oauth2 import SpotifyClientCredentials"
   ]
  },
  {
   "cell_type": "code",
   "execution_count": 2,
   "id": "0f204f97",
   "metadata": {},
   "outputs": [],
   "source": [
    "import pandas as pd\n",
    "import getpass"
   ]
  },
  {
   "cell_type": "code",
   "execution_count": 3,
   "id": "d4d22f64",
   "metadata": {},
   "outputs": [
    {
     "name": "stdout",
     "output_type": "stream",
     "text": [
      "client_id?········\n",
      "client_secret?········\n"
     ]
    }
   ],
   "source": [
    "client_id = str(getpass.getpass('client_id?'))\n",
    "client_secret = str(getpass.getpass('client_secret?'))"
   ]
  },
  {
   "cell_type": "code",
   "execution_count": 4,
   "id": "64762abc",
   "metadata": {},
   "outputs": [],
   "source": [
    "# embedding our getpass credentials in the access key\n",
    "auth_manager = SpotifyClientCredentials(client_id, client_secret)\n",
    "sp = spotipy.Spotify(client_credentials_manager = auth_manager)"
   ]
  },
  {
   "cell_type": "markdown",
   "id": "d5dae7cf",
   "metadata": {},
   "source": [
    "-----"
   ]
  },
  {
   "cell_type": "markdown",
   "id": "737f36ab",
   "metadata": {},
   "source": [
    "## Functions\n",
    "These functions will be used throughout the notebook"
   ]
  },
  {
   "cell_type": "code",
   "execution_count": 5,
   "id": "42007650",
   "metadata": {},
   "outputs": [],
   "source": [
    "# function which handles more than 100 results\n",
    "def get_playlist_tracks(user_id,playlist_id):\n",
    "    results = sp.user_playlist_tracks(user_id,playlist_id)\n",
    "    tracks = results['items']\n",
    "    while results['next']:\n",
    "        results = sp.next(results)\n",
    "        tracks.extend(results['items'])\n",
    "    return tracks"
   ]
  },
  {
   "cell_type": "code",
   "execution_count": 6,
   "id": "ad6aa69d",
   "metadata": {},
   "outputs": [],
   "source": [
    "# from playlist, this extracts artist ids\n",
    "\n",
    "def getArtistIDs(playlist):\n",
    "    ids = []\n",
    "    for j in playlist:\n",
    "        for item in j['track']:\n",
    "            track = j['track']['artists'][0]\n",
    "            ids.append(track['id'])\n",
    "    ids = list(set(ids))\n",
    "    return ids"
   ]
  },
  {
   "cell_type": "code",
   "execution_count": 7,
   "id": "1b1c2181",
   "metadata": {},
   "outputs": [],
   "source": [
    "# using artist_id, extracts album uri. This will be used to find all songs in each album.\n",
    "\n",
    "def get_albums_uri_from_artist(artist_id):\n",
    "    albums = []\n",
    "    result = sp.artist_albums(artist_id)\n",
    "    try:\n",
    "        for j in range(len(result)):\n",
    "            albums.append(result['items'][j]['uri'])\n",
    "    except: \n",
    "        None\n",
    "    albums = list(set(albums))\n",
    "    return albums"
   ]
  },
  {
   "cell_type": "code",
   "execution_count": 8,
   "id": "ee263da6",
   "metadata": {},
   "outputs": [],
   "source": [
    "def all_albums(artist_list):\n",
    "    album_list = []\n",
    "    for artist_id in artist_list:\n",
    "        album_list = album_list + get_albums_uri_from_artist(artist_id)\n",
    "    album_list = list(set(album_list))\n",
    "    return album_list"
   ]
  },
  {
   "cell_type": "markdown",
   "id": "6495e107",
   "metadata": {},
   "source": [
    "## 1st playlist"
   ]
  },
  {
   "cell_type": "code",
   "execution_count": null,
   "id": "753bb77e",
   "metadata": {},
   "outputs": [],
   "source": [
    "playlist = get_playlist_tracks('Maria' ,'5ArSEzHzNSaxKoX5nhK363')"
   ]
  },
  {
   "cell_type": "code",
   "execution_count": null,
   "id": "9b9da8cf",
   "metadata": {},
   "outputs": [],
   "source": [
    "len(playlist)"
   ]
  },
  {
   "cell_type": "code",
   "execution_count": null,
   "id": "ff92e772",
   "metadata": {},
   "outputs": [],
   "source": [
    "playlist[0]"
   ]
  },
  {
   "cell_type": "code",
   "execution_count": null,
   "id": "5e554414",
   "metadata": {},
   "outputs": [],
   "source": [
    "# takes artist ids from playlist\n",
    "\n",
    "artist_list = getArtistIDs(playlist)"
   ]
  },
  {
   "cell_type": "code",
   "execution_count": null,
   "id": "d0f75880",
   "metadata": {},
   "outputs": [],
   "source": [
    "# there are repeating artists \n",
    "\n",
    "len(artist_list)"
   ]
  },
  {
   "cell_type": "code",
   "execution_count": null,
   "id": "c892c5fa",
   "metadata": {},
   "outputs": [],
   "source": [
    "# finds uri lists using artist ids in artist_list. It takes some time because there are over 1k albums\n",
    "uri_list = all_albums(artist_list)"
   ]
  },
  {
   "cell_type": "code",
   "execution_count": null,
   "id": "f612858a",
   "metadata": {},
   "outputs": [],
   "source": [
    "len(uri_list)"
   ]
  },
  {
   "cell_type": "code",
   "execution_count": null,
   "id": "70d831f9",
   "metadata": {},
   "outputs": [],
   "source": [
    "artist = []\n",
    "song = []\n",
    "song_uri = []\n",
    "for uri in uri_list:\n",
    "    result = sp.album_tracks(uri)['items']\n",
    "    for j in range(len(result)):\n",
    "        artist.append(result[j]['artists'][0]['name'])\n",
    "        song.append(result[j]['name'])\n",
    "        song_uri.append(result[j]['uri'])"
   ]
  },
  {
   "cell_type": "code",
   "execution_count": null,
   "id": "b043e2a8",
   "metadata": {},
   "outputs": [],
   "source": [
    "len(artist)"
   ]
  },
  {
   "cell_type": "code",
   "execution_count": null,
   "id": "c21d7bb4",
   "metadata": {},
   "outputs": [],
   "source": [
    "len(song)"
   ]
  },
  {
   "cell_type": "code",
   "execution_count": null,
   "id": "81a283b5",
   "metadata": {},
   "outputs": [],
   "source": [
    "len(song_uri)"
   ]
  },
  {
   "cell_type": "code",
   "execution_count": null,
   "id": "91fa08f8",
   "metadata": {},
   "outputs": [],
   "source": [
    "playlist1_info = pd.DataFrame({'song_uri':song_uri, 'song':song, 'artist':artist})"
   ]
  },
  {
   "cell_type": "code",
   "execution_count": null,
   "id": "13b0b345",
   "metadata": {},
   "outputs": [],
   "source": [
    "len(playlist1_info['song_uri'].unique())"
   ]
  },
  {
   "cell_type": "code",
   "execution_count": null,
   "id": "9c9aaf46",
   "metadata": {},
   "outputs": [],
   "source": [
    "playlist1_info_clean = playlist1_info.drop_duplicates(subset = ['song','artist'], keep = 'first')"
   ]
  },
  {
   "cell_type": "code",
   "execution_count": null,
   "id": "7c3ae5bc",
   "metadata": {},
   "outputs": [],
   "source": [
    "playlist1_info_clean.info()\n"
   ]
  },
  {
   "cell_type": "code",
   "execution_count": null,
   "id": "e42f8158",
   "metadata": {},
   "outputs": [],
   "source": [
    "playlist1_info_clean.reset_index(drop=True, inplace=True)"
   ]
  },
  {
   "cell_type": "code",
   "execution_count": null,
   "id": "0d5ff5c9",
   "metadata": {},
   "outputs": [],
   "source": [
    "playlist1_info_clean.head()"
   ]
  },
  {
   "cell_type": "code",
   "execution_count": null,
   "id": "103207f4",
   "metadata": {},
   "outputs": [],
   "source": [
    "playlist1_info_clean.to_csv('playlist1.csv')"
   ]
  },
  {
   "cell_type": "code",
   "execution_count": null,
   "id": "d107c02e",
   "metadata": {},
   "outputs": [],
   "source": [
    "song_uri = list(playlist1_info_clean['song_uri'])"
   ]
  },
  {
   "cell_type": "code",
   "execution_count": null,
   "id": "8314079b",
   "metadata": {},
   "outputs": [],
   "source": [
    "type(song_uri)"
   ]
  },
  {
   "cell_type": "code",
   "execution_count": null,
   "id": "0fdfdcd6",
   "metadata": {},
   "outputs": [],
   "source": [
    "len(song_uri)"
   ]
  },
  {
   "cell_type": "code",
   "execution_count": null,
   "id": "2632c902",
   "metadata": {},
   "outputs": [],
   "source": [
    "i = 0\n",
    "audio_feat_df = pd.DataFrame()\n",
    "while i <= len(song_uri):\n",
    "    try:\n",
    "        audio_feat_df = pd.concat([audio_feat_df, pd.DataFrame(sp.audio_features(tracks = song_uri[i:i+50]))])\n",
    "    except:\n",
    "        None\n",
    "    i = i + 50"
   ]
  },
  {
   "cell_type": "code",
   "execution_count": null,
   "id": "f849ac7f",
   "metadata": {},
   "outputs": [],
   "source": [
    "audio_feat_df.reset_index(drop=True, inplace=True)"
   ]
  },
  {
   "cell_type": "code",
   "execution_count": null,
   "id": "6ef3bb36",
   "metadata": {},
   "outputs": [],
   "source": [
    "audio_feat_df "
   ]
  },
  {
   "cell_type": "code",
   "execution_count": null,
   "id": "8448059f",
   "metadata": {},
   "outputs": [],
   "source": [
    "audio_feat_df.to_csv('playlist1_audio.csv')"
   ]
  },
  {
   "cell_type": "markdown",
   "id": "b71aec38",
   "metadata": {},
   "source": [
    "## 2nd playlist"
   ]
  },
  {
   "cell_type": "code",
   "execution_count": null,
   "id": "90073849",
   "metadata": {},
   "outputs": [],
   "source": [
    "playlist2 = get_playlist_tracks('HotSpotRadio' ,'0wjaKlKUksPUlsIIFlAX5t')"
   ]
  },
  {
   "cell_type": "code",
   "execution_count": null,
   "id": "a8aad661",
   "metadata": {},
   "outputs": [],
   "source": [
    "len(playlist2)"
   ]
  },
  {
   "cell_type": "code",
   "execution_count": null,
   "id": "53fdecc9",
   "metadata": {},
   "outputs": [],
   "source": [
    "artist_list2 = getArtistIDs(playlist2)"
   ]
  },
  {
   "cell_type": "code",
   "execution_count": null,
   "id": "9f15f044",
   "metadata": {},
   "outputs": [],
   "source": [
    "len(artist_list2)"
   ]
  },
  {
   "cell_type": "code",
   "execution_count": null,
   "id": "914903ef",
   "metadata": {},
   "outputs": [],
   "source": [
    "uri_list = all_albums(artist_list2)"
   ]
  },
  {
   "cell_type": "code",
   "execution_count": null,
   "id": "b3d2e67d",
   "metadata": {},
   "outputs": [],
   "source": [
    "len(uri_list)"
   ]
  },
  {
   "cell_type": "code",
   "execution_count": null,
   "id": "5be3edaf",
   "metadata": {},
   "outputs": [],
   "source": [
    "artist2 = []\n",
    "song2 = []\n",
    "song_uri2 = []\n",
    "for uri in uri_list:\n",
    "    result = sp.album_tracks(uri)['items']\n",
    "    for j in range(len(result)):\n",
    "        artist2.append(result[j]['artists'][0]['name'])\n",
    "        song2.append(result[j]['name'])\n",
    "        song_uri2.append(result[j]['uri'])"
   ]
  },
  {
   "cell_type": "code",
   "execution_count": null,
   "id": "5956fbc5",
   "metadata": {},
   "outputs": [],
   "source": [
    "playlist2_info = pd.DataFrame({'song_uri':song_uri2, 'song':song2, 'artist':artist2})"
   ]
  },
  {
   "cell_type": "code",
   "execution_count": null,
   "id": "2bfa905a",
   "metadata": {},
   "outputs": [],
   "source": [
    "playlist2_info.info()"
   ]
  },
  {
   "cell_type": "code",
   "execution_count": null,
   "id": "db9d66e3",
   "metadata": {},
   "outputs": [],
   "source": [
    "playlist2_info_clean = playlist2_info.drop_duplicates(subset = ['song','artist'], keep = 'first')"
   ]
  },
  {
   "cell_type": "code",
   "execution_count": null,
   "id": "6d907e52",
   "metadata": {},
   "outputs": [],
   "source": [
    "playlist2_info_clean.info()"
   ]
  },
  {
   "cell_type": "code",
   "execution_count": null,
   "id": "ccf533e0",
   "metadata": {},
   "outputs": [],
   "source": [
    "playlist2_info_clean.reset_index(drop=True, inplace=True)"
   ]
  },
  {
   "cell_type": "code",
   "execution_count": null,
   "id": "6c050ab5",
   "metadata": {},
   "outputs": [],
   "source": [
    "playlist2_info_clean"
   ]
  },
  {
   "cell_type": "code",
   "execution_count": null,
   "id": "730463bf",
   "metadata": {},
   "outputs": [],
   "source": [
    "playlist2_info_clean.to_csv('playlist2.csv')"
   ]
  },
  {
   "cell_type": "code",
   "execution_count": null,
   "id": "3f9dbbef",
   "metadata": {},
   "outputs": [],
   "source": [
    "song_uri2 = list(playlist2_info_clean['song_uri'])"
   ]
  },
  {
   "cell_type": "code",
   "execution_count": null,
   "id": "50667718",
   "metadata": {},
   "outputs": [],
   "source": [
    "type(song_uri2)"
   ]
  },
  {
   "cell_type": "code",
   "execution_count": null,
   "id": "4b64f7f9",
   "metadata": {},
   "outputs": [],
   "source": [
    "len(song_uri2)"
   ]
  },
  {
   "cell_type": "code",
   "execution_count": null,
   "id": "c2242cfd",
   "metadata": {},
   "outputs": [],
   "source": [
    "i = 0\n",
    "audio_feat_df2 = pd.DataFrame()\n",
    "while i < len(song_uri2):\n",
    "    audio_feat_df2 = pd.concat([audio_feat_df2, pd.DataFrame(sp.audio_features(tracks = song_uri2[i:i+100]))])\n",
    "    i = i + 100"
   ]
  },
  {
   "cell_type": "code",
   "execution_count": null,
   "id": "652d0180",
   "metadata": {},
   "outputs": [],
   "source": [
    "audio_feat_df2.reset_index(drop=True, inplace=True)"
   ]
  },
  {
   "cell_type": "code",
   "execution_count": null,
   "id": "bc6fce7c",
   "metadata": {},
   "outputs": [],
   "source": [
    "audio_feat_df2"
   ]
  },
  {
   "cell_type": "code",
   "execution_count": null,
   "id": "3edd3eb1",
   "metadata": {},
   "outputs": [],
   "source": [
    "audio_feat_df2.to_csv('playlist2_audio.csv')"
   ]
  },
  {
   "cell_type": "code",
   "execution_count": null,
   "id": "8ee66f4b",
   "metadata": {},
   "outputs": [],
   "source": []
  },
  {
   "cell_type": "markdown",
   "id": "29527166",
   "metadata": {},
   "source": [
    "-----"
   ]
  },
  {
   "cell_type": "markdown",
   "id": "0d39c515",
   "metadata": {},
   "source": [
    "## 3rd Playlist"
   ]
  },
  {
   "cell_type": "code",
   "execution_count": 9,
   "id": "119a1949",
   "metadata": {},
   "outputs": [],
   "source": [
    "playlist3 = get_playlist_tracks('spotify' ,'37i9dQZF1DX0Yxoavh5qJV')"
   ]
  },
  {
   "cell_type": "code",
   "execution_count": 10,
   "id": "b252d3af",
   "metadata": {},
   "outputs": [
    {
     "data": {
      "text/plain": [
       "118"
      ]
     },
     "execution_count": 10,
     "metadata": {},
     "output_type": "execute_result"
    }
   ],
   "source": [
    "len(playlist3)"
   ]
  },
  {
   "cell_type": "code",
   "execution_count": 11,
   "id": "1ca6cad1",
   "metadata": {},
   "outputs": [
    {
     "data": {
      "text/plain": [
       "{'album': {'album_type': 'compilation',\n",
       "  'artists': [{'external_urls': {'spotify': 'https://open.spotify.com/artist/0LyfQWJT6nXafLPZqxe9Of'},\n",
       "    'href': 'https://api.spotify.com/v1/artists/0LyfQWJT6nXafLPZqxe9Of',\n",
       "    'id': '0LyfQWJT6nXafLPZqxe9Of',\n",
       "    'name': 'Various Artists',\n",
       "    'type': 'artist',\n",
       "    'uri': 'spotify:artist:0LyfQWJT6nXafLPZqxe9Of'}],\n",
       "  'available_markets': [],\n",
       "  'external_urls': {'spotify': 'https://open.spotify.com/album/6Mtye5lhYh1JtHenUkIsH6'},\n",
       "  'href': 'https://api.spotify.com/v1/albums/6Mtye5lhYh1JtHenUkIsH6',\n",
       "  'id': '6Mtye5lhYh1JtHenUkIsH6',\n",
       "  'images': [{'height': 640,\n",
       "    'url': 'https://i.scdn.co/image/ab67616d0000b273e60e808ea566aa265ff596f1',\n",
       "    'width': 640},\n",
       "   {'height': 300,\n",
       "    'url': 'https://i.scdn.co/image/ab67616d00001e02e60e808ea566aa265ff596f1',\n",
       "    'width': 300},\n",
       "   {'height': 64,\n",
       "    'url': 'https://i.scdn.co/image/ab67616d00004851e60e808ea566aa265ff596f1',\n",
       "    'width': 64}],\n",
       "  'name': 'Christmas Hits',\n",
       "  'release_date': '2013-09-20',\n",
       "  'release_date_precision': 'day',\n",
       "  'total_tracks': 50,\n",
       "  'type': 'album',\n",
       "  'uri': 'spotify:album:6Mtye5lhYh1JtHenUkIsH6'},\n",
       " 'artists': [{'external_urls': {'spotify': 'https://open.spotify.com/artist/5lpH0xAS4fVfLkACg9DAuM'},\n",
       "   'href': 'https://api.spotify.com/v1/artists/5lpH0xAS4fVfLkACg9DAuM',\n",
       "   'id': '5lpH0xAS4fVfLkACg9DAuM',\n",
       "   'name': 'Wham!',\n",
       "   'type': 'artist',\n",
       "   'uri': 'spotify:artist:5lpH0xAS4fVfLkACg9DAuM'}],\n",
       " 'available_markets': [],\n",
       " 'disc_number': 1,\n",
       " 'duration_ms': 266146,\n",
       " 'episode': False,\n",
       " 'explicit': False,\n",
       " 'external_ids': {'isrc': 'GBBBM8400019'},\n",
       " 'external_urls': {'spotify': 'https://open.spotify.com/track/0QPYn15U8IQHKcH2LDfrek'},\n",
       " 'href': 'https://api.spotify.com/v1/tracks/0QPYn15U8IQHKcH2LDfrek',\n",
       " 'id': '0QPYn15U8IQHKcH2LDfrek',\n",
       " 'is_local': False,\n",
       " 'name': 'Last Christmas',\n",
       " 'popularity': 1,\n",
       " 'preview_url': None,\n",
       " 'track': True,\n",
       " 'track_number': 2,\n",
       " 'type': 'track',\n",
       " 'uri': 'spotify:track:0QPYn15U8IQHKcH2LDfrek'}"
      ]
     },
     "execution_count": 11,
     "metadata": {},
     "output_type": "execute_result"
    }
   ],
   "source": [
    "playlist3[0]['track']"
   ]
  },
  {
   "cell_type": "code",
   "execution_count": 12,
   "id": "664aa552",
   "metadata": {},
   "outputs": [],
   "source": [
    "artist_list_3 = getArtistIDs(playlist3)"
   ]
  },
  {
   "cell_type": "code",
   "execution_count": 13,
   "id": "934428f0",
   "metadata": {},
   "outputs": [
    {
     "data": {
      "text/plain": [
       "84"
      ]
     },
     "execution_count": 13,
     "metadata": {},
     "output_type": "execute_result"
    }
   ],
   "source": [
    "len(artist_list_3)"
   ]
  },
  {
   "cell_type": "code",
   "execution_count": 14,
   "id": "3aac6fc1",
   "metadata": {},
   "outputs": [],
   "source": [
    "uri_list3 = all_albums(artist_list_3)"
   ]
  },
  {
   "cell_type": "code",
   "execution_count": 15,
   "id": "31719a31",
   "metadata": {},
   "outputs": [
    {
     "data": {
      "text/plain": [
       "588"
      ]
     },
     "execution_count": 15,
     "metadata": {},
     "output_type": "execute_result"
    }
   ],
   "source": [
    "len(uri_list3)"
   ]
  },
  {
   "cell_type": "code",
   "execution_count": 15,
   "id": "78da3366",
   "metadata": {},
   "outputs": [],
   "source": [
    "artist3 = []\n",
    "song3 = []\n",
    "song_uri3 = []\n",
    "for uri in uri_list3:\n",
    "    result = sp.album_tracks(uri)['items']\n",
    "    for j in range(len(result)):\n",
    "        artist3.append(result[j]['artists'][0]['name'])\n",
    "        song3.append(result[j]['name'])\n",
    "        song_uri3.append(result[j]['uri'])"
   ]
  },
  {
   "cell_type": "code",
   "execution_count": 16,
   "id": "5865e191",
   "metadata": {},
   "outputs": [],
   "source": [
    "playlist3_info = pd.DataFrame({'song_uri':song_uri3, 'song':song3, 'artist':artist3})"
   ]
  },
  {
   "cell_type": "code",
   "execution_count": 17,
   "id": "36e39bcd",
   "metadata": {},
   "outputs": [
    {
     "name": "stdout",
     "output_type": "stream",
     "text": [
      "<class 'pandas.core.frame.DataFrame'>\n",
      "RangeIndex: 9914 entries, 0 to 9913\n",
      "Data columns (total 3 columns):\n",
      " #   Column    Non-Null Count  Dtype \n",
      "---  ------    --------------  ----- \n",
      " 0   song_uri  9914 non-null   object\n",
      " 1   song      9914 non-null   object\n",
      " 2   artist    9914 non-null   object\n",
      "dtypes: object(3)\n",
      "memory usage: 232.5+ KB\n"
     ]
    }
   ],
   "source": [
    "playlist3_info.info()"
   ]
  },
  {
   "cell_type": "code",
   "execution_count": 18,
   "id": "61eb8004",
   "metadata": {},
   "outputs": [],
   "source": [
    "playlist3_info_clean = playlist3_info.drop_duplicates(subset = ['song','artist'], keep = 'first')"
   ]
  },
  {
   "cell_type": "code",
   "execution_count": 19,
   "id": "26224df3",
   "metadata": {},
   "outputs": [
    {
     "name": "stdout",
     "output_type": "stream",
     "text": [
      "<class 'pandas.core.frame.DataFrame'>\n",
      "Int64Index: 7053 entries, 0 to 9913\n",
      "Data columns (total 3 columns):\n",
      " #   Column    Non-Null Count  Dtype \n",
      "---  ------    --------------  ----- \n",
      " 0   song_uri  7053 non-null   object\n",
      " 1   song      7053 non-null   object\n",
      " 2   artist    7053 non-null   object\n",
      "dtypes: object(3)\n",
      "memory usage: 220.4+ KB\n"
     ]
    }
   ],
   "source": [
    "playlist3_info_clean.info()"
   ]
  },
  {
   "cell_type": "code",
   "execution_count": 20,
   "id": "685a61de",
   "metadata": {},
   "outputs": [],
   "source": [
    "playlist3_info_clean.reset_index(drop=True, inplace=True)"
   ]
  },
  {
   "cell_type": "code",
   "execution_count": 21,
   "id": "7d33050f",
   "metadata": {},
   "outputs": [
    {
     "name": "stdout",
     "output_type": "stream",
     "text": [
      "<class 'pandas.core.frame.DataFrame'>\n",
      "RangeIndex: 7053 entries, 0 to 7052\n",
      "Data columns (total 3 columns):\n",
      " #   Column    Non-Null Count  Dtype \n",
      "---  ------    --------------  ----- \n",
      " 0   song_uri  7053 non-null   object\n",
      " 1   song      7053 non-null   object\n",
      " 2   artist    7053 non-null   object\n",
      "dtypes: object(3)\n",
      "memory usage: 165.4+ KB\n"
     ]
    }
   ],
   "source": [
    "playlist3_info_clean.info()"
   ]
  },
  {
   "cell_type": "code",
   "execution_count": 22,
   "id": "eb2cd780",
   "metadata": {},
   "outputs": [],
   "source": [
    "playlist3_info_clean.to_csv('playlist3.csv')"
   ]
  },
  {
   "cell_type": "code",
   "execution_count": 23,
   "id": "620cbf6a",
   "metadata": {},
   "outputs": [],
   "source": [
    "song_uri3 = list(playlist3_info_clean['song_uri'])"
   ]
  },
  {
   "cell_type": "code",
   "execution_count": 24,
   "id": "6a40cb3c",
   "metadata": {},
   "outputs": [
    {
     "data": {
      "text/plain": [
       "7053"
      ]
     },
     "execution_count": 24,
     "metadata": {},
     "output_type": "execute_result"
    }
   ],
   "source": [
    "len(song_uri3)"
   ]
  },
  {
   "cell_type": "code",
   "execution_count": null,
   "id": "2f2337ac",
   "metadata": {},
   "outputs": [],
   "source": []
  },
  {
   "cell_type": "code",
   "execution_count": 55,
   "id": "eb0a7c97",
   "metadata": {},
   "outputs": [],
   "source": [
    "audio_feat_df3 = pd.DataFrame()"
   ]
  },
  {
   "cell_type": "code",
   "execution_count": 56,
   "id": "5b255c9b",
   "metadata": {},
   "outputs": [
    {
     "data": {
      "text/html": [
       "<div>\n",
       "<style scoped>\n",
       "    .dataframe tbody tr th:only-of-type {\n",
       "        vertical-align: middle;\n",
       "    }\n",
       "\n",
       "    .dataframe tbody tr th {\n",
       "        vertical-align: top;\n",
       "    }\n",
       "\n",
       "    .dataframe thead th {\n",
       "        text-align: right;\n",
       "    }\n",
       "</style>\n",
       "<table border=\"1\" class=\"dataframe\">\n",
       "  <thead>\n",
       "    <tr style=\"text-align: right;\">\n",
       "      <th></th>\n",
       "    </tr>\n",
       "  </thead>\n",
       "  <tbody>\n",
       "  </tbody>\n",
       "</table>\n",
       "</div>"
      ],
      "text/plain": [
       "Empty DataFrame\n",
       "Columns: []\n",
       "Index: []"
      ]
     },
     "execution_count": 56,
     "metadata": {},
     "output_type": "execute_result"
    }
   ],
   "source": [
    "audio_feat_df3"
   ]
  },
  {
   "cell_type": "code",
   "execution_count": 87,
   "id": "ea0e7d05",
   "metadata": {},
   "outputs": [],
   "source": [
    "audio_feat_df3 = pd.concat([audio_feat_df3, pd.DataFrame(sp.audio_features(tracks = song_uri3[407:408]))])"
   ]
  },
  {
   "cell_type": "code",
   "execution_count": 88,
   "id": "cee80716",
   "metadata": {},
   "outputs": [
    {
     "data": {
      "text/html": [
       "<div>\n",
       "<style scoped>\n",
       "    .dataframe tbody tr th:only-of-type {\n",
       "        vertical-align: middle;\n",
       "    }\n",
       "\n",
       "    .dataframe tbody tr th {\n",
       "        vertical-align: top;\n",
       "    }\n",
       "\n",
       "    .dataframe thead th {\n",
       "        text-align: right;\n",
       "    }\n",
       "</style>\n",
       "<table border=\"1\" class=\"dataframe\">\n",
       "  <thead>\n",
       "    <tr style=\"text-align: right;\">\n",
       "      <th></th>\n",
       "      <th>0</th>\n",
       "      <th>acousticness</th>\n",
       "      <th>analysis_url</th>\n",
       "      <th>danceability</th>\n",
       "      <th>duration_ms</th>\n",
       "      <th>energy</th>\n",
       "      <th>id</th>\n",
       "      <th>instrumentalness</th>\n",
       "      <th>key</th>\n",
       "      <th>liveness</th>\n",
       "      <th>loudness</th>\n",
       "      <th>mode</th>\n",
       "      <th>speechiness</th>\n",
       "      <th>tempo</th>\n",
       "      <th>time_signature</th>\n",
       "      <th>track_href</th>\n",
       "      <th>type</th>\n",
       "      <th>uri</th>\n",
       "      <th>valence</th>\n",
       "    </tr>\n",
       "  </thead>\n",
       "  <tbody>\n",
       "    <tr>\n",
       "      <th>0</th>\n",
       "      <td>NaN</td>\n",
       "      <td>0.0895</td>\n",
       "      <td>https://api.spotify.com/v1/audio-analysis/102U...</td>\n",
       "      <td>0.509</td>\n",
       "      <td>335627.0</td>\n",
       "      <td>0.269</td>\n",
       "      <td>102URDQhMTSimVByjpTRpL</td>\n",
       "      <td>0.00168</td>\n",
       "      <td>0.0</td>\n",
       "      <td>0.0787</td>\n",
       "      <td>-10.420</td>\n",
       "      <td>1.0</td>\n",
       "      <td>0.0490</td>\n",
       "      <td>135.786</td>\n",
       "      <td>4.0</td>\n",
       "      <td>https://api.spotify.com/v1/tracks/102URDQhMTSi...</td>\n",
       "      <td>audio_features</td>\n",
       "      <td>spotify:track:102URDQhMTSimVByjpTRpL</td>\n",
       "      <td>0.341</td>\n",
       "    </tr>\n",
       "    <tr>\n",
       "      <th>1</th>\n",
       "      <td>NaN</td>\n",
       "      <td>0.4560</td>\n",
       "      <td>https://api.spotify.com/v1/audio-analysis/7ycu...</td>\n",
       "      <td>0.755</td>\n",
       "      <td>112133.0</td>\n",
       "      <td>0.266</td>\n",
       "      <td>7ycuU1aOKJy97VNFkKUSK5</td>\n",
       "      <td>0.00323</td>\n",
       "      <td>1.0</td>\n",
       "      <td>0.3120</td>\n",
       "      <td>-11.942</td>\n",
       "      <td>0.0</td>\n",
       "      <td>0.0526</td>\n",
       "      <td>83.691</td>\n",
       "      <td>4.0</td>\n",
       "      <td>https://api.spotify.com/v1/tracks/7ycuU1aOKJy9...</td>\n",
       "      <td>audio_features</td>\n",
       "      <td>spotify:track:7ycuU1aOKJy97VNFkKUSK5</td>\n",
       "      <td>0.663</td>\n",
       "    </tr>\n",
       "    <tr>\n",
       "      <th>2</th>\n",
       "      <td>NaN</td>\n",
       "      <td>0.0164</td>\n",
       "      <td>https://api.spotify.com/v1/audio-analysis/3n5B...</td>\n",
       "      <td>0.687</td>\n",
       "      <td>217880.0</td>\n",
       "      <td>0.716</td>\n",
       "      <td>3n5B0ieaUxw5ulnhXDDA9l</td>\n",
       "      <td>0.00281</td>\n",
       "      <td>7.0</td>\n",
       "      <td>0.2160</td>\n",
       "      <td>-9.799</td>\n",
       "      <td>1.0</td>\n",
       "      <td>0.2370</td>\n",
       "      <td>90.500</td>\n",
       "      <td>4.0</td>\n",
       "      <td>https://api.spotify.com/v1/tracks/3n5B0ieaUxw5...</td>\n",
       "      <td>audio_features</td>\n",
       "      <td>spotify:track:3n5B0ieaUxw5ulnhXDDA9l</td>\n",
       "      <td>0.569</td>\n",
       "    </tr>\n",
       "    <tr>\n",
       "      <th>3</th>\n",
       "      <td>NaN</td>\n",
       "      <td>0.7770</td>\n",
       "      <td>https://api.spotify.com/v1/audio-analysis/2eZr...</td>\n",
       "      <td>0.529</td>\n",
       "      <td>227893.0</td>\n",
       "      <td>0.314</td>\n",
       "      <td>2eZr2TgcIXmPz4IX6QGxeR</td>\n",
       "      <td>0.00000</td>\n",
       "      <td>7.0</td>\n",
       "      <td>0.1130</td>\n",
       "      <td>-12.821</td>\n",
       "      <td>1.0</td>\n",
       "      <td>0.0364</td>\n",
       "      <td>106.585</td>\n",
       "      <td>4.0</td>\n",
       "      <td>https://api.spotify.com/v1/tracks/2eZr2TgcIXmP...</td>\n",
       "      <td>audio_features</td>\n",
       "      <td>spotify:track:2eZr2TgcIXmPz4IX6QGxeR</td>\n",
       "      <td>0.192</td>\n",
       "    </tr>\n",
       "    <tr>\n",
       "      <th>4</th>\n",
       "      <td>NaN</td>\n",
       "      <td>0.8440</td>\n",
       "      <td>https://api.spotify.com/v1/audio-analysis/706P...</td>\n",
       "      <td>0.651</td>\n",
       "      <td>172227.0</td>\n",
       "      <td>0.230</td>\n",
       "      <td>706PbhdcHazGR0sj8QMBuH</td>\n",
       "      <td>0.00002</td>\n",
       "      <td>2.0</td>\n",
       "      <td>0.1020</td>\n",
       "      <td>-10.001</td>\n",
       "      <td>1.0</td>\n",
       "      <td>0.0299</td>\n",
       "      <td>57.776</td>\n",
       "      <td>4.0</td>\n",
       "      <td>https://api.spotify.com/v1/tracks/706PbhdcHazG...</td>\n",
       "      <td>audio_features</td>\n",
       "      <td>spotify:track:706PbhdcHazGR0sj8QMBuH</td>\n",
       "      <td>0.277</td>\n",
       "    </tr>\n",
       "    <tr>\n",
       "      <th>...</th>\n",
       "      <td>...</td>\n",
       "      <td>...</td>\n",
       "      <td>...</td>\n",
       "      <td>...</td>\n",
       "      <td>...</td>\n",
       "      <td>...</td>\n",
       "      <td>...</td>\n",
       "      <td>...</td>\n",
       "      <td>...</td>\n",
       "      <td>...</td>\n",
       "      <td>...</td>\n",
       "      <td>...</td>\n",
       "      <td>...</td>\n",
       "      <td>...</td>\n",
       "      <td>...</td>\n",
       "      <td>...</td>\n",
       "      <td>...</td>\n",
       "      <td>...</td>\n",
       "      <td>...</td>\n",
       "    </tr>\n",
       "    <tr>\n",
       "      <th>1</th>\n",
       "      <td>{'danceability': 0.274, 'energy': 0.176, 'key'...</td>\n",
       "      <td>NaN</td>\n",
       "      <td>NaN</td>\n",
       "      <td>NaN</td>\n",
       "      <td>NaN</td>\n",
       "      <td>NaN</td>\n",
       "      <td>NaN</td>\n",
       "      <td>NaN</td>\n",
       "      <td>NaN</td>\n",
       "      <td>NaN</td>\n",
       "      <td>NaN</td>\n",
       "      <td>NaN</td>\n",
       "      <td>NaN</td>\n",
       "      <td>NaN</td>\n",
       "      <td>NaN</td>\n",
       "      <td>NaN</td>\n",
       "      <td>NaN</td>\n",
       "      <td>NaN</td>\n",
       "      <td>NaN</td>\n",
       "    </tr>\n",
       "    <tr>\n",
       "      <th>2</th>\n",
       "      <td>{'danceability': 0.639, 'energy': 0.17, 'key':...</td>\n",
       "      <td>NaN</td>\n",
       "      <td>NaN</td>\n",
       "      <td>NaN</td>\n",
       "      <td>NaN</td>\n",
       "      <td>NaN</td>\n",
       "      <td>NaN</td>\n",
       "      <td>NaN</td>\n",
       "      <td>NaN</td>\n",
       "      <td>NaN</td>\n",
       "      <td>NaN</td>\n",
       "      <td>NaN</td>\n",
       "      <td>NaN</td>\n",
       "      <td>NaN</td>\n",
       "      <td>NaN</td>\n",
       "      <td>NaN</td>\n",
       "      <td>NaN</td>\n",
       "      <td>NaN</td>\n",
       "      <td>NaN</td>\n",
       "    </tr>\n",
       "    <tr>\n",
       "      <th>3</th>\n",
       "      <td>{'danceability': 0.483, 'energy': 0.237, 'key'...</td>\n",
       "      <td>NaN</td>\n",
       "      <td>NaN</td>\n",
       "      <td>NaN</td>\n",
       "      <td>NaN</td>\n",
       "      <td>NaN</td>\n",
       "      <td>NaN</td>\n",
       "      <td>NaN</td>\n",
       "      <td>NaN</td>\n",
       "      <td>NaN</td>\n",
       "      <td>NaN</td>\n",
       "      <td>NaN</td>\n",
       "      <td>NaN</td>\n",
       "      <td>NaN</td>\n",
       "      <td>NaN</td>\n",
       "      <td>NaN</td>\n",
       "      <td>NaN</td>\n",
       "      <td>NaN</td>\n",
       "      <td>NaN</td>\n",
       "    </tr>\n",
       "    <tr>\n",
       "      <th>0</th>\n",
       "      <td>None</td>\n",
       "      <td>NaN</td>\n",
       "      <td>NaN</td>\n",
       "      <td>NaN</td>\n",
       "      <td>NaN</td>\n",
       "      <td>NaN</td>\n",
       "      <td>NaN</td>\n",
       "      <td>NaN</td>\n",
       "      <td>NaN</td>\n",
       "      <td>NaN</td>\n",
       "      <td>NaN</td>\n",
       "      <td>NaN</td>\n",
       "      <td>NaN</td>\n",
       "      <td>NaN</td>\n",
       "      <td>NaN</td>\n",
       "      <td>NaN</td>\n",
       "      <td>NaN</td>\n",
       "      <td>NaN</td>\n",
       "      <td>NaN</td>\n",
       "    </tr>\n",
       "    <tr>\n",
       "      <th>0</th>\n",
       "      <td>NaN</td>\n",
       "      <td>0.9290</td>\n",
       "      <td>https://api.spotify.com/v1/audio-analysis/5Q5e...</td>\n",
       "      <td>0.274</td>\n",
       "      <td>199627.0</td>\n",
       "      <td>0.176</td>\n",
       "      <td>5Q5eHeXyJiyxLMOy7wHohG</td>\n",
       "      <td>0.00000</td>\n",
       "      <td>0.0</td>\n",
       "      <td>0.1310</td>\n",
       "      <td>-12.441</td>\n",
       "      <td>1.0</td>\n",
       "      <td>0.0348</td>\n",
       "      <td>59.929</td>\n",
       "      <td>3.0</td>\n",
       "      <td>https://api.spotify.com/v1/tracks/5Q5eHeXyJiyx...</td>\n",
       "      <td>audio_features</td>\n",
       "      <td>spotify:track:5Q5eHeXyJiyxLMOy7wHohG</td>\n",
       "      <td>0.216</td>\n",
       "    </tr>\n",
       "  </tbody>\n",
       "</table>\n",
       "<p>413 rows × 19 columns</p>\n",
       "</div>"
      ],
      "text/plain": [
       "                                                    0  acousticness  \\\n",
       "0                                                 NaN        0.0895   \n",
       "1                                                 NaN        0.4560   \n",
       "2                                                 NaN        0.0164   \n",
       "3                                                 NaN        0.7770   \n",
       "4                                                 NaN        0.8440   \n",
       "..                                                ...           ...   \n",
       "1   {'danceability': 0.274, 'energy': 0.176, 'key'...           NaN   \n",
       "2   {'danceability': 0.639, 'energy': 0.17, 'key':...           NaN   \n",
       "3   {'danceability': 0.483, 'energy': 0.237, 'key'...           NaN   \n",
       "0                                                None           NaN   \n",
       "0                                                 NaN        0.9290   \n",
       "\n",
       "                                         analysis_url  danceability  \\\n",
       "0   https://api.spotify.com/v1/audio-analysis/102U...         0.509   \n",
       "1   https://api.spotify.com/v1/audio-analysis/7ycu...         0.755   \n",
       "2   https://api.spotify.com/v1/audio-analysis/3n5B...         0.687   \n",
       "3   https://api.spotify.com/v1/audio-analysis/2eZr...         0.529   \n",
       "4   https://api.spotify.com/v1/audio-analysis/706P...         0.651   \n",
       "..                                                ...           ...   \n",
       "1                                                 NaN           NaN   \n",
       "2                                                 NaN           NaN   \n",
       "3                                                 NaN           NaN   \n",
       "0                                                 NaN           NaN   \n",
       "0   https://api.spotify.com/v1/audio-analysis/5Q5e...         0.274   \n",
       "\n",
       "    duration_ms  energy                      id  instrumentalness  key  \\\n",
       "0      335627.0   0.269  102URDQhMTSimVByjpTRpL           0.00168  0.0   \n",
       "1      112133.0   0.266  7ycuU1aOKJy97VNFkKUSK5           0.00323  1.0   \n",
       "2      217880.0   0.716  3n5B0ieaUxw5ulnhXDDA9l           0.00281  7.0   \n",
       "3      227893.0   0.314  2eZr2TgcIXmPz4IX6QGxeR           0.00000  7.0   \n",
       "4      172227.0   0.230  706PbhdcHazGR0sj8QMBuH           0.00002  2.0   \n",
       "..          ...     ...                     ...               ...  ...   \n",
       "1           NaN     NaN                     NaN               NaN  NaN   \n",
       "2           NaN     NaN                     NaN               NaN  NaN   \n",
       "3           NaN     NaN                     NaN               NaN  NaN   \n",
       "0           NaN     NaN                     NaN               NaN  NaN   \n",
       "0      199627.0   0.176  5Q5eHeXyJiyxLMOy7wHohG           0.00000  0.0   \n",
       "\n",
       "    liveness  loudness  mode  speechiness    tempo  time_signature  \\\n",
       "0     0.0787   -10.420   1.0       0.0490  135.786             4.0   \n",
       "1     0.3120   -11.942   0.0       0.0526   83.691             4.0   \n",
       "2     0.2160    -9.799   1.0       0.2370   90.500             4.0   \n",
       "3     0.1130   -12.821   1.0       0.0364  106.585             4.0   \n",
       "4     0.1020   -10.001   1.0       0.0299   57.776             4.0   \n",
       "..       ...       ...   ...          ...      ...             ...   \n",
       "1        NaN       NaN   NaN          NaN      NaN             NaN   \n",
       "2        NaN       NaN   NaN          NaN      NaN             NaN   \n",
       "3        NaN       NaN   NaN          NaN      NaN             NaN   \n",
       "0        NaN       NaN   NaN          NaN      NaN             NaN   \n",
       "0     0.1310   -12.441   1.0       0.0348   59.929             3.0   \n",
       "\n",
       "                                           track_href            type  \\\n",
       "0   https://api.spotify.com/v1/tracks/102URDQhMTSi...  audio_features   \n",
       "1   https://api.spotify.com/v1/tracks/7ycuU1aOKJy9...  audio_features   \n",
       "2   https://api.spotify.com/v1/tracks/3n5B0ieaUxw5...  audio_features   \n",
       "3   https://api.spotify.com/v1/tracks/2eZr2TgcIXmP...  audio_features   \n",
       "4   https://api.spotify.com/v1/tracks/706PbhdcHazG...  audio_features   \n",
       "..                                                ...             ...   \n",
       "1                                                 NaN             NaN   \n",
       "2                                                 NaN             NaN   \n",
       "3                                                 NaN             NaN   \n",
       "0                                                 NaN             NaN   \n",
       "0   https://api.spotify.com/v1/tracks/5Q5eHeXyJiyx...  audio_features   \n",
       "\n",
       "                                     uri  valence  \n",
       "0   spotify:track:102URDQhMTSimVByjpTRpL    0.341  \n",
       "1   spotify:track:7ycuU1aOKJy97VNFkKUSK5    0.663  \n",
       "2   spotify:track:3n5B0ieaUxw5ulnhXDDA9l    0.569  \n",
       "3   spotify:track:2eZr2TgcIXmPz4IX6QGxeR    0.192  \n",
       "4   spotify:track:706PbhdcHazGR0sj8QMBuH    0.277  \n",
       "..                                   ...      ...  \n",
       "1                                    NaN      NaN  \n",
       "2                                    NaN      NaN  \n",
       "3                                    NaN      NaN  \n",
       "0                                    NaN      NaN  \n",
       "0   spotify:track:5Q5eHeXyJiyxLMOy7wHohG    0.216  \n",
       "\n",
       "[413 rows x 19 columns]"
      ]
     },
     "execution_count": 88,
     "metadata": {},
     "output_type": "execute_result"
    }
   ],
   "source": [
    "audio_feat_df3"
   ]
  },
  {
   "cell_type": "code",
   "execution_count": 53,
   "id": "b63b8059",
   "metadata": {},
   "outputs": [],
   "source": [
    "iterations=list(range(0,len(song_uri3),100))"
   ]
  },
  {
   "cell_type": "code",
   "execution_count": 89,
   "id": "db4ad23a",
   "metadata": {},
   "outputs": [],
   "source": [
    "iterations=list(range(0,len(song_uri3),100))\n",
    "audio_feat_df3 = pd.DataFrame()\n",
    "for i in iterations:\n",
    "    try:\n",
    "        audio_feat_df3 = pd.concat([audio_feat_df3, pd.DataFrame(sp.audio_features(tracks = song_uri3[i:i+100]))])\n",
    "    except:\n",
    "        audio_feat_df3 = pd.concat([audio_feat_df3, pd.DataFrame()])"
   ]
  },
  {
   "cell_type": "code",
   "execution_count": 90,
   "id": "2434c948",
   "metadata": {},
   "outputs": [],
   "source": [
    "audio_feat_df3.reset_index(drop=True, inplace=True)"
   ]
  },
  {
   "cell_type": "code",
   "execution_count": 93,
   "id": "54e4eb25",
   "metadata": {},
   "outputs": [
    {
     "name": "stdout",
     "output_type": "stream",
     "text": [
      "<class 'pandas.core.frame.DataFrame'>\n",
      "RangeIndex: 6753 entries, 0 to 6752\n",
      "Data columns (total 18 columns):\n",
      " #   Column            Non-Null Count  Dtype  \n",
      "---  ------            --------------  -----  \n",
      " 0   danceability      6753 non-null   float64\n",
      " 1   energy            6753 non-null   float64\n",
      " 2   key               6753 non-null   int64  \n",
      " 3   loudness          6753 non-null   float64\n",
      " 4   mode              6753 non-null   int64  \n",
      " 5   speechiness       6753 non-null   float64\n",
      " 6   acousticness      6753 non-null   float64\n",
      " 7   instrumentalness  6753 non-null   float64\n",
      " 8   liveness          6753 non-null   float64\n",
      " 9   valence           6753 non-null   float64\n",
      " 10  tempo             6753 non-null   float64\n",
      " 11  type              6753 non-null   object \n",
      " 12  id                6753 non-null   object \n",
      " 13  uri               6753 non-null   object \n",
      " 14  track_href        6753 non-null   object \n",
      " 15  analysis_url      6753 non-null   object \n",
      " 16  duration_ms       6753 non-null   int64  \n",
      " 17  time_signature    6753 non-null   int64  \n",
      "dtypes: float64(9), int64(4), object(5)\n",
      "memory usage: 949.8+ KB\n"
     ]
    }
   ],
   "source": [
    "audio_feat_df3.info()"
   ]
  },
  {
   "cell_type": "code",
   "execution_count": 92,
   "id": "bbf93eba",
   "metadata": {},
   "outputs": [],
   "source": [
    "audio_feat_df3.to_csv('playlist3_audio.csv')"
   ]
  },
  {
   "cell_type": "markdown",
   "id": "cfca915e",
   "metadata": {},
   "source": [
    "## 4th playlist"
   ]
  },
  {
   "cell_type": "code",
   "execution_count": 10,
   "id": "a71a1766",
   "metadata": {},
   "outputs": [],
   "source": [
    "playlist4 = get_playlist_tracks('Bilboard' ,'6UeSakyzhiEt4NB3UAd6NQ')"
   ]
  },
  {
   "cell_type": "code",
   "execution_count": 11,
   "id": "690e365f",
   "metadata": {},
   "outputs": [
    {
     "data": {
      "text/plain": [
       "117"
      ]
     },
     "execution_count": 11,
     "metadata": {},
     "output_type": "execute_result"
    }
   ],
   "source": [
    "len(playlist3)"
   ]
  },
  {
   "cell_type": "code",
   "execution_count": 12,
   "id": "897b9ac1",
   "metadata": {},
   "outputs": [],
   "source": [
    "artist_list_4 = getArtistIDs(playlist4)"
   ]
  },
  {
   "cell_type": "code",
   "execution_count": 14,
   "id": "c04e43e1",
   "metadata": {},
   "outputs": [
    {
     "data": {
      "text/plain": [
       "63"
      ]
     },
     "execution_count": 14,
     "metadata": {},
     "output_type": "execute_result"
    }
   ],
   "source": [
    "len(artist_list_4)"
   ]
  },
  {
   "cell_type": "code",
   "execution_count": 13,
   "id": "7b1d0f0d",
   "metadata": {},
   "outputs": [],
   "source": [
    "uri_list4 = all_albums(artist_list_4)"
   ]
  },
  {
   "cell_type": "code",
   "execution_count": 15,
   "id": "eb4253bd",
   "metadata": {},
   "outputs": [
    {
     "data": {
      "text/plain": [
       "437"
      ]
     },
     "execution_count": 15,
     "metadata": {},
     "output_type": "execute_result"
    }
   ],
   "source": [
    "len(uri_list4)"
   ]
  },
  {
   "cell_type": "code",
   "execution_count": 16,
   "id": "479b0a25",
   "metadata": {},
   "outputs": [],
   "source": [
    "artist4 = []\n",
    "song4 = []\n",
    "song_uri4 = []\n",
    "for uri in uri_list4:\n",
    "    result = sp.album_tracks(uri)['items']\n",
    "    for j in range(len(result)):\n",
    "        artist4.append(result[j]['artists'][0]['name'])\n",
    "        song4.append(result[j]['name'])\n",
    "        song_uri4.append(result[j]['uri'])"
   ]
  },
  {
   "cell_type": "code",
   "execution_count": 17,
   "id": "579dca3b",
   "metadata": {},
   "outputs": [],
   "source": [
    "playlist4_info = pd.DataFrame({'song_uri':song_uri4, 'song':song4, 'artist':artist4})"
   ]
  },
  {
   "cell_type": "code",
   "execution_count": 19,
   "id": "b683d2ed",
   "metadata": {},
   "outputs": [
    {
     "name": "stdout",
     "output_type": "stream",
     "text": [
      "<class 'pandas.core.frame.DataFrame'>\n",
      "RangeIndex: 5460 entries, 0 to 5459\n",
      "Data columns (total 3 columns):\n",
      " #   Column    Non-Null Count  Dtype \n",
      "---  ------    --------------  ----- \n",
      " 0   song_uri  5460 non-null   object\n",
      " 1   song      5460 non-null   object\n",
      " 2   artist    5460 non-null   object\n",
      "dtypes: object(3)\n",
      "memory usage: 128.1+ KB\n"
     ]
    }
   ],
   "source": [
    "playlist4_info.info()"
   ]
  },
  {
   "cell_type": "code",
   "execution_count": 21,
   "id": "c0b35aa0",
   "metadata": {},
   "outputs": [],
   "source": [
    "playlist4_info_clean = playlist4_info.drop_duplicates(subset = ['song','artist'], keep = 'first')"
   ]
  },
  {
   "cell_type": "code",
   "execution_count": 22,
   "id": "7b4a01df",
   "metadata": {},
   "outputs": [
    {
     "name": "stdout",
     "output_type": "stream",
     "text": [
      "<class 'pandas.core.frame.DataFrame'>\n",
      "Int64Index: 3399 entries, 0 to 5457\n",
      "Data columns (total 3 columns):\n",
      " #   Column    Non-Null Count  Dtype \n",
      "---  ------    --------------  ----- \n",
      " 0   song_uri  3399 non-null   object\n",
      " 1   song      3399 non-null   object\n",
      " 2   artist    3399 non-null   object\n",
      "dtypes: object(3)\n",
      "memory usage: 106.2+ KB\n"
     ]
    }
   ],
   "source": [
    "playlist4_info_clean.info()"
   ]
  },
  {
   "cell_type": "code",
   "execution_count": 24,
   "id": "d27dc2d4",
   "metadata": {},
   "outputs": [],
   "source": [
    "playlist4_info_clean.reset_index(drop=True, inplace=True)"
   ]
  },
  {
   "cell_type": "code",
   "execution_count": 26,
   "id": "393d45f4",
   "metadata": {},
   "outputs": [
    {
     "name": "stdout",
     "output_type": "stream",
     "text": [
      "<class 'pandas.core.frame.DataFrame'>\n",
      "RangeIndex: 3399 entries, 0 to 3398\n",
      "Data columns (total 3 columns):\n",
      " #   Column    Non-Null Count  Dtype \n",
      "---  ------    --------------  ----- \n",
      " 0   song_uri  3399 non-null   object\n",
      " 1   song      3399 non-null   object\n",
      " 2   artist    3399 non-null   object\n",
      "dtypes: object(3)\n",
      "memory usage: 79.8+ KB\n"
     ]
    }
   ],
   "source": [
    "playlist4_info_clean.info()"
   ]
  },
  {
   "cell_type": "code",
   "execution_count": 27,
   "id": "50267b96",
   "metadata": {},
   "outputs": [],
   "source": [
    "playlist4_info_clean.to_csv('playlist4.csv')"
   ]
  },
  {
   "cell_type": "code",
   "execution_count": 28,
   "id": "ad5ac101",
   "metadata": {},
   "outputs": [],
   "source": [
    "song_uri4 = list(playlist4_info_clean['song_uri'])"
   ]
  },
  {
   "cell_type": "code",
   "execution_count": 31,
   "id": "add033f1",
   "metadata": {},
   "outputs": [],
   "source": [
    "iterations=list(range(0,len(song_uri4),100))"
   ]
  },
  {
   "cell_type": "code",
   "execution_count": 32,
   "id": "3eecb7cf",
   "metadata": {},
   "outputs": [],
   "source": [
    "audio_feat_df4 = pd.DataFrame()\n",
    "for i in iterations:\n",
    "    try:\n",
    "        audio_feat_df4 = pd.concat([audio_feat_df4, pd.DataFrame(sp.audio_features(tracks = song_uri4[i:i+100]))])\n",
    "    except:\n",
    "        audio_feat_df4 = pd.concat([audio_feat_df4, pd.DataFrame()])"
   ]
  },
  {
   "cell_type": "code",
   "execution_count": 33,
   "id": "920118d6",
   "metadata": {},
   "outputs": [],
   "source": [
    "audio_feat_df4.reset_index(drop=True, inplace=True)"
   ]
  },
  {
   "cell_type": "code",
   "execution_count": 34,
   "id": "964e5157",
   "metadata": {},
   "outputs": [
    {
     "name": "stdout",
     "output_type": "stream",
     "text": [
      "<class 'pandas.core.frame.DataFrame'>\n",
      "RangeIndex: 3399 entries, 0 to 3398\n",
      "Data columns (total 18 columns):\n",
      " #   Column            Non-Null Count  Dtype  \n",
      "---  ------            --------------  -----  \n",
      " 0   danceability      3399 non-null   float64\n",
      " 1   energy            3399 non-null   float64\n",
      " 2   key               3399 non-null   int64  \n",
      " 3   loudness          3399 non-null   float64\n",
      " 4   mode              3399 non-null   int64  \n",
      " 5   speechiness       3399 non-null   float64\n",
      " 6   acousticness      3399 non-null   float64\n",
      " 7   instrumentalness  3399 non-null   float64\n",
      " 8   liveness          3399 non-null   float64\n",
      " 9   valence           3399 non-null   float64\n",
      " 10  tempo             3399 non-null   float64\n",
      " 11  type              3399 non-null   object \n",
      " 12  id                3399 non-null   object \n",
      " 13  uri               3399 non-null   object \n",
      " 14  track_href        3399 non-null   object \n",
      " 15  analysis_url      3399 non-null   object \n",
      " 16  duration_ms       3399 non-null   int64  \n",
      " 17  time_signature    3399 non-null   int64  \n",
      "dtypes: float64(9), int64(4), object(5)\n",
      "memory usage: 478.1+ KB\n"
     ]
    }
   ],
   "source": [
    "audio_feat_df4.info()"
   ]
  },
  {
   "cell_type": "code",
   "execution_count": 35,
   "id": "afd7ba70",
   "metadata": {},
   "outputs": [],
   "source": [
    "audio_feat_df4.to_csv('playlist4_audio.csv')"
   ]
  },
  {
   "cell_type": "code",
   "execution_count": null,
   "id": "9ad6399b",
   "metadata": {},
   "outputs": [],
   "source": []
  }
 ],
 "metadata": {
  "kernelspec": {
   "display_name": "Python 3 (ipykernel)",
   "language": "python",
   "name": "python3"
  },
  "language_info": {
   "codemirror_mode": {
    "name": "ipython",
    "version": 3
   },
   "file_extension": ".py",
   "mimetype": "text/x-python",
   "name": "python",
   "nbconvert_exporter": "python",
   "pygments_lexer": "ipython3",
   "version": "3.9.7"
  },
  "toc": {
   "base_numbering": 1,
   "nav_menu": {},
   "number_sections": true,
   "sideBar": true,
   "skip_h1_title": false,
   "title_cell": "Table of Contents",
   "title_sidebar": "Contents",
   "toc_cell": false,
   "toc_position": {
    "height": "calc(100% - 180px)",
    "left": "10px",
    "top": "150px",
    "width": "204px"
   },
   "toc_section_display": true,
   "toc_window_display": true
  }
 },
 "nbformat": 4,
 "nbformat_minor": 5
}
