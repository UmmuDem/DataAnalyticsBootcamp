{
 "cells": [
  {
   "cell_type": "markdown",
   "id": "1fc27c17",
   "metadata": {},
   "source": [
    "# Scrapping the Billboard for 100 hot songs"
   ]
  },
  {
   "cell_type": "markdown",
   "id": "7e769190",
   "metadata": {},
   "source": [
    "Billboard maintains a weekly Top 100 of \"hot\" songs here: https://www.billboard.com/charts/hot-100.\n",
    "\n",
    "Scrape the current top 100 songs and their respective artists, and put the information into a pandas dataframe."
   ]
  },
  {
   "cell_type": "code",
   "execution_count": 1,
   "id": "50231587",
   "metadata": {},
   "outputs": [],
   "source": [
    "from bs4 import BeautifulSoup\n",
    "import re\n",
    "import requests\n",
    "import pandas as pd"
   ]
  },
  {
   "cell_type": "code",
   "execution_count": 2,
   "id": "4ab42d0a",
   "metadata": {},
   "outputs": [],
   "source": [
    "url = \"https://www.billboard.com/charts/hot-100\"\n",
    "\n",
    "response = requests.get(url)"
   ]
  },
  {
   "cell_type": "code",
   "execution_count": 3,
   "id": "0ae5258e",
   "metadata": {},
   "outputs": [
    {
     "data": {
      "text/plain": [
       "200"
      ]
     },
     "execution_count": 3,
     "metadata": {},
     "output_type": "execute_result"
    }
   ],
   "source": [
    "#check response status code \n",
    "response.status_code"
   ]
  },
  {
   "cell_type": "code",
   "execution_count": 4,
   "id": "4d936638",
   "metadata": {},
   "outputs": [],
   "source": [
    "#parse and store the contents of the url call\n",
    "soup = BeautifulSoup(response.content,'html.parser')"
   ]
  },
  {
   "cell_type": "code",
   "execution_count": 5,
   "id": "a2423181",
   "metadata": {},
   "outputs": [],
   "source": [
    "#prettify the soup \n",
    "# soup.prettify()"
   ]
  },
  {
   "cell_type": "markdown",
   "id": "bef61f3e",
   "metadata": {},
   "source": [
    "# Query the soup to get songs and their respective artists"
   ]
  },
  {
   "cell_type": "code",
   "execution_count": 6,
   "id": "00f9a2e9",
   "metadata": {},
   "outputs": [
    {
     "data": {
      "text/plain": [
       "'\\nEasy On Me\\n'"
      ]
     },
     "execution_count": 6,
     "metadata": {},
     "output_type": "execute_result"
    }
   ],
   "source": [
    "# get song title\n",
    "soup.select('h3.c-title.a-no-trucate')[0].text"
   ]
  },
  {
   "cell_type": "code",
   "execution_count": 7,
   "id": "9f6c3f61",
   "metadata": {},
   "outputs": [
    {
     "data": {
      "text/plain": [
       "'\\nAdele\\n'"
      ]
     },
     "execution_count": 7,
     "metadata": {},
     "output_type": "execute_result"
    }
   ],
   "source": [
    "soup.select('span.c-label.a-font-primary-s')[0].text"
   ]
  },
  {
   "cell_type": "markdown",
   "id": "a4976a94",
   "metadata": {},
   "source": [
    "# Creating a dataframe from scraped data"
   ]
  },
  {
   "cell_type": "code",
   "execution_count": 8,
   "id": "88da5378",
   "metadata": {},
   "outputs": [],
   "source": [
    "song_title = []\n",
    "artist = []\n",
    "\n",
    "len_movies = len(soup.select('h3.c-title.a-no-trucate'))"
   ]
  },
  {
   "cell_type": "code",
   "execution_count": 9,
   "id": "ab549058",
   "metadata": {},
   "outputs": [
    {
     "data": {
      "text/plain": [
       "100"
      ]
     },
     "execution_count": 9,
     "metadata": {},
     "output_type": "execute_result"
    }
   ],
   "source": [
    "len_movies"
   ]
  },
  {
   "cell_type": "code",
   "execution_count": 10,
   "id": "617e2a3b",
   "metadata": {},
   "outputs": [],
   "source": [
    "for i in range(len_movies):\n",
    "    song_title.append(soup.select('h3.c-title.a-no-trucate')[i].text)\n",
    "    artist.append(soup.select('span.c-label.a-font-primary-s')[i].text)"
   ]
  },
  {
   "cell_type": "code",
   "execution_count": 11,
   "id": "476243b5",
   "metadata": {},
   "outputs": [],
   "source": [
    "hot_songs = pd.DataFrame({'song_title':song_title,'artist':artist})"
   ]
  },
  {
   "cell_type": "code",
   "execution_count": 12,
   "id": "9744a5d3",
   "metadata": {},
   "outputs": [
    {
     "data": {
      "text/html": [
       "<div>\n",
       "<style scoped>\n",
       "    .dataframe tbody tr th:only-of-type {\n",
       "        vertical-align: middle;\n",
       "    }\n",
       "\n",
       "    .dataframe tbody tr th {\n",
       "        vertical-align: top;\n",
       "    }\n",
       "\n",
       "    .dataframe thead th {\n",
       "        text-align: right;\n",
       "    }\n",
       "</style>\n",
       "<table border=\"1\" class=\"dataframe\">\n",
       "  <thead>\n",
       "    <tr style=\"text-align: right;\">\n",
       "      <th></th>\n",
       "      <th>song_title</th>\n",
       "      <th>artist</th>\n",
       "    </tr>\n",
       "  </thead>\n",
       "  <tbody>\n",
       "    <tr>\n",
       "      <th>0</th>\n",
       "      <td>\\nEasy On Me\\n</td>\n",
       "      <td>\\nAdele\\n</td>\n",
       "    </tr>\n",
       "    <tr>\n",
       "      <th>1</th>\n",
       "      <td>\\nStay\\n</td>\n",
       "      <td>\\nThe Kid LAROI &amp; Justin Bieber\\n</td>\n",
       "    </tr>\n",
       "    <tr>\n",
       "      <th>2</th>\n",
       "      <td>\\nIndustry Baby\\n</td>\n",
       "      <td>\\nLil Nas X &amp; Jack Harlow\\n</td>\n",
       "    </tr>\n",
       "    <tr>\n",
       "      <th>3</th>\n",
       "      <td>\\nAll Too Well (Taylor's Version)\\n</td>\n",
       "      <td>\\nTaylor Swift\\n</td>\n",
       "    </tr>\n",
       "    <tr>\n",
       "      <th>4</th>\n",
       "      <td>\\nOh My God\\n</td>\n",
       "      <td>\\nAdele\\n</td>\n",
       "    </tr>\n",
       "  </tbody>\n",
       "</table>\n",
       "</div>"
      ],
      "text/plain": [
       "                            song_title                             artist\n",
       "0                       \\nEasy On Me\\n                          \\nAdele\\n\n",
       "1                             \\nStay\\n  \\nThe Kid LAROI & Justin Bieber\\n\n",
       "2                    \\nIndustry Baby\\n        \\nLil Nas X & Jack Harlow\\n\n",
       "3  \\nAll Too Well (Taylor's Version)\\n                   \\nTaylor Swift\\n\n",
       "4                        \\nOh My God\\n                          \\nAdele\\n"
      ]
     },
     "execution_count": 12,
     "metadata": {},
     "output_type": "execute_result"
    }
   ],
   "source": [
    "hot_songs.head()"
   ]
  },
  {
   "cell_type": "markdown",
   "id": "a5a8ebd8",
   "metadata": {},
   "source": [
    "# Cleaning / Wrangling steps for the scraped data "
   ]
  },
  {
   "cell_type": "code",
   "execution_count": 13,
   "id": "c2b1bbc5",
   "metadata": {},
   "outputs": [],
   "source": [
    "hot_songs['song_title'] = hot_songs['song_title'].str.replace('\\n','')\n",
    "hot_songs['artist'] = hot_songs['artist'].str.replace('\\n','')"
   ]
  },
  {
   "cell_type": "code",
   "execution_count": 14,
   "id": "d6319e80",
   "metadata": {},
   "outputs": [
    {
     "data": {
      "text/html": [
       "<div>\n",
       "<style scoped>\n",
       "    .dataframe tbody tr th:only-of-type {\n",
       "        vertical-align: middle;\n",
       "    }\n",
       "\n",
       "    .dataframe tbody tr th {\n",
       "        vertical-align: top;\n",
       "    }\n",
       "\n",
       "    .dataframe thead th {\n",
       "        text-align: right;\n",
       "    }\n",
       "</style>\n",
       "<table border=\"1\" class=\"dataframe\">\n",
       "  <thead>\n",
       "    <tr style=\"text-align: right;\">\n",
       "      <th></th>\n",
       "      <th>song_title</th>\n",
       "      <th>artist</th>\n",
       "    </tr>\n",
       "  </thead>\n",
       "  <tbody>\n",
       "    <tr>\n",
       "      <th>0</th>\n",
       "      <td>Easy On Me</td>\n",
       "      <td>Adele</td>\n",
       "    </tr>\n",
       "    <tr>\n",
       "      <th>1</th>\n",
       "      <td>Stay</td>\n",
       "      <td>The Kid LAROI &amp; Justin Bieber</td>\n",
       "    </tr>\n",
       "    <tr>\n",
       "      <th>2</th>\n",
       "      <td>Industry Baby</td>\n",
       "      <td>Lil Nas X &amp; Jack Harlow</td>\n",
       "    </tr>\n",
       "    <tr>\n",
       "      <th>3</th>\n",
       "      <td>All Too Well (Taylor's Version)</td>\n",
       "      <td>Taylor Swift</td>\n",
       "    </tr>\n",
       "    <tr>\n",
       "      <th>4</th>\n",
       "      <td>Oh My God</td>\n",
       "      <td>Adele</td>\n",
       "    </tr>\n",
       "  </tbody>\n",
       "</table>\n",
       "</div>"
      ],
      "text/plain": [
       "                        song_title                         artist\n",
       "0                       Easy On Me                          Adele\n",
       "1                             Stay  The Kid LAROI & Justin Bieber\n",
       "2                    Industry Baby        Lil Nas X & Jack Harlow\n",
       "3  All Too Well (Taylor's Version)                   Taylor Swift\n",
       "4                        Oh My God                          Adele"
      ]
     },
     "execution_count": 14,
     "metadata": {},
     "output_type": "execute_result"
    }
   ],
   "source": [
    "hot_songs.head()"
   ]
  },
  {
   "cell_type": "code",
   "execution_count": 15,
   "id": "fb931198",
   "metadata": {},
   "outputs": [],
   "source": [
    "from random import randint"
   ]
  },
  {
   "cell_type": "code",
   "execution_count": 73,
   "id": "d7c2ff65",
   "metadata": {},
   "outputs": [],
   "source": [
    "def matchingString(x,y):\n",
    "    match=''\n",
    "    for i in range(0,len(x)):\n",
    "        for j in range(0,len(y)):\n",
    "            k=1\n",
    "            # now applying while condition untill we find a substring match and length of substring is less than length of x and y\n",
    "            while (i+k <= len(x) and j+k <= len(y) and x[i:i+k]==y[j:j+k]):\n",
    "                if len(match) <= len(x[i:i+k]):\n",
    "                    match = x[i:i+k]\n",
    "                k=k+1\n",
    "    return match \n"
   ]
  },
  {
   "cell_type": "code",
   "execution_count": null,
   "id": "eb434785",
   "metadata": {},
   "outputs": [],
   "source": [
    "def recommender():\n",
    "    song = input('What is the name of your song? ')\n",
    "    common = {}\n",
    "\n",
    "    for j in range(len(hot_songs['song_title'])):\n",
    "        match = matchingString(song.lower(), hot_songs['song_title'][j].lower())\n",
    "        key = hot_songs['song_title'][j].lower()\n",
    "        common[key] = match \n",
    "        #print(max(len(match) for match in list(common.items())))\n",
    "        if len(match) == max(len(match) for match in list(common.values())):\n",
    "            guess = [k for k,v in common.items() if v == match]\n",
    "    #print(common)\n",
    "    #print(guess)\n",
    "    for i in range(len(guess)):\n",
    "        answer = input(\"Do you mean \" + guess[i].title()+ \" by \" + hot_songs['artist'][i] +  \"? \")\n",
    "        if answer.lower() == 'yes':\n",
    "            x = randint(1,100)\n",
    "            print(\"Nice! This is a hot song! You might also like \" + hot_songs['song_title'][x].title() + \" by \" + hot_songs['artist'][x])\n",
    "            break\n",
    "        elif answer.lower() == 'no':\n",
    "            i += 1\n",
    "            if i not in range(len(guess)):\n",
    "                print('Sorry then, not that hot one!') \n",
    "\n"
   ]
  },
  {
   "cell_type": "code",
   "execution_count": 130,
   "id": "39cfa8a4",
   "metadata": {},
   "outputs": [
    {
     "name": "stdout",
     "output_type": "stream",
     "text": [
      "What is the name of your song? eas\n",
      "Do you mean Easy On Me by Adele? no\n",
      "Do you mean Ex For A Reason by The Kid LAROI & Justin Bieber? no\n",
      "Do you mean Too Easy by Lil Nas X & Jack Harlow? yes\n",
      "Nice! This is a hot song! You might also like Cold As You by Luke Combs\n"
     ]
    }
   ],
   "source": [
    "recommender()"
   ]
  },
  {
   "cell_type": "code",
   "execution_count": 131,
   "id": "7a2e8abc",
   "metadata": {},
   "outputs": [
    {
     "name": "stdout",
     "output_type": "stream",
     "text": [
      "What is the name of your song? eas\n",
      "Do you mean Easy On Me by Adele? no\n",
      "Do you mean Ex For A Reason by The Kid LAROI & Justin Bieber? no\n",
      "Do you mean Too Easy by Lil Nas X & Jack Harlow? no\n",
      "Sorry then, not that hot one!\n"
     ]
    }
   ],
   "source": [
    "recommender()"
   ]
  },
  {
   "cell_type": "code",
   "execution_count": null,
   "id": "5d04f16e",
   "metadata": {},
   "outputs": [],
   "source": []
  },
  {
   "cell_type": "code",
   "execution_count": null,
   "id": "f3a593de",
   "metadata": {},
   "outputs": [],
   "source": []
  }
 ],
 "metadata": {
  "kernelspec": {
   "display_name": "Python 3 (ipykernel)",
   "language": "python",
   "name": "python3"
  },
  "language_info": {
   "codemirror_mode": {
    "name": "ipython",
    "version": 3
   },
   "file_extension": ".py",
   "mimetype": "text/x-python",
   "name": "python",
   "nbconvert_exporter": "python",
   "pygments_lexer": "ipython3",
   "version": "3.9.7"
  },
  "toc": {
   "base_numbering": 1,
   "nav_menu": {},
   "number_sections": true,
   "sideBar": true,
   "skip_h1_title": false,
   "title_cell": "Table of Contents",
   "title_sidebar": "Contents",
   "toc_cell": false,
   "toc_position": {},
   "toc_section_display": true,
   "toc_window_display": false
  }
 },
 "nbformat": 4,
 "nbformat_minor": 5
}
