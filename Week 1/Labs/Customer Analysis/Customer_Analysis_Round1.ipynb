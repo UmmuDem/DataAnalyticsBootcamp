{
 "cells": [
  {
   "cell_type": "markdown",
   "id": "48dc911a",
   "metadata": {
    "toc": true
   },
   "source": [
    "<h1>Table of Contents<span class=\"tocSkip\"></span></h1>\n",
    "<div class=\"toc\"><ul class=\"toc-item\"><li><span><a href=\"#Customer-Analysis-Round-1\" data-toc-modified-id=\"Customer-Analysis-Round-1-1\"><span class=\"toc-item-num\">1&nbsp;&nbsp;</span>Customer Analysis Round 1</a></span></li></ul></div>"
   ]
  },
  {
   "cell_type": "markdown",
   "id": "979ef7c8",
   "metadata": {},
   "source": [
    "## Customer Analysis Round 1"
   ]
  },
  {
   "cell_type": "code",
   "execution_count": 35,
   "id": "b2b0f9d8",
   "metadata": {},
   "outputs": [],
   "source": [
    "import numpy as np\n",
    "import pandas as pd"
   ]
  },
  {
   "cell_type": "code",
   "execution_count": 36,
   "id": "11376086",
   "metadata": {},
   "outputs": [
    {
     "name": "stdout",
     "output_type": "stream",
     "text": [
      "[Errno 2] No such file or directory: 'files_for_lab'\n",
      "/Users/ummuhandemir/Documents/GitHub/Customer-Analysis-Round-1/files_for_lab\n"
     ]
    }
   ],
   "source": [
    "cd files_for_lab"
   ]
  },
  {
   "cell_type": "code",
   "execution_count": 37,
   "id": "5b8b28af",
   "metadata": {},
   "outputs": [
    {
     "data": {
      "text/plain": [
       "(4008, 11)"
      ]
     },
     "execution_count": 37,
     "metadata": {},
     "output_type": "execute_result"
    }
   ],
   "source": [
    "file1 = pd.read_csv('csv_files/file1.csv')\n",
    "file1['Customer Lifetime Value']=file1['Customer Lifetime Value'].str.rstrip('%')\n",
    "file1.shape\n"
   ]
  },
  {
   "cell_type": "code",
   "execution_count": 38,
   "id": "df089711",
   "metadata": {},
   "outputs": [],
   "source": [
    "file2 = pd.read_csv('csv_files/file2.csv')\n",
    "file2.shape\n",
    "file2['Customer Lifetime Value']=file2['Customer Lifetime Value'].str.rstrip('%')"
   ]
  },
  {
   "cell_type": "code",
   "execution_count": 39,
   "id": "4f21e53c",
   "metadata": {},
   "outputs": [
    {
     "data": {
      "text/plain": [
       "(7070, 11)"
      ]
     },
     "execution_count": 39,
     "metadata": {},
     "output_type": "execute_result"
    }
   ],
   "source": [
    "file3 = pd.read_csv('csv_files/file3.csv')\n",
    "file3.shape"
   ]
  },
  {
   "cell_type": "code",
   "execution_count": 40,
   "id": "971ffed1",
   "metadata": {},
   "outputs": [],
   "source": [
    "file1.rename(columns={'ST':'state'}, inplace=True)\n",
    "columns1 = file1.columns\n",
    "cols1=[]\n",
    "for i in range(len(file1.columns)):\n",
    "    cols1.append(file1.columns[i].lower())\n",
    "#data.columns.lowercase()\n",
    "\n",
    "file1.columns = cols1\n",
    "#cols1"
   ]
  },
  {
   "cell_type": "code",
   "execution_count": 41,
   "id": "83725b31",
   "metadata": {},
   "outputs": [],
   "source": [
    "file2.rename(columns={'st':'state'}, inplace=True)\n",
    "columns2 = file2.columns\n",
    "cols2=[]\n",
    "for i in range(len(file2.columns)):\n",
    "    cols2.append(file2.columns[i].lower())\n",
    "#data.columns.lowercase()\n",
    "file2.columns = cols2\n",
    "#cols2"
   ]
  },
  {
   "cell_type": "code",
   "execution_count": 42,
   "id": "571a8b76",
   "metadata": {},
   "outputs": [],
   "source": [
    "columns3 = file3.columns\n",
    "cols3=[]\n",
    "for i in range(len(file3.columns)):\n",
    "    cols3.append(file3.columns[i].lower())\n",
    "#data.columns.lowercase()\n",
    "file3.columns = cols3\n",
    "#cols3"
   ]
  },
  {
   "cell_type": "code",
   "execution_count": 27,
   "id": "943a6807",
   "metadata": {},
   "outputs": [],
   "source": [
    "column_names = ['customer', 'gender','education','income','state','customer lifetime value', \n",
    "                'vehicle class', 'monthly premium auto', 'total claim amount',\n",
    "                'number of open complaints','policy type']"
   ]
  },
  {
   "cell_type": "code",
   "execution_count": 28,
   "id": "d95a719b",
   "metadata": {},
   "outputs": [],
   "source": [
    "file1_sorted = file1.reindex(columns=column_names)\n",
    "file2_sorted = file2.reindex(columns=column_names)\n",
    "file3_sorted = file3.reindex(columns=column_names)"
   ]
  },
  {
   "cell_type": "code",
   "execution_count": 29,
   "id": "3870d20c",
   "metadata": {},
   "outputs": [],
   "source": [
    "data = pd.DataFrame(columns=column_names)\n"
   ]
  },
  {
   "cell_type": "code",
   "execution_count": 30,
   "id": "09e0c9d7",
   "metadata": {},
   "outputs": [
    {
     "data": {
      "text/html": [
       "<div>\n",
       "<style scoped>\n",
       "    .dataframe tbody tr th:only-of-type {\n",
       "        vertical-align: middle;\n",
       "    }\n",
       "\n",
       "    .dataframe tbody tr th {\n",
       "        vertical-align: top;\n",
       "    }\n",
       "\n",
       "    .dataframe thead th {\n",
       "        text-align: right;\n",
       "    }\n",
       "</style>\n",
       "<table border=\"1\" class=\"dataframe\">\n",
       "  <thead>\n",
       "    <tr style=\"text-align: right;\">\n",
       "      <th></th>\n",
       "      <th>customer</th>\n",
       "      <th>gender</th>\n",
       "      <th>education</th>\n",
       "      <th>income</th>\n",
       "      <th>state</th>\n",
       "      <th>customer lifetime value</th>\n",
       "      <th>vehicle class</th>\n",
       "      <th>monthly premium auto</th>\n",
       "      <th>total claim amount</th>\n",
       "      <th>number of open complaints</th>\n",
       "      <th>policy type</th>\n",
       "    </tr>\n",
       "  </thead>\n",
       "  <tbody>\n",
       "    <tr>\n",
       "      <th>0</th>\n",
       "      <td>RB50392</td>\n",
       "      <td>NaN</td>\n",
       "      <td>Master</td>\n",
       "      <td>0.0</td>\n",
       "      <td>Washington</td>\n",
       "      <td>NaN</td>\n",
       "      <td>Four-Door Car</td>\n",
       "      <td>1000.0</td>\n",
       "      <td>2.704934</td>\n",
       "      <td>1/0/00</td>\n",
       "      <td>Personal Auto</td>\n",
       "    </tr>\n",
       "    <tr>\n",
       "      <th>1</th>\n",
       "      <td>QZ44356</td>\n",
       "      <td>F</td>\n",
       "      <td>Bachelor</td>\n",
       "      <td>0.0</td>\n",
       "      <td>Arizona</td>\n",
       "      <td>697953.59</td>\n",
       "      <td>Four-Door Car</td>\n",
       "      <td>94.0</td>\n",
       "      <td>1131.464935</td>\n",
       "      <td>1/0/00</td>\n",
       "      <td>Personal Auto</td>\n",
       "    </tr>\n",
       "    <tr>\n",
       "      <th>2</th>\n",
       "      <td>AI49188</td>\n",
       "      <td>F</td>\n",
       "      <td>Bachelor</td>\n",
       "      <td>48767.0</td>\n",
       "      <td>Nevada</td>\n",
       "      <td>1288743.17</td>\n",
       "      <td>Two-Door Car</td>\n",
       "      <td>108.0</td>\n",
       "      <td>566.472247</td>\n",
       "      <td>1/0/00</td>\n",
       "      <td>Personal Auto</td>\n",
       "    </tr>\n",
       "    <tr>\n",
       "      <th>3</th>\n",
       "      <td>WW63253</td>\n",
       "      <td>M</td>\n",
       "      <td>Bachelor</td>\n",
       "      <td>0.0</td>\n",
       "      <td>California</td>\n",
       "      <td>764586.18</td>\n",
       "      <td>SUV</td>\n",
       "      <td>106.0</td>\n",
       "      <td>529.881344</td>\n",
       "      <td>1/0/00</td>\n",
       "      <td>Corporate Auto</td>\n",
       "    </tr>\n",
       "    <tr>\n",
       "      <th>4</th>\n",
       "      <td>GA49547</td>\n",
       "      <td>M</td>\n",
       "      <td>High School or Below</td>\n",
       "      <td>36357.0</td>\n",
       "      <td>Washington</td>\n",
       "      <td>536307.65</td>\n",
       "      <td>Four-Door Car</td>\n",
       "      <td>68.0</td>\n",
       "      <td>17.269323</td>\n",
       "      <td>1/0/00</td>\n",
       "      <td>Personal Auto</td>\n",
       "    </tr>\n",
       "  </tbody>\n",
       "</table>\n",
       "</div>"
      ],
      "text/plain": [
       "  customer gender             education   income       state  \\\n",
       "0  RB50392    NaN                Master      0.0  Washington   \n",
       "1  QZ44356      F              Bachelor      0.0     Arizona   \n",
       "2  AI49188      F              Bachelor  48767.0      Nevada   \n",
       "3  WW63253      M              Bachelor      0.0  California   \n",
       "4  GA49547      M  High School or Below  36357.0  Washington   \n",
       "\n",
       "  customer lifetime value  vehicle class  monthly premium auto  \\\n",
       "0                     NaN  Four-Door Car                1000.0   \n",
       "1               697953.59  Four-Door Car                  94.0   \n",
       "2              1288743.17   Two-Door Car                 108.0   \n",
       "3               764586.18            SUV                 106.0   \n",
       "4               536307.65  Four-Door Car                  68.0   \n",
       "\n",
       "   total claim amount number of open complaints     policy type  \n",
       "0            2.704934                    1/0/00   Personal Auto  \n",
       "1         1131.464935                    1/0/00   Personal Auto  \n",
       "2          566.472247                    1/0/00   Personal Auto  \n",
       "3          529.881344                    1/0/00  Corporate Auto  \n",
       "4           17.269323                    1/0/00   Personal Auto  "
      ]
     },
     "execution_count": 30,
     "metadata": {},
     "output_type": "execute_result"
    }
   ],
   "source": [
    "data=pd.concat([data,file1_sorted,file2_sorted,file3_sorted],axis=0)\n",
    "data.reset_index(drop=True,inplace=True)\n",
    "data.head()"
   ]
  },
  {
   "cell_type": "code",
   "execution_count": 31,
   "id": "d9ab3d46",
   "metadata": {},
   "outputs": [],
   "source": [
    "data_dropped = data.drop(['education','number of open complaints'],axis=1)\n",
    "#data.info()\n"
   ]
  },
  {
   "cell_type": "code",
   "execution_count": 32,
   "id": "1090ef6c",
   "metadata": {},
   "outputs": [
    {
     "data": {
      "text/plain": [
       "0                 NaN\n",
       "1        6.979536e+05\n",
       "2        1.288743e+06\n",
       "3        7.645862e+05\n",
       "4        5.363077e+05\n",
       "             ...     \n",
       "12069    2.340599e+04\n",
       "12070    3.096511e+03\n",
       "12071    8.163890e+03\n",
       "12072    7.524442e+03\n",
       "12073    2.611837e+03\n",
       "Name: customer lifetime value, Length: 12074, dtype: float64"
      ]
     },
     "execution_count": 32,
     "metadata": {},
     "output_type": "execute_result"
    }
   ],
   "source": [
    "data['customer lifetime value'].astype('float',errors='ignore')"
   ]
  },
  {
   "cell_type": "code",
   "execution_count": 33,
   "id": "325bf950",
   "metadata": {},
   "outputs": [
    {
     "data": {
      "text/html": [
       "<div>\n",
       "<style scoped>\n",
       "    .dataframe tbody tr th:only-of-type {\n",
       "        vertical-align: middle;\n",
       "    }\n",
       "\n",
       "    .dataframe tbody tr th {\n",
       "        vertical-align: top;\n",
       "    }\n",
       "\n",
       "    .dataframe thead th {\n",
       "        text-align: right;\n",
       "    }\n",
       "</style>\n",
       "<table border=\"1\" class=\"dataframe\">\n",
       "  <thead>\n",
       "    <tr style=\"text-align: right;\">\n",
       "      <th></th>\n",
       "      <th>customer</th>\n",
       "      <th>gender</th>\n",
       "      <th>education</th>\n",
       "      <th>income</th>\n",
       "      <th>state</th>\n",
       "      <th>customer lifetime value</th>\n",
       "      <th>vehicle class</th>\n",
       "      <th>monthly premium auto</th>\n",
       "      <th>total claim amount</th>\n",
       "      <th>number of open complaints</th>\n",
       "      <th>policy type</th>\n",
       "    </tr>\n",
       "  </thead>\n",
       "  <tbody>\n",
       "    <tr>\n",
       "      <th>0</th>\n",
       "      <td>RB50392</td>\n",
       "      <td>NaN</td>\n",
       "      <td>Master</td>\n",
       "      <td>0.0</td>\n",
       "      <td>Washington</td>\n",
       "      <td>NaN</td>\n",
       "      <td>Four-Door Car</td>\n",
       "      <td>1000.0</td>\n",
       "      <td>2.704934</td>\n",
       "      <td>1/0/00</td>\n",
       "      <td>Personal Auto</td>\n",
       "    </tr>\n",
       "    <tr>\n",
       "      <th>1</th>\n",
       "      <td>QZ44356</td>\n",
       "      <td>F</td>\n",
       "      <td>Bachelor</td>\n",
       "      <td>0.0</td>\n",
       "      <td>Arizona</td>\n",
       "      <td>697953.59</td>\n",
       "      <td>Four-Door Car</td>\n",
       "      <td>94.0</td>\n",
       "      <td>1131.464935</td>\n",
       "      <td>1/0/00</td>\n",
       "      <td>Personal Auto</td>\n",
       "    </tr>\n",
       "    <tr>\n",
       "      <th>2</th>\n",
       "      <td>AI49188</td>\n",
       "      <td>F</td>\n",
       "      <td>Bachelor</td>\n",
       "      <td>48767.0</td>\n",
       "      <td>Nevada</td>\n",
       "      <td>1288743.17</td>\n",
       "      <td>Two-Door Car</td>\n",
       "      <td>108.0</td>\n",
       "      <td>566.472247</td>\n",
       "      <td>1/0/00</td>\n",
       "      <td>Personal Auto</td>\n",
       "    </tr>\n",
       "    <tr>\n",
       "      <th>3</th>\n",
       "      <td>WW63253</td>\n",
       "      <td>M</td>\n",
       "      <td>Bachelor</td>\n",
       "      <td>0.0</td>\n",
       "      <td>California</td>\n",
       "      <td>764586.18</td>\n",
       "      <td>SUV</td>\n",
       "      <td>106.0</td>\n",
       "      <td>529.881344</td>\n",
       "      <td>1/0/00</td>\n",
       "      <td>Corporate Auto</td>\n",
       "    </tr>\n",
       "    <tr>\n",
       "      <th>4</th>\n",
       "      <td>GA49547</td>\n",
       "      <td>M</td>\n",
       "      <td>High School or Below</td>\n",
       "      <td>36357.0</td>\n",
       "      <td>Washington</td>\n",
       "      <td>536307.65</td>\n",
       "      <td>Four-Door Car</td>\n",
       "      <td>68.0</td>\n",
       "      <td>17.269323</td>\n",
       "      <td>1/0/00</td>\n",
       "      <td>Personal Auto</td>\n",
       "    </tr>\n",
       "  </tbody>\n",
       "</table>\n",
       "</div>"
      ],
      "text/plain": [
       "  customer gender             education   income       state  \\\n",
       "0  RB50392    NaN                Master      0.0  Washington   \n",
       "1  QZ44356      F              Bachelor      0.0     Arizona   \n",
       "2  AI49188      F              Bachelor  48767.0      Nevada   \n",
       "3  WW63253      M              Bachelor      0.0  California   \n",
       "4  GA49547      M  High School or Below  36357.0  Washington   \n",
       "\n",
       "   customer lifetime value  vehicle class  monthly premium auto  \\\n",
       "0                      NaN  Four-Door Car                1000.0   \n",
       "1                697953.59  Four-Door Car                  94.0   \n",
       "2               1288743.17   Two-Door Car                 108.0   \n",
       "3                764586.18            SUV                 106.0   \n",
       "4                536307.65  Four-Door Car                  68.0   \n",
       "\n",
       "   total claim amount number of open complaints     policy type  \n",
       "0            2.704934                    1/0/00   Personal Auto  \n",
       "1         1131.464935                    1/0/00   Personal Auto  \n",
       "2          566.472247                    1/0/00   Personal Auto  \n",
       "3          529.881344                    1/0/00  Corporate Auto  \n",
       "4           17.269323                    1/0/00   Personal Auto  "
      ]
     },
     "execution_count": 33,
     "metadata": {},
     "output_type": "execute_result"
    }
   ],
   "source": [
    "data['customer lifetime value']=pd.to_numeric(data['customer lifetime value'], errors = 'coerce')\n",
    "data.dtypes\n",
    "data.head()"
   ]
  },
  {
   "cell_type": "code",
   "execution_count": 34,
   "id": "55e764b2",
   "metadata": {},
   "outputs": [
    {
     "data": {
      "text/html": [
       "<div>\n",
       "<style scoped>\n",
       "    .dataframe tbody tr th:only-of-type {\n",
       "        vertical-align: middle;\n",
       "    }\n",
       "\n",
       "    .dataframe tbody tr th {\n",
       "        vertical-align: top;\n",
       "    }\n",
       "\n",
       "    .dataframe thead th {\n",
       "        text-align: right;\n",
       "    }\n",
       "</style>\n",
       "<table border=\"1\" class=\"dataframe\">\n",
       "  <thead>\n",
       "    <tr style=\"text-align: right;\">\n",
       "      <th></th>\n",
       "      <th>customer</th>\n",
       "      <th>gender</th>\n",
       "      <th>education</th>\n",
       "      <th>income</th>\n",
       "      <th>state</th>\n",
       "      <th>customer lifetime value</th>\n",
       "      <th>vehicle class</th>\n",
       "      <th>monthly premium auto</th>\n",
       "      <th>total claim amount</th>\n",
       "      <th>number of open complaints</th>\n",
       "      <th>policy type</th>\n",
       "    </tr>\n",
       "  </thead>\n",
       "  <tbody>\n",
       "    <tr>\n",
       "      <th>12069</th>\n",
       "      <td>LA72316</td>\n",
       "      <td>M</td>\n",
       "      <td>Bachelor</td>\n",
       "      <td>71941.0</td>\n",
       "      <td>California</td>\n",
       "      <td>2.340599e+06</td>\n",
       "      <td>Four-Door Car</td>\n",
       "      <td>73.0</td>\n",
       "      <td>198.234764</td>\n",
       "      <td>0</td>\n",
       "      <td>Personal Auto</td>\n",
       "    </tr>\n",
       "    <tr>\n",
       "      <th>12070</th>\n",
       "      <td>PK87824</td>\n",
       "      <td>F</td>\n",
       "      <td>College</td>\n",
       "      <td>21604.0</td>\n",
       "      <td>California</td>\n",
       "      <td>3.096511e+05</td>\n",
       "      <td>Four-Door Car</td>\n",
       "      <td>79.0</td>\n",
       "      <td>379.200000</td>\n",
       "      <td>0</td>\n",
       "      <td>Corporate Auto</td>\n",
       "    </tr>\n",
       "    <tr>\n",
       "      <th>12071</th>\n",
       "      <td>TD14365</td>\n",
       "      <td>M</td>\n",
       "      <td>Bachelor</td>\n",
       "      <td>0.0</td>\n",
       "      <td>California</td>\n",
       "      <td>8.163890e+05</td>\n",
       "      <td>Four-Door Car</td>\n",
       "      <td>85.0</td>\n",
       "      <td>790.784983</td>\n",
       "      <td>3</td>\n",
       "      <td>Corporate Auto</td>\n",
       "    </tr>\n",
       "    <tr>\n",
       "      <th>12072</th>\n",
       "      <td>UP19263</td>\n",
       "      <td>M</td>\n",
       "      <td>College</td>\n",
       "      <td>21941.0</td>\n",
       "      <td>California</td>\n",
       "      <td>7.524442e+05</td>\n",
       "      <td>Four-Door Car</td>\n",
       "      <td>96.0</td>\n",
       "      <td>691.200000</td>\n",
       "      <td>0</td>\n",
       "      <td>Personal Auto</td>\n",
       "    </tr>\n",
       "    <tr>\n",
       "      <th>12073</th>\n",
       "      <td>Y167826</td>\n",
       "      <td>M</td>\n",
       "      <td>College</td>\n",
       "      <td>0.0</td>\n",
       "      <td>California</td>\n",
       "      <td>2.611837e+05</td>\n",
       "      <td>Two-Door Car</td>\n",
       "      <td>77.0</td>\n",
       "      <td>369.600000</td>\n",
       "      <td>0</td>\n",
       "      <td>Corporate Auto</td>\n",
       "    </tr>\n",
       "  </tbody>\n",
       "</table>\n",
       "</div>"
      ],
      "text/plain": [
       "      customer gender education   income       state  customer lifetime value  \\\n",
       "12069  LA72316      M  Bachelor  71941.0  California             2.340599e+06   \n",
       "12070  PK87824      F   College  21604.0  California             3.096511e+05   \n",
       "12071  TD14365      M  Bachelor      0.0  California             8.163890e+05   \n",
       "12072  UP19263      M   College  21941.0  California             7.524442e+05   \n",
       "12073  Y167826      M   College      0.0  California             2.611837e+05   \n",
       "\n",
       "       vehicle class  monthly premium auto  total claim amount  \\\n",
       "12069  Four-Door Car                  73.0          198.234764   \n",
       "12070  Four-Door Car                  79.0          379.200000   \n",
       "12071  Four-Door Car                  85.0          790.784983   \n",
       "12072  Four-Door Car                  96.0          691.200000   \n",
       "12073   Two-Door Car                  77.0          369.600000   \n",
       "\n",
       "      number of open complaints     policy type  \n",
       "12069                         0   Personal Auto  \n",
       "12070                         0  Corporate Auto  \n",
       "12071                         3  Corporate Auto  \n",
       "12072                         0   Personal Auto  \n",
       "12073                         0  Corporate Auto  "
      ]
     },
     "execution_count": 34,
     "metadata": {},
     "output_type": "execute_result"
    }
   ],
   "source": [
    "data['customer lifetime value']= data['customer lifetime value'].multiply(100)\n",
    "data.tail()"
   ]
  },
  {
   "cell_type": "code",
   "execution_count": 21,
   "id": "26a6124d",
   "metadata": {},
   "outputs": [
    {
     "data": {
      "text/plain": [
       "(9138, 11)"
      ]
     },
     "execution_count": 21,
     "metadata": {},
     "output_type": "execute_result"
    }
   ],
   "source": [
    "data_dropped = data.drop_duplicates()\n",
    "data_dropped.shape"
   ]
  },
  {
   "cell_type": "code",
   "execution_count": 22,
   "id": "1896c6ff",
   "metadata": {},
   "outputs": [
    {
     "data": {
      "text/plain": [
       "(2294, 11)"
      ]
     },
     "execution_count": 22,
     "metadata": {},
     "output_type": "execute_result"
    }
   ],
   "source": [
    "filtered = data.query('income < = 0' )\n",
    "filtered.shape"
   ]
  },
  {
   "cell_type": "code",
   "execution_count": null,
   "id": "b7bf358b",
   "metadata": {},
   "outputs": [],
   "source": []
  }
 ],
 "metadata": {
  "kernelspec": {
   "display_name": "Python 3 (ipykernel)",
   "language": "python",
   "name": "python3"
  },
  "language_info": {
   "codemirror_mode": {
    "name": "ipython",
    "version": 3
   },
   "file_extension": ".py",
   "mimetype": "text/x-python",
   "name": "python",
   "nbconvert_exporter": "python",
   "pygments_lexer": "ipython3",
   "version": "3.9.7"
  },
  "toc": {
   "base_numbering": 1,
   "nav_menu": {},
   "number_sections": true,
   "sideBar": true,
   "skip_h1_title": false,
   "title_cell": "Table of Contents",
   "title_sidebar": "Contents",
   "toc_cell": true,
   "toc_position": {},
   "toc_section_display": true,
   "toc_window_display": true
  }
 },
 "nbformat": 4,
 "nbformat_minor": 5
}
