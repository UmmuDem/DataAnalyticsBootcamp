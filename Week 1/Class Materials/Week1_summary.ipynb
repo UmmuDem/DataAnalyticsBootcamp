{
 "cells": [
  {
   "cell_type": "markdown",
   "id": "ac2b2af8",
   "metadata": {},
   "source": [
    "# conda environment : \n",
    "\n",
    "We created a conda environment(named DA_env) containing   \n",
    "\n",
    "  + Scipy   \n",
    "\n",
    "  + Numpy (included with scipy)\n",
    "\n",
    "  + Scikit-Learn\n",
    "\n",
    "  + Pandas\n",
    "\n",
    "  + Matplotlib\n",
    "\n",
    "  + Seaborn\n",
    "\n",
    "to import new packages, just google it and copy paste that on terminal. process y/n: y\n",
    "\n",
    "conda activate DA_env   everyday activate your environment\n",
    "conda deactivate        end of the day action"
   ]
  },
  {
   "cell_type": "markdown",
   "id": "39e84fc3",
   "metadata": {},
   "source": [
    "## terminal orders :\n",
    "* ls - to see what is in the directory\n",
    "* cd - to see where you are\n",
    "* cd Name - to change the directory\n",
    "* echo something - to print something\n"
   ]
  },
  {
   "cell_type": "code",
   "execution_count": 1,
   "id": "7c411aa9",
   "metadata": {},
   "outputs": [],
   "source": [
    "import numpy as np\n",
    "import pandas as pd"
   ]
  },
  {
   "cell_type": "markdown",
   "id": "34d3c25a",
   "metadata": {},
   "source": [
    "## to read a csv (comma seperated values) document"
   ]
  },
  {
   "cell_type": "code",
   "execution_count": null,
   "id": "f6c6ad6b",
   "metadata": {},
   "outputs": [],
   "source": [
    "\n",
    "name_you_choose = pd.read_csv('documentname.csv')  # needs pandas\n"
   ]
  },
  {
   "cell_type": "markdown",
   "id": "35067c9a",
   "metadata": {},
   "source": [
    "## to read a text file, txt."
   ]
  },
  {
   "cell_type": "code",
   "execution_count": null,
   "id": "32420104",
   "metadata": {},
   "outputs": [],
   "source": [
    "name_you_choose = pd.read_csv(\"file.txt\", sep = \"\\t\")"
   ]
  },
  {
   "cell_type": "markdown",
   "id": "0549e51e",
   "metadata": {},
   "source": [
    "## to read an excel file."
   ]
  },
  {
   "cell_type": "code",
   "execution_count": null,
   "id": "f55c9389",
   "metadata": {},
   "outputs": [],
   "source": [
    "name_you_choose = pd.read_excel('filename.xlsx’, sheet_name='Sheet1')\n",
    "                  pd.read_excel('data for class/file3.xlsx', engine='openpyxl')\n",
    "                            "
   ]
  },
  {
   "cell_type": "markdown",
   "id": "0a97760b",
   "metadata": {},
   "source": [
    "# things we can do with files"
   ]
  },
  {
   "cell_type": "code",
   "execution_count": null,
   "id": "3366ab53",
   "metadata": {},
   "outputs": [],
   "source": [
    "file.info()  # gives columns' information, especially types of columns\n",
    "file.describe() # gives count, mean,std, etc for numerical columns\n",
    "file.columns() # gives columns as a list\n",
    "columns=file.columns()"
   ]
  },
  {
   "cell_type": "code",
   "execution_count": null,
   "id": "5f2e7218",
   "metadata": {},
   "outputs": [],
   "source": [
    "data = pd.DataFrame(columns=columns)    # create data frame with file.columns"
   ]
  },
  {
   "cell_type": "markdown",
   "id": "314ee084",
   "metadata": {},
   "source": [
    "## concatanate files"
   ]
  },
  {
   "cell_type": "code",
   "execution_count": null,
   "id": "e75214e2",
   "metadata": {},
   "outputs": [],
   "source": [
    "data = pd.concat([data,file1,file2,file3,file4],axis=0) # concatanate files back to back."
   ]
  },
  {
   "cell_type": "code",
   "execution_count": null,
   "id": "517cf8f9",
   "metadata": {},
   "outputs": [],
   "source": [
    "# making column names lowercase\n",
    "\n",
    "cols=[]\n",
    "for i in range(len(data.columns)):\n",
    "    cols.append(data.columns[i].lower())\n",
    "\n",
    "#data.columns.lowercase()\n",
    "data.columns = cols"
   ]
  },
  {
   "cell_type": "code",
   "execution_count": null,
   "id": "4537956e",
   "metadata": {},
   "outputs": [],
   "source": [
    "data.head()  # first 5 rows\n",
    "data.tail()  # last 5 rows\n",
    "data.shape   # number of columns and rows\n",
    "data.dtypes  # data types of columns\n",
    "data['gender'].unique() #shows unique values in chosen column\n"
   ]
  },
  {
   "cell_type": "code",
   "execution_count": null,
   "id": "427cdf92",
   "metadata": {},
   "outputs": [],
   "source": [
    "datanew = data.drop(['controln','hv1'],axis=1)  #drop columns named controln and hv1"
   ]
  },
  {
   "cell_type": "code",
   "execution_count": null,
   "id": "3cc9a821",
   "metadata": {},
   "outputs": [],
   "source": [
    "datanew.reset_index(drop=True,inplace=True)  #reset index of concatanated data"
   ]
  },
  {
   "cell_type": "code",
   "execution_count": null,
   "id": "80a88775",
   "metadata": {},
   "outputs": [],
   "source": [
    "filtered = datanew[(datanew['state']=='FL') & (datanew['gender']=='M')]  #filter data according to columns\n",
    "\n",
    "filtered = datanew.query('state == \"CA\" & gender==\"F\" & avggift>10' )  #another way to filter"
   ]
  },
  {
   "cell_type": "markdown",
   "id": "07a3c38c",
   "metadata": {},
   "source": [
    "# Data Cleaning"
   ]
  },
  {
   "cell_type": "code",
   "execution_count": null,
   "id": "d08add87",
   "metadata": {},
   "outputs": [],
   "source": [
    "data['hv1'].astype('float',errors='ignore')  #changes the types of columns\n",
    "data['hv1'] = pd.to_numeric(data['hv1'], errors = 'coerce') #forces to change the types of column"
   ]
  },
  {
   "cell_type": "code",
   "execution_count": null,
   "id": "c4ad9397",
   "metadata": {},
   "outputs": [],
   "source": [
    "data['hv1'].value_counts()   #counts the different values in column hv1"
   ]
  },
  {
   "cell_type": "code",
   "execution_count": null,
   "id": "a48c2b1d",
   "metadata": {},
   "outputs": [],
   "source": [
    "data = data.drop_duplicates()  #drops duplicates"
   ]
  },
  {
   "cell_type": "markdown",
   "id": "0c820455",
   "metadata": {},
   "source": [
    "## Extract resulting data frame as csv"
   ]
  },
  {
   "cell_type": "code",
   "execution_count": null,
   "id": "5e7fef94",
   "metadata": {},
   "outputs": [],
   "source": [
    "data.to_csv('filename.csv',index=False)"
   ]
  },
  {
   "cell_type": "markdown",
   "id": "cfd49554",
   "metadata": {},
   "source": [
    "# Nulls"
   ]
  },
  {
   "cell_type": "code",
   "execution_count": null,
   "id": "1f147ace",
   "metadata": {},
   "outputs": [],
   "source": [
    "#data is null = .isna() use this if we have any complete row nulls\n",
    "data.isna().all(axis=1)"
   ]
  },
  {
   "cell_type": "code",
   "execution_count": null,
   "id": "28fb429d",
   "metadata": {},
   "outputs": [],
   "source": [
    "# this finds what percentage of that row is null\n",
    "#nulls snapshot table\n",
    "nullsdf = pd.DataFrame(round(data.isna().sum()/len(data),4)*100)\n",
    "nullsdf = nullsdf.rename(columns={'index':'header',0:'proportionnulls'})"
   ]
  },
  {
   "cell_type": "code",
   "execution_count": null,
   "id": "af134605",
   "metadata": {},
   "outputs": [],
   "source": [
    "# this shows the nulls of chosen column.\n",
    "data[data['gender'].isna() == True]"
   ]
  },
  {
   "cell_type": "code",
   "execution_count": null,
   "id": "c670d614",
   "metadata": {},
   "outputs": [],
   "source": [
    "# This at least turns null into string\n",
    "data['gender'] = data['gender'].fillna('unknown')"
   ]
  },
  {
   "cell_type": "markdown",
   "id": "de994520",
   "metadata": {},
   "source": [
    "## numeric columns - fill in - fill with mean"
   ]
  },
  {
   "cell_type": "code",
   "execution_count": null,
   "id": "cbf6fcd3",
   "metadata": {},
   "outputs": [],
   "source": [
    "hv1_mean = data['hv1'].mean()\n",
    "data['hv1']=data['hv1'].fillna(hv1_mean)   # first find the mean of numeric columns,then fill nulls with mean"
   ]
  },
  {
   "cell_type": "markdown",
   "id": "6d0ca6d1",
   "metadata": {},
   "source": [
    "# function definition - lambda"
   ]
  },
  {
   "cell_type": "code",
   "execution_count": null,
   "id": "fd822eec",
   "metadata": {},
   "outputs": [],
   "source": [
    "data['gender'] = list(map(lambda x: x.upper(), data['gender']))  # makes everything in the list of columns data[gender]\n",
    "                                                                 # upper case."
   ]
  },
  {
   "cell_type": "code",
   "execution_count": null,
   "id": "802ba9a1",
   "metadata": {},
   "outputs": [],
   "source": [
    "def clean_gender(x):\n",
    "    if x in ['M','MALE']:\n",
    "        return 'M'\n",
    "    elif x.startswith('F'):\n",
    "        return 'F'\n",
    "    else:\n",
    "        return 'unknown'\n",
    "    \n",
    "data['gender']= list(map(clean_gender,data['gender']))  #applies clean_gender function to all elts in given column"
   ]
  },
  {
   "cell_type": "markdown",
   "id": "224947d9",
   "metadata": {},
   "source": [
    "# Plotting"
   ]
  },
  {
   "cell_type": "code",
   "execution_count": null,
   "id": "9da278c8",
   "metadata": {},
   "outputs": [],
   "source": [
    "import matplotlib.pyplot as plt \n",
    "import seaborn as sns"
   ]
  },
  {
   "cell_type": "code",
   "execution_count": null,
   "id": "f9c1a48c",
   "metadata": {},
   "outputs": [],
   "source": [
    "df['gender'].value_counts().plot(kind='bar',color='blue')  #counts the different values and plot them in a bar chart"
   ]
  },
  {
   "cell_type": "code",
   "execution_count": null,
   "id": "387d10b7",
   "metadata": {},
   "outputs": [],
   "source": []
  },
  {
   "cell_type": "code",
   "execution_count": null,
   "id": "ddbd0105",
   "metadata": {},
   "outputs": [],
   "source": []
  },
  {
   "cell_type": "markdown",
   "id": "4b51056a",
   "metadata": {},
   "source": []
  }
 ],
 "metadata": {
  "kernelspec": {
   "display_name": "Python 3 (ipykernel)",
   "language": "python",
   "name": "python3"
  },
  "language_info": {
   "codemirror_mode": {
    "name": "ipython",
    "version": 3
   },
   "file_extension": ".py",
   "mimetype": "text/x-python",
   "name": "python",
   "nbconvert_exporter": "python",
   "pygments_lexer": "ipython3",
   "version": "3.9.7"
  }
 },
 "nbformat": 4,
 "nbformat_minor": 5
}
